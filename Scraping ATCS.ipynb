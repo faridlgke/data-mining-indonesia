{
 "cells": [
  {
   "cell_type": "markdown",
   "id": "8cd2ee3d",
   "metadata": {},
   "source": [
    "## Note :\n",
    "<h4>1. Pengembangan klasifikasi waktu sebagai berikut :</h4>\n",
    "\n",
    "- Pagi (06.00 - 10.59)\n",
    "- Siang (11.00 - 14.59)\n",
    "- Sore (15.00 - 17.59)\n",
    "- Malam (18.00 - 23.59)\n",
    "- Dini Hari (00.00 - 03.59)\n",
    "- Subuh (04.00 - 05.59)"
   ]
  },
  {
   "cell_type": "code",
   "execution_count": 8,
   "id": "32e8de85",
   "metadata": {},
   "outputs": [],
   "source": [
    "import requests\n",
    "import m3u8\n",
    "import urllib3\n",
    "import os\n",
    "import glob\n",
    "from datetime import datetime\n",
    "import time\n",
    "import cv2\n",
    "\n",
    "from moviepy.editor import VideoFileClip, concatenate_videoclips\n",
    "import subprocess\n",
    "\n",
    "# Disable insecure request warnings\n",
    "urllib3.disable_warnings(urllib3.exceptions.InsecureRequestWarning)"
   ]
  },
  {
   "cell_type": "code",
   "execution_count": 9,
   "id": "109c7f0e",
   "metadata": {},
   "outputs": [],
   "source": [
    "def strip_end(text, suffix):\n",
    "    if not text.endswith(suffix):\n",
    "        return text\n",
    "    return text[:len(text)-len(suffix)]\n",
    "\n",
    "def download_file(url):\n",
    "    local_filename = url.split('/')[-1]\n",
    "    print(f'link download ts file: {url}')\n",
    "    \n",
    "    while True:\n",
    "        response = requests.get(url, stream=True, verify=False)\n",
    "        response.raise_for_status()\n",
    "        \n",
    "        # write response content to a file\n",
    "        with open(\"video.ts\", \"wb\") as f:\n",
    "            f.write(response.content)\n",
    "        \n",
    "        # check the size of the downloaded file\n",
    "        file_size = os.path.getsize(\"video.ts\")\n",
    "        if file_size < 10 * 1024:  # if file size is less than 10 KB\n",
    "            print(f\"Downloaded file is only {file_size} bytes. Retrying...\")\n",
    "            os.remove(\"video.ts\")  # delete the previous downloaded file\n",
    "            continue  # retry the download\n",
    "        else:\n",
    "            print(f\"Downloaded file size: {file_size} bytes\")\n",
    "            break  # file size is OK, exit the loop\n",
    "        \n",
    "    cur_path = os.getcwd()\n",
    "    ts_loc = cur_path + '/ts_files'\n",
    "    \n",
    "    if not os.path.exists(f'{ts_loc}'):\n",
    "        os.makedirs(f'{ts_loc}')\n",
    "        \n",
    "    f = open(f\"{ts_loc}/{local_filename}\", \"wb\")\n",
    "    f.write(response.content)\n",
    "    \n",
    "    return local_filename\n",
    "\n",
    "def mp4_conversion(file_path):\n",
    "    infile = file_path\n",
    "    outfile = file_path.replace('.ts','.mp4')\n",
    "    \n",
    "    pre_name = os.path.basename(file_path)\n",
    "    pos_name = pre_name.replace('.ts','.mp4')\n",
    "    \n",
    "    clip = VideoFileClip(infile)\n",
    "    clip.write_videofile(outfile, fps=20)\n",
    "    clip.close()\n",
    "    \n",
    "    del clip\n",
    "    \n",
    "    print(f'######### {pre_name} converted into {pos_name} #########')"
   ]
  },
  {
   "cell_type": "code",
   "execution_count": 10,
   "id": "fae1b79f",
   "metadata": {},
   "outputs": [],
   "source": [
    "m3u8_urls = [\n",
    "    {'url': \"https://atcs-dishub.bandung.go.id:1990/Kopo/stream.m3u8\", 'ts_path': 'https://atcs-dishub.bandung.go.id:1990/Kopo/' ,'region' : \"SP Soekarno Hatta - Kopo\", 'name': 'Kopo'}\n",
    "    , {'url': \"https://atcs-dishub.bandung.go.id:1990/GedebageUtara/stream.m3u8\", 'ts_path': 'https://atcs-dishub.bandung.go.id:1990/GedebageUtara/' ,'region' : \"SP Soekarno Hatta - Gedebage\", 'name': 'Gedebage Arah Utara'}\n",
    "    , {'url': \"https://atcs-dishub.bandung.go.id:1990/GedebageSel/stream.m3u8\", 'ts_path': 'https://atcs-dishub.bandung.go.id:1990/GedebageSelatan/' ,'region' : \"SP Soekarno Hatta - Gedebage\", 'name': 'Gedebage Arah Selatan'}\n",
    "    , {'url': \"https://atcs-dishub.bandung.go.id:1990/Buahbatu/stream.m3u8\", 'ts_path': 'https://atcs-dishub.bandung.go.id:1990/Buahbatu/' ,'region' : \"SP Soekarno Hatta - Buahbatu\", 'name': 'Buahbatu'}\n",
    "    , {'url': \"https://atcs-dishub.bandung.go.id:1990/Batununggal/stream.m3u8\", 'ts_path': 'https://atcs-dishub.bandung.go.id:1990/Batununggal/' ,'region' : \"SP Soekarno Hatta - Batununggal\", 'name': 'Batununggal'}\n",
    "    , {'url': \"https://atcs-dishub.bandung.go.id:1990/MochToha/stream.m3u8\", 'ts_path': 'https://atcs-dishub.bandung.go.id:1990/MochToha/' ,'region' : \"SP Soekarno Hatta - Moch. Toha\", 'name': 'Moch. Toha'}\n",
    "    , {'url': \"https://atcs-dishub.bandung.go.id:1990/IstanaPlaza/stream.m3u8\", 'ts_path': 'https://atcs-dishub.bandung.go.id:1990/IstanaPlaza/' ,'region' : \"PTZ SP. Istana Plaza\", 'name': 'Istana Plaza'}\n",
    "    , {'url': \"https://atcs-dishub.bandung.go.id:1990/CihampelasUtara/stream.m3u8\", 'ts_path': 'https://atcs-dishub.bandung.go.id:1990/CihampelasUtara/' ,'region' : \"PTZ SP. Istana Plaza\", 'name': 'Istana Plaza'}\n",
    "    , {'url': \"https://atcs-dishub.bandung.go.id:1990/laswiut/stream.m3u8\", 'ts_path': 'https://atcs-dishub.bandung.go.id:1990/laswiut/' ,'region' : \"Laswi\", 'name': 'Jalan Laswi'}\n",
    "    , {'url': \"https://atcs-dishub.bandung.go.id:1990/OtistaLingkar/stream.m3u8\", 'ts_path': 'https://atcs-dishub.bandung.go.id:1990/OtistaLingkar/' ,'region' : \"Otista\", 'name': 'Otista Lingkar'}\n",
    "    , {'url': \"https://atcs-dishub.bandung.go.id:1990/PtInti/stream.m3u8\", 'ts_path': 'https://atcs-dishub.bandung.go.id:1990/PtInti/' ,'region' : \"PT Inti\", 'name': 'PT Inti'}\n",
    "    , {'url': \"https://atcs-dishub.bandung.go.id:1990/MRamdan/stream.m3u8\", 'ts_path': 'https://atcs-dishub.bandung.go.id:1990/MRamdan/' ,'region' : \"M Ramdan\", 'name': 'M Ramdan'}\n",
    "    , {'url': \"https://atcs-dishub.bandung.go.id:1990/RamdanBarat/stream.m3u8\", 'ts_path': 'https://atcs-dishub.bandung.go.id:1990/RamdanBarat/' ,'region' : \"M Ramdan\", 'name': 'M Ramdan Barat'}\n",
    "    , {'url': \"https://atcs-dishub.bandung.go.id:1990/Sriwijaya/stream.m3u8\", 'ts_path': 'https://atcs-dishub.bandung.go.id:1990/Sriwijaya/' ,'region' : \"Sriwijaya\", 'name': 'Sriwijaya'}\n",
    "    , {'url': \"https://atcs-dishub.bandung.go.id:1990/BuahBatuLingkar/stream.m3u8\", 'ts_path': 'https://atcs-dishub.bandung.go.id:1990/BuahBatuLingkar/' ,'region' : \"Buah Batu Lingkar\", 'name': 'Lingkar Buah Batu'}\n",
    "    , {'url': \"https://atcs-dishub.bandung.go.id:1990/Martanegara/stream.m3u8\", 'ts_path': 'https://atcs-dishub.bandung.go.id:1990/Martanegara/' ,'region' : \"Martanegara\", 'name': 'Martanegara'}\n",
    "    , {'url': \"https://atcs-dishub.bandung.go.id:1990/TalagaBodas/stream.m3u8\", 'ts_path': 'https://atcs-dishub.bandung.go.id:1990/TalagaBodas/' ,'region' : \"Talaga Bodas\", 'name': 'Talaga Bodas'}\n",
    "    , {'url': \"https://atcs-dishub.bandung.go.id:1990/GatsuLingkar/stream.m3u8\", 'ts_path': 'https://atcs-dishub.bandung.go.id:1990/GatsuLingkar/' ,'region' : \"Gatsu Lingkar\", 'name': 'Gatsu Lingkar'}\n",
    "]"
   ]
  },
  {
   "cell_type": "code",
   "execution_count": 11,
   "id": "42d39876",
   "metadata": {},
   "outputs": [],
   "source": [
    "waktu_now = datetime.today().strftime(\"%Y-%m-%d-%H\")\n",
    "jam_kejadian = int(waktu_now[-2:])"
   ]
  },
  {
   "cell_type": "code",
   "execution_count": 12,
   "id": "914265be",
   "metadata": {
    "scrolled": true
   },
   "outputs": [
    {
     "name": "stdout",
     "output_type": "stream",
     "text": [
      "########## Akan download cctv daerah : Gatsu Lingkar\n",
      "downloading seg355.ts\n",
      "link download ts file: https://atcs-dishub.bandung.go.id:1990/GatsuLingkar/seg355.ts\n",
      "Downloaded file size: 96256 bytes\n",
      "downloading seg356.ts\n",
      "link download ts file: https://atcs-dishub.bandung.go.id:1990/GatsuLingkar/seg356.ts\n",
      "Downloaded file size: 96068 bytes\n",
      "downloading seg357.ts\n",
      "link download ts file: https://atcs-dishub.bandung.go.id:1990/GatsuLingkar/seg357.ts\n",
      "Downloaded file size: 128028 bytes\n",
      "downloading seg358.ts\n",
      "link download ts file: https://atcs-dishub.bandung.go.id:1990/GatsuLingkar/seg358.ts\n",
      "Downloaded file size: 157732 bytes\n",
      "downloading seg359.ts\n",
      "link download ts file: https://atcs-dishub.bandung.go.id:1990/GatsuLingkar/seg359.ts\n",
      "Downloaded file size: 154536 bytes\n",
      "downloading seg360.ts\n",
      "link download ts file: https://atcs-dishub.bandung.go.id:1990/GatsuLingkar/seg360.ts\n",
      "Downloaded file size: 150400 bytes\n",
      "downloading seg361.ts\n",
      "link download ts file: https://atcs-dishub.bandung.go.id:1990/GatsuLingkar/seg361.ts\n",
      "Downloaded file size: 149084 bytes\n",
      "downloading seg356.ts\n",
      "link download ts file: https://atcs-dishub.bandung.go.id:1990/GatsuLingkar/seg356.ts\n",
      "Downloaded file size: 96068 bytes\n",
      "downloading seg357.ts\n",
      "link download ts file: https://atcs-dishub.bandung.go.id:1990/GatsuLingkar/seg357.ts\n",
      "Downloaded file size: 128028 bytes\n",
      "downloading seg358.ts\n",
      "link download ts file: https://atcs-dishub.bandung.go.id:1990/GatsuLingkar/seg358.ts\n",
      "Downloaded file size: 157732 bytes\n",
      "downloading seg359.ts\n",
      "link download ts file: https://atcs-dishub.bandung.go.id:1990/GatsuLingkar/seg359.ts\n",
      "Downloaded file size: 154536 bytes\n",
      "downloading seg360.ts\n",
      "link download ts file: https://atcs-dishub.bandung.go.id:1990/GatsuLingkar/seg360.ts\n",
      "Downloaded file size: 150400 bytes\n",
      "downloading seg361.ts\n",
      "link download ts file: https://atcs-dishub.bandung.go.id:1990/GatsuLingkar/seg361.ts\n",
      "Downloaded file size: 149084 bytes\n",
      "downloading seg362.ts\n",
      "link download ts file: https://atcs-dishub.bandung.go.id:1990/GatsuLingkar/seg362.ts\n",
      "Downloaded file size: 128028 bytes\n",
      "downloading seg356.ts\n",
      "link download ts file: https://atcs-dishub.bandung.go.id:1990/GatsuLingkar/seg356.ts\n",
      "Downloaded file size: 96068 bytes\n",
      "downloading seg357.ts\n",
      "link download ts file: https://atcs-dishub.bandung.go.id:1990/GatsuLingkar/seg357.ts\n",
      "Downloaded file size: 128028 bytes\n",
      "downloading seg358.ts\n",
      "link download ts file: https://atcs-dishub.bandung.go.id:1990/GatsuLingkar/seg358.ts\n",
      "Downloaded file size: 157732 bytes\n",
      "downloading seg359.ts\n",
      "link download ts file: https://atcs-dishub.bandung.go.id:1990/GatsuLingkar/seg359.ts\n",
      "Downloaded file size: 154536 bytes\n",
      "downloading seg360.ts\n",
      "link download ts file: https://atcs-dishub.bandung.go.id:1990/GatsuLingkar/seg360.ts\n",
      "Downloaded file size: 150400 bytes\n",
      "downloading seg361.ts\n",
      "link download ts file: https://atcs-dishub.bandung.go.id:1990/GatsuLingkar/seg361.ts\n",
      "Downloaded file size: 149084 bytes\n",
      "downloading seg362.ts\n",
      "link download ts file: https://atcs-dishub.bandung.go.id:1990/GatsuLingkar/seg362.ts\n",
      "Downloaded file size: 128028 bytes\n",
      "Moviepy - Building video C:\\Users\\GE00000668\\Documents\\Scraping/ts_files\\seg355.mp4.\n",
      "Moviepy - Writing video C:\\Users\\GE00000668\\Documents\\Scraping/ts_files\\seg355.mp4\n",
      "\n"
     ]
    },
    {
     "name": "stderr",
     "output_type": "stream",
     "text": [
      "                                                                                                                       \r"
     ]
    },
    {
     "name": "stdout",
     "output_type": "stream",
     "text": [
      "Moviepy - Done !\n",
      "Moviepy - video ready C:\\Users\\GE00000668\\Documents\\Scraping/ts_files\\seg355.mp4\n",
      "######### seg355.ts converted into seg355.mp4 #########\n",
      "berhasil konversi ke mp4\n",
      "Moviepy - Building video C:\\Users\\GE00000668\\Documents\\Scraping/ts_files\\seg356.mp4.\n",
      "Moviepy - Writing video C:\\Users\\GE00000668\\Documents\\Scraping/ts_files\\seg356.mp4\n",
      "\n"
     ]
    },
    {
     "name": "stderr",
     "output_type": "stream",
     "text": [
      "                                                                                                                       \r"
     ]
    },
    {
     "name": "stdout",
     "output_type": "stream",
     "text": [
      "Moviepy - Done !\n",
      "Moviepy - video ready C:\\Users\\GE00000668\\Documents\\Scraping/ts_files\\seg356.mp4\n",
      "######### seg356.ts converted into seg356.mp4 #########\n",
      "berhasil konversi ke mp4\n",
      "Moviepy - Building video C:\\Users\\GE00000668\\Documents\\Scraping/ts_files\\seg357.mp4.\n",
      "Moviepy - Writing video C:\\Users\\GE00000668\\Documents\\Scraping/ts_files\\seg357.mp4\n",
      "\n"
     ]
    },
    {
     "name": "stderr",
     "output_type": "stream",
     "text": [
      "                                                                                                                       \r"
     ]
    },
    {
     "name": "stdout",
     "output_type": "stream",
     "text": [
      "Moviepy - Done !\n",
      "Moviepy - video ready C:\\Users\\GE00000668\\Documents\\Scraping/ts_files\\seg357.mp4\n",
      "######### seg357.ts converted into seg357.mp4 #########\n",
      "berhasil konversi ke mp4\n",
      "Moviepy - Building video C:\\Users\\GE00000668\\Documents\\Scraping/ts_files\\seg358.mp4.\n",
      "Moviepy - Writing video C:\\Users\\GE00000668\\Documents\\Scraping/ts_files\\seg358.mp4\n",
      "\n"
     ]
    },
    {
     "name": "stderr",
     "output_type": "stream",
     "text": [
      "                                                                                                                       \r"
     ]
    },
    {
     "name": "stdout",
     "output_type": "stream",
     "text": [
      "Moviepy - Done !\n",
      "Moviepy - video ready C:\\Users\\GE00000668\\Documents\\Scraping/ts_files\\seg358.mp4\n",
      "######### seg358.ts converted into seg358.mp4 #########\n",
      "berhasil konversi ke mp4\n",
      "Moviepy - Building video C:\\Users\\GE00000668\\Documents\\Scraping/ts_files\\seg359.mp4.\n",
      "Moviepy - Writing video C:\\Users\\GE00000668\\Documents\\Scraping/ts_files\\seg359.mp4\n",
      "\n"
     ]
    },
    {
     "name": "stderr",
     "output_type": "stream",
     "text": [
      "                                                                                                                       \r"
     ]
    },
    {
     "name": "stdout",
     "output_type": "stream",
     "text": [
      "Moviepy - Done !\n",
      "Moviepy - video ready C:\\Users\\GE00000668\\Documents\\Scraping/ts_files\\seg359.mp4\n",
      "######### seg359.ts converted into seg359.mp4 #########\n",
      "berhasil konversi ke mp4\n",
      "Moviepy - Building video C:\\Users\\GE00000668\\Documents\\Scraping/ts_files\\seg360.mp4.\n",
      "Moviepy - Writing video C:\\Users\\GE00000668\\Documents\\Scraping/ts_files\\seg360.mp4\n",
      "\n"
     ]
    },
    {
     "name": "stderr",
     "output_type": "stream",
     "text": [
      "                                                                                                                       \r"
     ]
    },
    {
     "name": "stdout",
     "output_type": "stream",
     "text": [
      "Moviepy - Done !\n",
      "Moviepy - video ready C:\\Users\\GE00000668\\Documents\\Scraping/ts_files\\seg360.mp4\n",
      "######### seg360.ts converted into seg360.mp4 #########\n",
      "berhasil konversi ke mp4\n",
      "Moviepy - Building video C:\\Users\\GE00000668\\Documents\\Scraping/ts_files\\seg361.mp4.\n",
      "Moviepy - Writing video C:\\Users\\GE00000668\\Documents\\Scraping/ts_files\\seg361.mp4\n",
      "\n"
     ]
    },
    {
     "name": "stderr",
     "output_type": "stream",
     "text": [
      "                                                                                                                       \r"
     ]
    },
    {
     "name": "stdout",
     "output_type": "stream",
     "text": [
      "Moviepy - Done !\n",
      "Moviepy - video ready C:\\Users\\GE00000668\\Documents\\Scraping/ts_files\\seg361.mp4\n",
      "######### seg361.ts converted into seg361.mp4 #########\n",
      "berhasil konversi ke mp4\n",
      "Moviepy - Building video C:\\Users\\GE00000668\\Documents\\Scraping/ts_files\\seg362.mp4.\n",
      "Moviepy - Writing video C:\\Users\\GE00000668\\Documents\\Scraping/ts_files\\seg362.mp4\n",
      "\n"
     ]
    },
    {
     "name": "stderr",
     "output_type": "stream",
     "text": [
      "                                                                                                                       \r"
     ]
    },
    {
     "name": "stdout",
     "output_type": "stream",
     "text": [
      "Moviepy - Done !\n",
      "Moviepy - video ready C:\\Users\\GE00000668\\Documents\\Scraping/ts_files\\seg362.mp4\n",
      "######### seg362.ts converted into seg362.mp4 #########\n",
      "berhasil konversi ke mp4\n",
      "membuat file : Gatsu Lingkar_2023-05-09-14.mp4\n",
      "Moviepy - Building video C:\\Users\\GE00000668\\Documents\\Scraping/output_file/Gatsu Lingkar/Gatsu Lingkar_2023-05-09-14.mp4.\n",
      "Moviepy - Writing video C:\\Users\\GE00000668\\Documents\\Scraping/output_file/Gatsu Lingkar/Gatsu Lingkar_2023-05-09-14.mp4\n",
      "\n"
     ]
    },
    {
     "name": "stderr",
     "output_type": "stream",
     "text": [
      "                                                                                                                       \r"
     ]
    },
    {
     "name": "stdout",
     "output_type": "stream",
     "text": [
      "Moviepy - Done !\n",
      "Moviepy - video ready C:\\Users\\GE00000668\\Documents\\Scraping/output_file/Gatsu Lingkar/Gatsu Lingkar_2023-05-09-14.mp4\n"
     ]
    }
   ],
   "source": [
    "for link in m3u8_urls[-1:]:\n",
    "    print(f\"########## Akan download cctv daerah : {link['name']}\")\n",
    "    \n",
    "    url_link = link['url']\n",
    "    \n",
    "    max_retries = 3\n",
    "    retry_wait_time = 5\n",
    "    \n",
    "    for trial in range(max_retries):\n",
    "        try:\n",
    "            r = requests.get(url_link, verify=False)\n",
    "            if r.status_code == 404:\n",
    "                print(f\"########## WARNING Daerah : {link['name']} tidak bisa diakses\")\n",
    "                continue\n",
    "            m3u8_master = m3u8.loads(r.text)\n",
    "\n",
    "            # print statement can be deleted, they were placed prior to debugging purposes.\n",
    "            ts_path = link['ts_path']\n",
    "            for seg in m3u8_master.data['segments']:\n",
    "                url = ts_path + seg['uri']\n",
    "                print(f'downloading {seg[\"uri\"]}')\n",
    "                download_file(url)  #download_file is a self made function\n",
    "                \n",
    "        except :\n",
    "            print(f\"HTTP error occurred, retrying in {retry_wait_time} seconds...\")\n",
    "            time.sleep(retry_wait_time)\n",
    "    \n",
    "    cur_path = os.getcwd()\n",
    "    ts_loc = cur_path + '/ts_files'\n",
    "    \n",
    "    ts_files = glob.glob(f\"{ts_loc}/*.ts\")\n",
    "    ts_files.sort()\n",
    "    \n",
    "    for ts in ts_files:\n",
    "        try:\n",
    "            mp4_conversion(ts)\n",
    "            print('berhasil konversi ke mp4')\n",
    "        except:\n",
    "            print(f'cannot convert {os.path.basename(ts)}')\n",
    "    \n",
    "    mp4_files = glob.glob(f\"{ts_loc}/*.mp4\")\n",
    "    mp4_files.sort()\n",
    "    \n",
    "    wadah_video = []\n",
    "    for vid in mp4_files:\n",
    "        func_vid = VideoFileClip(vid)\n",
    "        wadah_video += [func_vid]\n",
    "\n",
    "    # Concat them\n",
    "    try:\n",
    "        final = concatenate_videoclips(wadah_video)\n",
    "        daerah = link['name']\n",
    "        final_name = f'{daerah}_{waktu_now}.mp4'\n",
    "    except:\n",
    "        print(f\"Gagal dapat CCTV {link['name']}\")\n",
    "        continue\n",
    "    \n",
    "    # Write output to the file\n",
    "    output_path = f\"{cur_path}/output_file\"\n",
    "    namadaerah = f\"{link['name']}\"\n",
    "    folder_daerah = f\"{output_path}/{namadaerah}\"\n",
    "    \n",
    "    if not os.path.exists(f'{folder_daerah}'):\n",
    "        os.makedirs(f'{folder_daerah}')\n",
    "    \n",
    "    print(f'membuat file : {final_name}')\n",
    "    final.write_videofile(f'{folder_daerah}/{final_name}')\n",
    "    \n",
    "    for vid in mp4_files:\n",
    "        try:\n",
    "            os.remove(f\"{vid}\")\n",
    "        except:\n",
    "            print(f'cannot delete yet')\n",
    "    \n",
    "    for ts in glob.glob(f\"{ts_loc}/*.ts\"):\n",
    "        try:\n",
    "            os.unlink(ts)\n",
    "            os.remove(f\"{ts}\")\n",
    "            print('berhasil hapus ts file')\n",
    "        except:\n",
    "            pass"
   ]
  },
  {
   "cell_type": "code",
   "execution_count": 6,
   "id": "40bc03dd",
   "metadata": {},
   "outputs": [],
   "source": [
    "video_path = f'{folder_daerah}/{final_name}'\n",
    "output_pic = f\"{cur_path}/output_pic\"\n",
    "folder_daerah_gambar = f\"{output_pic}/{daerah}\"\n",
    "\n",
    "if not os.path.exists(f'{folder_daerah_gambar}'):\n",
    "    os.makedirs(f'{folder_daerah_gambar}')\n",
    "    os.makedirs(f'{folder_daerah_gambar}/1. Pagi')\n",
    "    os.makedirs(f'{folder_daerah_gambar}/2. Siang')\n",
    "    os.makedirs(f'{folder_daerah_gambar}/3. Sore')\n",
    "    os.makedirs(f'{folder_daerah_gambar}/4. Malam')\n",
    "    os.makedirs(f'{folder_daerah_gambar}/5. Dini Hari')\n",
    "    os.makedirs(f'{folder_daerah_gambar}/6. Subuh')\n",
    "\n",
    "vidcap = cv2.VideoCapture(video_path)"
   ]
  },
  {
   "cell_type": "code",
   "execution_count": 7,
   "id": "a5d2ad90",
   "metadata": {},
   "outputs": [
    {
     "name": "stdout",
     "output_type": "stream",
     "text": [
      "berhasil hapus video file\n"
     ]
    }
   ],
   "source": [
    "def getFrame(sec, count):\n",
    "    vidcap.set(cv2.CAP_PROP_POS_MSEC,sec*1000)\n",
    "    hasFrames,image = vidcap.read()\n",
    "    if hasFrames:\n",
    "        if 6 <= jam_kejadian < 10:\n",
    "            cv2.imwrite(f\"{folder_daerah_gambar}/1. Pagi/{daerah.lower()}_{waktu_now}_{count}.jpg\",image)\n",
    "        elif 11 <= jam_kejadian < 15:\n",
    "            cv2.imwrite(f\"{folder_daerah_gambar}/2. Siang/{daerah.lower()}_{waktu_now}_{count}.jpg\",image)\n",
    "        elif 15 <= jam_kejadian < 18:\n",
    "            cv2.imwrite(f\"{folder_daerah_gambar}/3. Sore/{daerah.lower()}_{waktu_now}_{count}.jpg\",image)\n",
    "        elif 18 <= jam_kejadian < 24:\n",
    "            cv2.imwrite(f\"{folder_daerah_gambar}/4. Malam/{daerah.lower()}_{waktu_now}_{count}.jpg\",image)\n",
    "        elif 0 <= jam_kejadian < 4:\n",
    "            cv2.imwrite(f\"{folder_daerah_gambar}/5. Dini Hari/{daerah.lower()}_{waktu_now}_{count}.jpg\",image)\n",
    "        else :\n",
    "            cv2.imwrite(f\"{folder_daerah_gambar}/6. Subuh/{daerah.lower()}_{waktu_now}_{count}.jpg\",image)\n",
    "            \n",
    "    return hasFrames\n",
    "\n",
    "sec = 0\n",
    "frameRate = 1 #//it will capture image in each 1 second\n",
    "\n",
    "count = 1\n",
    "\n",
    "if 6 <= jam_kejadian < 10:\n",
    "    while os.path.exists(f\"{folder_daerah_gambar}/1. Pagi/{daerah.lower()}_{waktu_now}_{count}.jpg\"):\n",
    "        count += 1\n",
    "elif 11 <= jam_kejadian < 15:\n",
    "    while os.path.exists(f\"{folder_daerah_gambar}/2. Siang/{daerah.lower()}_{waktu_now}_{count}.jpg\"):\n",
    "        count += 1\n",
    "elif 15 <= jam_kejadian < 18:\n",
    "    while os.path.exists(f\"{folder_daerah_gambar}/3. Sore/{daerah.lower()}_{waktu_now}_{count}.jpg\"):\n",
    "        count += 1\n",
    "elif 18 <= jam_kejadian < 24:\n",
    "    while os.path.exists(f\"{folder_daerah_gambar}/4. Malam/{daerah.lower()}_{waktu_now}_{count}.jpg\"):\n",
    "        count += 1\n",
    "elif 0 <= jam_kejadian < 4:\n",
    "    while os.path.exists(f\"{folder_daerah_gambar}/5. Dini Hari/{daerah.lower()}_{waktu_now}_{count}.jpg\"):\n",
    "        count += 1\n",
    "else :\n",
    "    while os.path.exists(f\"{folder_daerah_gambar}/6. Subuh/{daerah.lower()}_{waktu_now}_{count}.jpg\"):\n",
    "        count += 1\n",
    "\n",
    "success = getFrame(sec, count)\n",
    "initial = count\n",
    "\n",
    "while success:\n",
    "    count += 1\n",
    "    sec = sec + frameRate\n",
    "    sec = round(sec, 2)\n",
    "    success = getFrame(sec, count)\n",
    "\n",
    "vidcap.release()\n",
    "\n",
    "try:\n",
    "    os.remove(f\"{video_path}\")\n",
    "    print('berhasil hapus video file')\n",
    "except:\n",
    "    pass"
   ]
  },
  {
   "cell_type": "code",
   "execution_count": null,
   "id": "59a7c990",
   "metadata": {},
   "outputs": [],
   "source": []
  }
 ],
 "metadata": {
  "kernelspec": {
   "display_name": "Python 3 (ipykernel)",
   "language": "python",
   "name": "python3"
  },
  "language_info": {
   "codemirror_mode": {
    "name": "ipython",
    "version": 3
   },
   "file_extension": ".py",
   "mimetype": "text/x-python",
   "name": "python",
   "nbconvert_exporter": "python",
   "pygments_lexer": "ipython3",
   "version": "3.9.13"
  }
 },
 "nbformat": 4,
 "nbformat_minor": 5
}
