{
 "cells": [
  {
   "cell_type": "markdown",
   "id": "8cd2ee3d",
   "metadata": {},
   "source": [
    "## Note :\n",
    "<h4>1. Pengembangan klasifikasi waktu sebagai berikut :</h4>\n",
    "\n",
    "- Pagi (06.00 - 10.59)\n",
    "- Siang (11.00 - 14.59)\n",
    "- Sore (15.00 - 17.59)\n",
    "- Malam (18.00 - 23.59)\n",
    "- Dini Hari (00.00 - 03.59)\n",
    "- Subuh (04.00 - 05.59)"
   ]
  },
  {
   "cell_type": "code",
   "execution_count": 195,
   "id": "32e8de85",
   "metadata": {},
   "outputs": [],
   "source": [
    "import requests\n",
    "import m3u8\n",
    "import urllib3\n",
    "import os\n",
    "import shutil\n",
    "import glob\n",
    "from datetime import datetime\n",
    "import time\n",
    "import cv2\n",
    "import numpy as np\n",
    "import pandas as pd\n",
    "\n",
    "from moviepy.editor import VideoFileClip, concatenate_videoclips\n",
    "import subprocess\n",
    "\n",
    "# Disable insecure request warnings\n",
    "urllib3.disable_warnings(urllib3.exceptions.InsecureRequestWarning)\n",
    "\n",
    "import gspread\n",
    "import gspread_dataframe as gd\n",
    "from google.oauth2.service_account import Credentials"
   ]
  },
  {
   "cell_type": "code",
   "execution_count": 56,
   "id": "82664bc9",
   "metadata": {},
   "outputs": [],
   "source": [
    "from keras.preprocessing.image import ImageDataGenerator\n",
    "from tensorflow.keras.utils import load_img\n",
    "from keras.utils import to_categorical\n",
    "from sklearn.model_selection import train_test_split\n",
    "import random\n",
    "from tensorflow import keras"
   ]
  },
  {
   "cell_type": "code",
   "execution_count": 104,
   "id": "109c7f0e",
   "metadata": {},
   "outputs": [],
   "source": [
    "def strip_end(text, suffix):\n",
    "    if not text.endswith(suffix):\n",
    "        return text\n",
    "    return text[:len(text)-len(suffix)]\n",
    "\n",
    "def download_file(url):\n",
    "    local_filename = url.split('/')[-1]\n",
    "    print(f'link download ts file: {url}')\n",
    "    \n",
    "    while True:\n",
    "        response = requests.get(url, stream=True, verify=False)\n",
    "        response.raise_for_status()\n",
    "        \n",
    "        # write response content to a file\n",
    "        with open(\"video.ts\", \"wb\") as f:\n",
    "            f.write(response.content)\n",
    "        \n",
    "        # check the size of the downloaded file\n",
    "        file_size = os.path.getsize(\"video.ts\")\n",
    "        if file_size < 10 * 1024:  # if file size is less than 10 KB\n",
    "            print(f\"Downloaded file is only {file_size} bytes. Retrying...\")\n",
    "            os.remove(\"video.ts\")  # delete the previous downloaded file\n",
    "            continue  # retry the download\n",
    "        else:\n",
    "            print(f\"Downloaded file size: {file_size} bytes\")\n",
    "            break  # file size is OK, exit the loop\n",
    "        \n",
    "    cur_path = os.getcwd()\n",
    "    ts_loc = cur_path + '/ts_files'\n",
    "    \n",
    "    if not os.path.exists(f'{ts_loc}'):\n",
    "        os.makedirs(f'{ts_loc}')\n",
    "        \n",
    "    f = open(f\"{ts_loc}/{local_filename}\", \"wb\")\n",
    "    f.write(response.content)\n",
    "    \n",
    "    return local_filename\n",
    "\n",
    "def mp4_conversion(file_path):\n",
    "    infile = file_path\n",
    "    outfile = file_path.replace('.ts','.mp4')\n",
    "    \n",
    "    pre_name = os.path.basename(file_path)\n",
    "    pos_name = pre_name.replace('.ts','.mp4')\n",
    "    \n",
    "    clip = VideoFileClip(infile)\n",
    "    clip.write_videofile(outfile, fps=20)\n",
    "    clip.close()\n",
    "    \n",
    "    del clip\n",
    "    \n",
    "    print(f'######### {pre_name} converted into {pos_name} #########')\n",
    "    \n",
    "def getFrame(sec, count):\n",
    "    vidcap.set(cv2.CAP_PROP_POS_MSEC,sec*1000)\n",
    "    hasFrames,image = vidcap.read()\n",
    "    if hasFrames:\n",
    "        if 6 <= jam_kejadian < 10:\n",
    "            cv2.imwrite(f\"{folder_daerah_gambar}/1. Pagi/{daerah.lower()}_{waktu_now}_{count}.jpg\",image)\n",
    "        elif 11 <= jam_kejadian < 15:\n",
    "            cv2.imwrite(f\"{folder_daerah_gambar}/2. Siang/{daerah.lower()}_{waktu_now}_{count}.jpg\",image)\n",
    "        elif 15 <= jam_kejadian < 18:\n",
    "            cv2.imwrite(f\"{folder_daerah_gambar}/3. Sore/{daerah.lower()}_{waktu_now}_{count}.jpg\",image)\n",
    "        elif 18 <= jam_kejadian < 24:\n",
    "            cv2.imwrite(f\"{folder_daerah_gambar}/4. Malam/{daerah.lower()}_{waktu_now}_{count}.jpg\",image)\n",
    "        elif 0 <= jam_kejadian < 4:\n",
    "            cv2.imwrite(f\"{folder_daerah_gambar}/5. Dini Hari/{daerah.lower()}_{waktu_now}_{count}.jpg\",image)\n",
    "        else :\n",
    "            cv2.imwrite(f\"{folder_daerah_gambar}/6. Subuh/{daerah.lower()}_{waktu_now}_{count}.jpg\",image)\n",
    "            \n",
    "    return hasFrames"
   ]
  },
  {
   "cell_type": "code",
   "execution_count": 81,
   "id": "fae1b79f",
   "metadata": {},
   "outputs": [],
   "source": [
    "m3u8_urls = [\n",
    "    {'url': \"https://atcs-dishub.bandung.go.id:1990/Kopo/stream.m3u8\", 'ts_path': 'https://atcs-dishub.bandung.go.id:1990/Kopo/' ,'region' : \"SP Soekarno Hatta - Kopo\", 'name': 'Kopo'}\n",
    "    , {'url': \"https://atcs-dishub.bandung.go.id:1990/GedebageUtara/stream.m3u8\", 'ts_path': 'https://atcs-dishub.bandung.go.id:1990/GedebageUtara/' ,'region' : \"SP Soekarno Hatta - Gedebage\", 'name': 'Gedebage Arah Utara'}\n",
    "    , {'url': \"https://atcs-dishub.bandung.go.id:1990/GedebageSel/stream.m3u8\", 'ts_path': 'https://atcs-dishub.bandung.go.id:1990/GedebageSelatan/' ,'region' : \"SP Soekarno Hatta - Gedebage\", 'name': 'Gedebage Arah Selatan'}\n",
    "    , {'url': \"https://atcs-dishub.bandung.go.id:1990/Buahbatu/stream.m3u8\", 'ts_path': 'https://atcs-dishub.bandung.go.id:1990/Buahbatu/' ,'region' : \"SP Soekarno Hatta - Buahbatu\", 'name': 'Buahbatu'}\n",
    "    , {'url': \"https://atcs-dishub.bandung.go.id:1990/Batununggal/stream.m3u8\", 'ts_path': 'https://atcs-dishub.bandung.go.id:1990/Batununggal/' ,'region' : \"SP Soekarno Hatta - Batununggal\", 'name': 'Batununggal'}\n",
    "    , {'url': \"https://atcs-dishub.bandung.go.id:1990/MochToha/stream.m3u8\", 'ts_path': 'https://atcs-dishub.bandung.go.id:1990/MochToha/' ,'region' : \"SP Soekarno Hatta - Moch. Toha\", 'name': 'Moch. Toha'}\n",
    "    , {'url': \"https://atcs-dishub.bandung.go.id:1990/IstanaPlaza/stream.m3u8\", 'ts_path': 'https://atcs-dishub.bandung.go.id:1990/IstanaPlaza/' ,'region' : \"PTZ SP. Istana Plaza\", 'name': 'Istana Plaza'}\n",
    "    , {'url': \"https://atcs-dishub.bandung.go.id:1990/CihampelasUtara/stream.m3u8\", 'ts_path': 'https://atcs-dishub.bandung.go.id:1990/CihampelasUtara/' ,'region' : \"PTZ SP. Istana Plaza\", 'name': 'Istana Plaza'}\n",
    "    , {'url': \"https://atcs-dishub.bandung.go.id:1990/laswiut/stream.m3u8\", 'ts_path': 'https://atcs-dishub.bandung.go.id:1990/laswiut/' ,'region' : \"Laswi\", 'name': 'Jalan Laswi'}\n",
    "    , {'url': \"https://atcs-dishub.bandung.go.id:1990/OtistaLingkar/stream.m3u8\", 'ts_path': 'https://atcs-dishub.bandung.go.id:1990/OtistaLingkar/' ,'region' : \"Otista\", 'name': 'Otista Lingkar'}\n",
    "    , {'url': \"https://atcs-dishub.bandung.go.id:1990/PtInti/stream.m3u8\", 'ts_path': 'https://atcs-dishub.bandung.go.id:1990/PtInti/' ,'region' : \"PT Inti\", 'name': 'PT Inti'}\n",
    "    , {'url': \"https://atcs-dishub.bandung.go.id:1990/MRamdan/stream.m3u8\", 'ts_path': 'https://atcs-dishub.bandung.go.id:1990/MRamdan/' ,'region' : \"M Ramdan\", 'name': 'M Ramdan'}\n",
    "    , {'url': \"https://atcs-dishub.bandung.go.id:1990/RamdanBarat/stream.m3u8\", 'ts_path': 'https://atcs-dishub.bandung.go.id:1990/RamdanBarat/' ,'region' : \"M Ramdan\", 'name': 'M Ramdan Barat'}\n",
    "    , {'url': \"https://atcs-dishub.bandung.go.id:1990/Sriwijaya/stream.m3u8\", 'ts_path': 'https://atcs-dishub.bandung.go.id:1990/Sriwijaya/' ,'region' : \"Sriwijaya\", 'name': 'Sriwijaya'}\n",
    "    , {'url': \"https://atcs-dishub.bandung.go.id:1990/BuahBatuLingkar/stream.m3u8\", 'ts_path': 'https://atcs-dishub.bandung.go.id:1990/BuahBatuLingkar/' ,'region' : \"Buah Batu Lingkar\", 'name': 'Lingkar Buah Batu'}\n",
    "    , {'url': \"https://atcs-dishub.bandung.go.id:1990/Martanegara/stream.m3u8\", 'ts_path': 'https://atcs-dishub.bandung.go.id:1990/Martanegara/' ,'region' : \"Martanegara\", 'name': 'Martanegara'}\n",
    "    , {'url': \"https://atcs-dishub.bandung.go.id:1990/TalagaBodas/stream.m3u8\", 'ts_path': 'https://atcs-dishub.bandung.go.id:1990/TalagaBodas/' ,'region' : \"Talaga Bodas\", 'name': 'Talaga Bodas'}\n",
    "    , {'url': \"https://atcs-dishub.bandung.go.id:1990/GatsuLingkar/stream.m3u8\", 'ts_path': 'https://atcs-dishub.bandung.go.id:1990/GatsuLingkar/' ,'region' : \"Gatsu Lingkar\", 'name': 'Gatsu Lingkar'}\n",
    "]"
   ]
  },
  {
   "cell_type": "code",
   "execution_count": 116,
   "id": "398cb4c7",
   "metadata": {},
   "outputs": [],
   "source": [
    "# DEEP LEARNING DETAILS\n",
    "\n",
    "FAST_RUN = False\n",
    "IMAGE_WIDTH=128\n",
    "IMAGE_HEIGHT=128\n",
    "IMAGE_SIZE=(IMAGE_WIDTH, IMAGE_HEIGHT)\n",
    "IMAGE_CHANNELS=3\n",
    "batch_size=15\n",
    "\n",
    "# model = False\n",
    "model = keras.models.load_model('C:/Users/GE00000668/Documents/hooka_old/cctv-rain-dry-image-classification-main/model_hujan.h5')\n",
    "test_gen = ImageDataGenerator(rescale=1./255)"
   ]
  },
  {
   "cell_type": "code",
   "execution_count": 201,
   "id": "914265be",
   "metadata": {
    "scrolled": true
   },
   "outputs": [
    {
     "name": "stdout",
     "output_type": "stream",
     "text": [
      "########## Akan download cctv daerah : Kopo\n",
      "sudah mau masuk iterasi\n",
      "downloading seg5462.ts\n",
      "link download ts file: https://atcs-dishub.bandung.go.id:1990/Kopo/seg5462.ts\n",
      "Downloaded file size: 55836 bytes\n",
      "downloading seg5463.ts\n",
      "link download ts file: https://atcs-dishub.bandung.go.id:1990/Kopo/seg5463.ts\n",
      "Downloaded file size: 65988 bytes\n",
      "downloading seg5464.ts\n",
      "link download ts file: https://atcs-dishub.bandung.go.id:1990/Kopo/seg5464.ts\n",
      "Downloaded file size: 64860 bytes\n",
      "downloading seg5465.ts\n",
      "link download ts file: https://atcs-dishub.bandung.go.id:1990/Kopo/seg5465.ts\n",
      "Downloaded file size: 62792 bytes\n",
      "downloading seg5466.ts\n",
      "link download ts file: https://atcs-dishub.bandung.go.id:1990/Kopo/seg5466.ts\n",
      "Downloaded file size: 55648 bytes\n",
      "downloading seg5467.ts\n",
      "link download ts file: https://atcs-dishub.bandung.go.id:1990/Kopo/seg5467.ts\n",
      "Downloaded file size: 62792 bytes\n",
      "downloading seg5468.ts\n",
      "link download ts file: https://atcs-dishub.bandung.go.id:1990/Kopo/seg5468.ts\n",
      "Downloaded file size: 64296 bytes\n",
      "sudah mau masuk iterasi\n",
      "downloading seg5462.ts\n",
      "link download ts file: https://atcs-dishub.bandung.go.id:1990/Kopo/seg5462.ts\n",
      "Downloaded file size: 55836 bytes\n",
      "downloading seg5463.ts\n",
      "link download ts file: https://atcs-dishub.bandung.go.id:1990/Kopo/seg5463.ts\n",
      "Downloaded file size: 65988 bytes\n",
      "downloading seg5464.ts\n",
      "link download ts file: https://atcs-dishub.bandung.go.id:1990/Kopo/seg5464.ts\n",
      "Downloaded file size: 64860 bytes\n",
      "downloading seg5465.ts\n",
      "link download ts file: https://atcs-dishub.bandung.go.id:1990/Kopo/seg5465.ts\n",
      "Downloaded file size: 62792 bytes\n",
      "downloading seg5466.ts\n",
      "link download ts file: https://atcs-dishub.bandung.go.id:1990/Kopo/seg5466.ts\n",
      "Downloaded file size: 55648 bytes\n",
      "downloading seg5467.ts\n",
      "link download ts file: https://atcs-dishub.bandung.go.id:1990/Kopo/seg5467.ts\n",
      "Downloaded file size: 62792 bytes\n",
      "downloading seg5468.ts\n",
      "link download ts file: https://atcs-dishub.bandung.go.id:1990/Kopo/seg5468.ts\n",
      "Downloaded file size: 64296 bytes\n",
      "sudah mau masuk iterasi\n",
      "downloading seg5463.ts\n",
      "link download ts file: https://atcs-dishub.bandung.go.id:1990/Kopo/seg5463.ts\n",
      "Downloaded file size: 65988 bytes\n",
      "downloading seg5464.ts\n",
      "link download ts file: https://atcs-dishub.bandung.go.id:1990/Kopo/seg5464.ts\n",
      "Downloaded file size: 64860 bytes\n",
      "downloading seg5465.ts\n",
      "link download ts file: https://atcs-dishub.bandung.go.id:1990/Kopo/seg5465.ts\n",
      "Downloaded file size: 62792 bytes\n",
      "downloading seg5466.ts\n",
      "link download ts file: https://atcs-dishub.bandung.go.id:1990/Kopo/seg5466.ts\n",
      "Downloaded file size: 55648 bytes\n",
      "downloading seg5467.ts\n",
      "link download ts file: https://atcs-dishub.bandung.go.id:1990/Kopo/seg5467.ts\n",
      "Downloaded file size: 62792 bytes\n",
      "downloading seg5468.ts\n",
      "link download ts file: https://atcs-dishub.bandung.go.id:1990/Kopo/seg5468.ts\n",
      "Downloaded file size: 64296 bytes\n",
      "downloading seg5469.ts\n",
      "link download ts file: https://atcs-dishub.bandung.go.id:1990/Kopo/seg5469.ts\n",
      "Downloaded file size: 71628 bytes\n",
      "Moviepy - Building video C:\\Users\\GE00000668\\Documents\\Scraping\\cctv-indonesia/ts_files\\seg5462.mp4.\n",
      "Moviepy - Writing video C:\\Users\\GE00000668\\Documents\\Scraping\\cctv-indonesia/ts_files\\seg5462.mp4\n",
      "\n"
     ]
    },
    {
     "name": "stderr",
     "output_type": "stream",
     "text": [
      "                                                                                                                       \r"
     ]
    },
    {
     "name": "stdout",
     "output_type": "stream",
     "text": [
      "Moviepy - Done !\n",
      "Moviepy - video ready C:\\Users\\GE00000668\\Documents\\Scraping\\cctv-indonesia/ts_files\\seg5462.mp4\n",
      "######### seg5462.ts converted into seg5462.mp4 #########\n",
      "berhasil konversi ke mp4\n",
      "Moviepy - Building video C:\\Users\\GE00000668\\Documents\\Scraping\\cctv-indonesia/ts_files\\seg5463.mp4.\n",
      "Moviepy - Writing video C:\\Users\\GE00000668\\Documents\\Scraping\\cctv-indonesia/ts_files\\seg5463.mp4\n",
      "\n"
     ]
    },
    {
     "name": "stderr",
     "output_type": "stream",
     "text": [
      "                                                                                                                       \r"
     ]
    },
    {
     "name": "stdout",
     "output_type": "stream",
     "text": [
      "Moviepy - Done !\n",
      "Moviepy - video ready C:\\Users\\GE00000668\\Documents\\Scraping\\cctv-indonesia/ts_files\\seg5463.mp4\n",
      "######### seg5463.ts converted into seg5463.mp4 #########\n",
      "berhasil konversi ke mp4\n",
      "Moviepy - Building video C:\\Users\\GE00000668\\Documents\\Scraping\\cctv-indonesia/ts_files\\seg5464.mp4.\n",
      "Moviepy - Writing video C:\\Users\\GE00000668\\Documents\\Scraping\\cctv-indonesia/ts_files\\seg5464.mp4\n",
      "\n"
     ]
    },
    {
     "name": "stderr",
     "output_type": "stream",
     "text": [
      "                                                                                                                       \r"
     ]
    },
    {
     "name": "stdout",
     "output_type": "stream",
     "text": [
      "Moviepy - Done !\n",
      "Moviepy - video ready C:\\Users\\GE00000668\\Documents\\Scraping\\cctv-indonesia/ts_files\\seg5464.mp4\n",
      "######### seg5464.ts converted into seg5464.mp4 #########\n",
      "berhasil konversi ke mp4\n",
      "Moviepy - Building video C:\\Users\\GE00000668\\Documents\\Scraping\\cctv-indonesia/ts_files\\seg5465.mp4.\n",
      "Moviepy - Writing video C:\\Users\\GE00000668\\Documents\\Scraping\\cctv-indonesia/ts_files\\seg5465.mp4\n",
      "\n"
     ]
    },
    {
     "name": "stderr",
     "output_type": "stream",
     "text": [
      "                                                                                                                       \r"
     ]
    },
    {
     "name": "stdout",
     "output_type": "stream",
     "text": [
      "Moviepy - Done !\n",
      "Moviepy - video ready C:\\Users\\GE00000668\\Documents\\Scraping\\cctv-indonesia/ts_files\\seg5465.mp4\n",
      "######### seg5465.ts converted into seg5465.mp4 #########\n",
      "berhasil konversi ke mp4\n",
      "Moviepy - Building video C:\\Users\\GE00000668\\Documents\\Scraping\\cctv-indonesia/ts_files\\seg5466.mp4.\n",
      "Moviepy - Writing video C:\\Users\\GE00000668\\Documents\\Scraping\\cctv-indonesia/ts_files\\seg5466.mp4\n",
      "\n"
     ]
    },
    {
     "name": "stderr",
     "output_type": "stream",
     "text": [
      "                                                                                                                       \r"
     ]
    },
    {
     "name": "stdout",
     "output_type": "stream",
     "text": [
      "Moviepy - Done !\n",
      "Moviepy - video ready C:\\Users\\GE00000668\\Documents\\Scraping\\cctv-indonesia/ts_files\\seg5466.mp4\n",
      "######### seg5466.ts converted into seg5466.mp4 #########\n",
      "berhasil konversi ke mp4\n",
      "Moviepy - Building video C:\\Users\\GE00000668\\Documents\\Scraping\\cctv-indonesia/ts_files\\seg5467.mp4.\n",
      "Moviepy - Writing video C:\\Users\\GE00000668\\Documents\\Scraping\\cctv-indonesia/ts_files\\seg5467.mp4\n",
      "\n"
     ]
    },
    {
     "name": "stderr",
     "output_type": "stream",
     "text": [
      "                                                                                                                       \r"
     ]
    },
    {
     "name": "stdout",
     "output_type": "stream",
     "text": [
      "Moviepy - Done !\n",
      "Moviepy - video ready C:\\Users\\GE00000668\\Documents\\Scraping\\cctv-indonesia/ts_files\\seg5467.mp4\n",
      "######### seg5467.ts converted into seg5467.mp4 #########\n",
      "berhasil konversi ke mp4\n",
      "Moviepy - Building video C:\\Users\\GE00000668\\Documents\\Scraping\\cctv-indonesia/ts_files\\seg5468.mp4.\n",
      "Moviepy - Writing video C:\\Users\\GE00000668\\Documents\\Scraping\\cctv-indonesia/ts_files\\seg5468.mp4\n",
      "\n"
     ]
    },
    {
     "name": "stderr",
     "output_type": "stream",
     "text": [
      "                                                                                                                       \r"
     ]
    },
    {
     "name": "stdout",
     "output_type": "stream",
     "text": [
      "Moviepy - Done !\n",
      "Moviepy - video ready C:\\Users\\GE00000668\\Documents\\Scraping\\cctv-indonesia/ts_files\\seg5468.mp4\n",
      "######### seg5468.ts converted into seg5468.mp4 #########\n",
      "berhasil konversi ke mp4\n",
      "Moviepy - Building video C:\\Users\\GE00000668\\Documents\\Scraping\\cctv-indonesia/ts_files\\seg5469.mp4.\n",
      "Moviepy - Writing video C:\\Users\\GE00000668\\Documents\\Scraping\\cctv-indonesia/ts_files\\seg5469.mp4\n",
      "\n"
     ]
    },
    {
     "name": "stderr",
     "output_type": "stream",
     "text": [
      "                                                                                                                       \r"
     ]
    },
    {
     "name": "stdout",
     "output_type": "stream",
     "text": [
      "Moviepy - Done !\n",
      "Moviepy - video ready C:\\Users\\GE00000668\\Documents\\Scraping\\cctv-indonesia/ts_files\\seg5469.mp4\n",
      "######### seg5469.ts converted into seg5469.mp4 #########\n",
      "berhasil konversi ke mp4\n",
      "membuat file : Kopo_2023-05-16-10.mp4\n",
      "Moviepy - Building video C:\\Users\\GE00000668\\Documents\\Scraping\\cctv-indonesia/output_file/Kopo/Kopo_2023-05-16-10.mp4.\n",
      "Moviepy - Writing video C:\\Users\\GE00000668\\Documents\\Scraping\\cctv-indonesia/output_file/Kopo/Kopo_2023-05-16-10.mp4\n",
      "\n"
     ]
    },
    {
     "name": "stderr",
     "output_type": "stream",
     "text": [
      "                                                                                                                       \r"
     ]
    },
    {
     "name": "stdout",
     "output_type": "stream",
     "text": [
      "Moviepy - Done !\n",
      "Moviepy - video ready C:\\Users\\GE00000668\\Documents\\Scraping\\cctv-indonesia/output_file/Kopo/Kopo_2023-05-16-10.mp4\n",
      "------------ Video to Frame/Image Conversion ------------\n",
      "berhasil hapus video file\n",
      "------------ Prediction Phase ------------\n",
      "Found 63 validated image filenames.\n",
      "5/5 [==============================] - 1s 104ms/step\n",
      "########## Selesai prediksi daerah : Kopo\n",
      "########## Akan download cctv daerah : Gedebage Arah Utara\n",
      "sudah mau masuk iterasi\n",
      "downloading seg0.ts\n",
      "link download ts file: https://atcs-dishub.bandung.go.id:1990/GedebageUtara/seg0.ts\n",
      "Downloaded file size: 118628 bytes\n",
      "sudah mau masuk iterasi\n",
      "downloading seg0.ts\n",
      "link download ts file: https://atcs-dishub.bandung.go.id:1990/GedebageUtara/seg0.ts\n",
      "Downloaded file size: 118628 bytes\n",
      "sudah mau masuk iterasi\n",
      "downloading seg0.ts\n",
      "link download ts file: https://atcs-dishub.bandung.go.id:1990/GedebageUtara/seg0.ts\n",
      "Downloaded file size: 118628 bytes\n",
      "Moviepy - Building video C:\\Users\\GE00000668\\Documents\\Scraping\\cctv-indonesia/ts_files\\seg0.mp4.\n",
      "Moviepy - Writing video C:\\Users\\GE00000668\\Documents\\Scraping\\cctv-indonesia/ts_files\\seg0.mp4\n",
      "\n"
     ]
    },
    {
     "name": "stderr",
     "output_type": "stream",
     "text": [
      "                                                                                                                       \r"
     ]
    },
    {
     "name": "stdout",
     "output_type": "stream",
     "text": [
      "Moviepy - Done !\n",
      "Moviepy - video ready C:\\Users\\GE00000668\\Documents\\Scraping\\cctv-indonesia/ts_files\\seg0.mp4\n",
      "######### seg0.ts converted into seg0.mp4 #########\n",
      "berhasil konversi ke mp4\n",
      "membuat file : Gedebage Arah Utara_2023-05-16-10.mp4\n",
      "Moviepy - Building video C:\\Users\\GE00000668\\Documents\\Scraping\\cctv-indonesia/output_file/Gedebage Arah Utara/Gedebage Arah Utara_2023-05-16-10.mp4.\n",
      "Moviepy - Writing video C:\\Users\\GE00000668\\Documents\\Scraping\\cctv-indonesia/output_file/Gedebage Arah Utara/Gedebage Arah Utara_2023-05-16-10.mp4\n",
      "\n"
     ]
    },
    {
     "name": "stderr",
     "output_type": "stream",
     "text": [
      "                                                                                                                       \r"
     ]
    },
    {
     "name": "stdout",
     "output_type": "stream",
     "text": [
      "Moviepy - Done !\n",
      "Moviepy - video ready C:\\Users\\GE00000668\\Documents\\Scraping\\cctv-indonesia/output_file/Gedebage Arah Utara/Gedebage Arah Utara_2023-05-16-10.mp4\n",
      "------------ Video to Frame/Image Conversion ------------\n",
      "berhasil hapus video file\n",
      "------------ Prediction Phase ------------\n",
      "Found 63 validated image filenames.\n",
      "5/5 [==============================] - 1s 100ms/step\n",
      "########## Selesai prediksi daerah : Gedebage Arah Utara\n",
      "########## Akan download cctv daerah : Gedebage Arah Selatan\n",
      "sudah mau masuk iterasi\n",
      "downloading seg0.ts\n",
      "link download ts file: https://atcs-dishub.bandung.go.id:1990/GedebageSelatan/seg0.ts\n",
      "HTTP error occurred, retrying in 5 seconds...\n",
      "sudah mau masuk iterasi\n",
      "downloading seg0.ts\n",
      "link download ts file: https://atcs-dishub.bandung.go.id:1990/GedebageSelatan/seg0.ts\n",
      "HTTP error occurred, retrying in 5 seconds...\n",
      "sudah mau masuk iterasi\n",
      "downloading seg0.ts\n",
      "link download ts file: https://atcs-dishub.bandung.go.id:1990/GedebageSelatan/seg0.ts\n",
      "HTTP error occurred, retrying in 5 seconds...\n",
      "Gagal dapat CCTV Gedebage Arah Selatan\n",
      "########## Akan download cctv daerah : Buahbatu\n",
      "sudah mau masuk iterasi\n",
      "downloading seg4376.ts\n",
      "link download ts file: https://atcs-dishub.bandung.go.id:1990/Buahbatu/seg4376.ts\n",
      "Downloaded file size: 106784 bytes\n",
      "downloading seg4377.ts\n",
      "link download ts file: https://atcs-dishub.bandung.go.id:1990/Buahbatu/seg4377.ts\n",
      "Downloaded file size: 123516 bytes\n",
      "downloading seg4378.ts\n",
      "link download ts file: https://atcs-dishub.bandung.go.id:1990/Buahbatu/seg4378.ts\n",
      "Downloaded file size: 119004 bytes\n",
      "downloading seg4379.ts\n",
      "link download ts file: https://atcs-dishub.bandung.go.id:1990/Buahbatu/seg4379.ts\n",
      "Downloaded file size: 115056 bytes\n",
      "downloading seg4380.ts\n",
      "link download ts file: https://atcs-dishub.bandung.go.id:1990/Buahbatu/seg4380.ts\n",
      "Downloaded file size: 318284 bytes\n",
      "downloading seg4381.ts\n",
      "link download ts file: https://atcs-dishub.bandung.go.id:1990/Buahbatu/seg4381.ts\n",
      "Downloaded file size: 347612 bytes\n",
      "downloading seg4382.ts\n",
      "link download ts file: https://atcs-dishub.bandung.go.id:1990/Buahbatu/seg4382.ts\n",
      "Downloaded file size: 229172 bytes\n",
      "sudah mau masuk iterasi\n",
      "downloading seg4376.ts\n",
      "link download ts file: https://atcs-dishub.bandung.go.id:1990/Buahbatu/seg4376.ts\n",
      "Downloaded file size: 106784 bytes\n",
      "downloading seg4377.ts\n",
      "link download ts file: https://atcs-dishub.bandung.go.id:1990/Buahbatu/seg4377.ts\n",
      "Downloaded file size: 123516 bytes\n",
      "downloading seg4378.ts\n",
      "link download ts file: https://atcs-dishub.bandung.go.id:1990/Buahbatu/seg4378.ts\n",
      "Downloaded file size: 119004 bytes\n",
      "downloading seg4379.ts\n",
      "link download ts file: https://atcs-dishub.bandung.go.id:1990/Buahbatu/seg4379.ts\n",
      "Downloaded file size: 115056 bytes\n",
      "downloading seg4380.ts\n",
      "link download ts file: https://atcs-dishub.bandung.go.id:1990/Buahbatu/seg4380.ts\n",
      "Downloaded file size: 318284 bytes\n",
      "downloading seg4381.ts\n",
      "link download ts file: https://atcs-dishub.bandung.go.id:1990/Buahbatu/seg4381.ts\n",
      "Downloaded file size: 347612 bytes\n",
      "downloading seg4382.ts\n",
      "link download ts file: https://atcs-dishub.bandung.go.id:1990/Buahbatu/seg4382.ts\n",
      "Downloaded file size: 229172 bytes\n",
      "sudah mau masuk iterasi\n",
      "downloading seg4377.ts\n",
      "link download ts file: https://atcs-dishub.bandung.go.id:1990/Buahbatu/seg4377.ts\n",
      "Downloaded file size: 123516 bytes\n",
      "downloading seg4378.ts\n",
      "link download ts file: https://atcs-dishub.bandung.go.id:1990/Buahbatu/seg4378.ts\n",
      "Downloaded file size: 119004 bytes\n",
      "downloading seg4379.ts\n",
      "link download ts file: https://atcs-dishub.bandung.go.id:1990/Buahbatu/seg4379.ts\n",
      "Downloaded file size: 115056 bytes\n",
      "downloading seg4380.ts\n",
      "link download ts file: https://atcs-dishub.bandung.go.id:1990/Buahbatu/seg4380.ts\n",
      "Downloaded file size: 318284 bytes\n",
      "downloading seg4381.ts\n",
      "link download ts file: https://atcs-dishub.bandung.go.id:1990/Buahbatu/seg4381.ts\n",
      "Downloaded file size: 347612 bytes\n",
      "downloading seg4382.ts\n",
      "link download ts file: https://atcs-dishub.bandung.go.id:1990/Buahbatu/seg4382.ts\n",
      "Downloaded file size: 229172 bytes\n",
      "downloading seg4383.ts\n",
      "link download ts file: https://atcs-dishub.bandung.go.id:1990/Buahbatu/seg4383.ts\n",
      "Downloaded file size: 226728 bytes\n",
      "Moviepy - Building video C:\\Users\\GE00000668\\Documents\\Scraping\\cctv-indonesia/ts_files\\seg4376.mp4.\n",
      "Moviepy - Writing video C:\\Users\\GE00000668\\Documents\\Scraping\\cctv-indonesia/ts_files\\seg4376.mp4\n",
      "\n"
     ]
    },
    {
     "name": "stderr",
     "output_type": "stream",
     "text": [
      "                                                                                                                       \r"
     ]
    },
    {
     "name": "stdout",
     "output_type": "stream",
     "text": [
      "Moviepy - Done !\n",
      "Moviepy - video ready C:\\Users\\GE00000668\\Documents\\Scraping\\cctv-indonesia/ts_files\\seg4376.mp4\n",
      "######### seg4376.ts converted into seg4376.mp4 #########\n",
      "berhasil konversi ke mp4\n",
      "Moviepy - Building video C:\\Users\\GE00000668\\Documents\\Scraping\\cctv-indonesia/ts_files\\seg4377.mp4.\n",
      "Moviepy - Writing video C:\\Users\\GE00000668\\Documents\\Scraping\\cctv-indonesia/ts_files\\seg4377.mp4\n",
      "\n"
     ]
    },
    {
     "name": "stderr",
     "output_type": "stream",
     "text": [
      "                                                                                                                       \r"
     ]
    },
    {
     "name": "stdout",
     "output_type": "stream",
     "text": [
      "Moviepy - Done !\n",
      "Moviepy - video ready C:\\Users\\GE00000668\\Documents\\Scraping\\cctv-indonesia/ts_files\\seg4377.mp4\n",
      "######### seg4377.ts converted into seg4377.mp4 #########\n",
      "berhasil konversi ke mp4\n",
      "Moviepy - Building video C:\\Users\\GE00000668\\Documents\\Scraping\\cctv-indonesia/ts_files\\seg4378.mp4.\n",
      "Moviepy - Writing video C:\\Users\\GE00000668\\Documents\\Scraping\\cctv-indonesia/ts_files\\seg4378.mp4\n",
      "\n"
     ]
    },
    {
     "name": "stderr",
     "output_type": "stream",
     "text": [
      "                                                                                                                       \r"
     ]
    },
    {
     "name": "stdout",
     "output_type": "stream",
     "text": [
      "Moviepy - Done !\n",
      "Moviepy - video ready C:\\Users\\GE00000668\\Documents\\Scraping\\cctv-indonesia/ts_files\\seg4378.mp4\n",
      "######### seg4378.ts converted into seg4378.mp4 #########\n",
      "berhasil konversi ke mp4\n",
      "Moviepy - Building video C:\\Users\\GE00000668\\Documents\\Scraping\\cctv-indonesia/ts_files\\seg4379.mp4.\n",
      "Moviepy - Writing video C:\\Users\\GE00000668\\Documents\\Scraping\\cctv-indonesia/ts_files\\seg4379.mp4\n",
      "\n"
     ]
    },
    {
     "name": "stderr",
     "output_type": "stream",
     "text": [
      "                                                                                                                       \r"
     ]
    },
    {
     "name": "stdout",
     "output_type": "stream",
     "text": [
      "Moviepy - Done !\n",
      "Moviepy - video ready C:\\Users\\GE00000668\\Documents\\Scraping\\cctv-indonesia/ts_files\\seg4379.mp4\n",
      "######### seg4379.ts converted into seg4379.mp4 #########\n",
      "berhasil konversi ke mp4\n",
      "Moviepy - Building video C:\\Users\\GE00000668\\Documents\\Scraping\\cctv-indonesia/ts_files\\seg4380.mp4.\n",
      "Moviepy - Writing video C:\\Users\\GE00000668\\Documents\\Scraping\\cctv-indonesia/ts_files\\seg4380.mp4\n",
      "\n"
     ]
    },
    {
     "name": "stderr",
     "output_type": "stream",
     "text": [
      "                                                                                                                       \r"
     ]
    },
    {
     "name": "stdout",
     "output_type": "stream",
     "text": [
      "Moviepy - Done !\n",
      "Moviepy - video ready C:\\Users\\GE00000668\\Documents\\Scraping\\cctv-indonesia/ts_files\\seg4380.mp4\n",
      "######### seg4380.ts converted into seg4380.mp4 #########\n",
      "berhasil konversi ke mp4\n",
      "Moviepy - Building video C:\\Users\\GE00000668\\Documents\\Scraping\\cctv-indonesia/ts_files\\seg4381.mp4.\n",
      "Moviepy - Writing video C:\\Users\\GE00000668\\Documents\\Scraping\\cctv-indonesia/ts_files\\seg4381.mp4\n",
      "\n"
     ]
    },
    {
     "name": "stderr",
     "output_type": "stream",
     "text": [
      "                                                                                                                       \r"
     ]
    },
    {
     "name": "stdout",
     "output_type": "stream",
     "text": [
      "Moviepy - Done !\n",
      "Moviepy - video ready C:\\Users\\GE00000668\\Documents\\Scraping\\cctv-indonesia/ts_files\\seg4381.mp4\n",
      "######### seg4381.ts converted into seg4381.mp4 #########\n",
      "berhasil konversi ke mp4\n",
      "Moviepy - Building video C:\\Users\\GE00000668\\Documents\\Scraping\\cctv-indonesia/ts_files\\seg4382.mp4.\n",
      "Moviepy - Writing video C:\\Users\\GE00000668\\Documents\\Scraping\\cctv-indonesia/ts_files\\seg4382.mp4\n",
      "\n"
     ]
    },
    {
     "name": "stderr",
     "output_type": "stream",
     "text": [
      "                                                                                                                       \r"
     ]
    },
    {
     "name": "stdout",
     "output_type": "stream",
     "text": [
      "Moviepy - Done !\n",
      "Moviepy - video ready C:\\Users\\GE00000668\\Documents\\Scraping\\cctv-indonesia/ts_files\\seg4382.mp4\n",
      "######### seg4382.ts converted into seg4382.mp4 #########\n",
      "berhasil konversi ke mp4\n",
      "Moviepy - Building video C:\\Users\\GE00000668\\Documents\\Scraping\\cctv-indonesia/ts_files\\seg4383.mp4.\n",
      "Moviepy - Writing video C:\\Users\\GE00000668\\Documents\\Scraping\\cctv-indonesia/ts_files\\seg4383.mp4\n",
      "\n"
     ]
    },
    {
     "name": "stderr",
     "output_type": "stream",
     "text": [
      "                                                                                                                       \r"
     ]
    },
    {
     "name": "stdout",
     "output_type": "stream",
     "text": [
      "Moviepy - Done !\n",
      "Moviepy - video ready C:\\Users\\GE00000668\\Documents\\Scraping\\cctv-indonesia/ts_files\\seg4383.mp4\n",
      "######### seg4383.ts converted into seg4383.mp4 #########\n",
      "berhasil konversi ke mp4\n",
      "membuat file : Buahbatu_2023-05-16-10.mp4\n",
      "Moviepy - Building video C:\\Users\\GE00000668\\Documents\\Scraping\\cctv-indonesia/output_file/Buahbatu/Buahbatu_2023-05-16-10.mp4.\n",
      "Moviepy - Writing video C:\\Users\\GE00000668\\Documents\\Scraping\\cctv-indonesia/output_file/Buahbatu/Buahbatu_2023-05-16-10.mp4\n",
      "\n"
     ]
    },
    {
     "name": "stderr",
     "output_type": "stream",
     "text": [
      "                                                                                                                       \r"
     ]
    },
    {
     "name": "stdout",
     "output_type": "stream",
     "text": [
      "Moviepy - Done !\n",
      "Moviepy - video ready C:\\Users\\GE00000668\\Documents\\Scraping\\cctv-indonesia/output_file/Buahbatu/Buahbatu_2023-05-16-10.mp4\n",
      "------------ Video to Frame/Image Conversion ------------\n",
      "berhasil hapus video file\n",
      "------------ Prediction Phase ------------\n",
      "Found 63 validated image filenames.\n",
      "5/5 [==============================] - 1s 84ms/step\n",
      "########## Selesai prediksi daerah : Buahbatu\n",
      "########## Akan download cctv daerah : Batununggal\n",
      "sudah mau masuk iterasi\n",
      "downloading seg21667.ts\n",
      "link download ts file: https://atcs-dishub.bandung.go.id:1990/Batununggal/seg21667.ts\n",
      "Downloaded file size: 255116 bytes\n",
      "downloading seg21668.ts\n",
      "link download ts file: https://atcs-dishub.bandung.go.id:1990/Batununggal/seg21668.ts\n",
      "Downloaded file size: 264328 bytes\n",
      "downloading seg21669.ts\n",
      "link download ts file: https://atcs-dishub.bandung.go.id:1990/Batununggal/seg21669.ts\n",
      "Downloaded file size: 259440 bytes\n",
      "downloading seg21670.ts\n",
      "link download ts file: https://atcs-dishub.bandung.go.id:1990/Batununggal/seg21670.ts\n",
      "Downloaded file size: 250980 bytes\n",
      "downloading seg21671.ts\n",
      "link download ts file: https://atcs-dishub.bandung.go.id:1990/Batununggal/seg21671.ts\n",
      "Downloaded file size: 246092 bytes\n",
      "downloading seg21672.ts\n",
      "link download ts file: https://atcs-dishub.bandung.go.id:1990/Batununggal/seg21672.ts\n",
      "Downloaded file size: 242332 bytes\n",
      "downloading seg21673.ts\n",
      "link download ts file: https://atcs-dishub.bandung.go.id:1990/Batununggal/seg21673.ts\n",
      "Downloaded file size: 218268 bytes\n",
      "sudah mau masuk iterasi\n",
      "downloading seg21667.ts\n",
      "link download ts file: https://atcs-dishub.bandung.go.id:1990/Batununggal/seg21667.ts\n",
      "Downloaded file size: 255116 bytes\n",
      "downloading seg21668.ts\n",
      "link download ts file: https://atcs-dishub.bandung.go.id:1990/Batununggal/seg21668.ts\n",
      "Downloaded file size: 264328 bytes\n",
      "downloading seg21669.ts\n",
      "link download ts file: https://atcs-dishub.bandung.go.id:1990/Batununggal/seg21669.ts\n",
      "Downloaded file size: 259440 bytes\n",
      "downloading seg21670.ts\n",
      "link download ts file: https://atcs-dishub.bandung.go.id:1990/Batununggal/seg21670.ts\n",
      "Downloaded file size: 250980 bytes\n",
      "downloading seg21671.ts\n",
      "link download ts file: https://atcs-dishub.bandung.go.id:1990/Batununggal/seg21671.ts\n",
      "Downloaded file size: 246092 bytes\n",
      "downloading seg21672.ts\n",
      "link download ts file: https://atcs-dishub.bandung.go.id:1990/Batununggal/seg21672.ts\n",
      "Downloaded file size: 242332 bytes\n",
      "downloading seg21673.ts\n",
      "link download ts file: https://atcs-dishub.bandung.go.id:1990/Batununggal/seg21673.ts\n",
      "Downloaded file size: 218268 bytes\n",
      "sudah mau masuk iterasi\n",
      "downloading seg21668.ts\n",
      "link download ts file: https://atcs-dishub.bandung.go.id:1990/Batununggal/seg21668.ts\n",
      "Downloaded file size: 264328 bytes\n",
      "downloading seg21669.ts\n",
      "link download ts file: https://atcs-dishub.bandung.go.id:1990/Batununggal/seg21669.ts\n",
      "Downloaded file size: 259440 bytes\n",
      "downloading seg21670.ts\n",
      "link download ts file: https://atcs-dishub.bandung.go.id:1990/Batununggal/seg21670.ts\n",
      "Downloaded file size: 250980 bytes\n",
      "downloading seg21671.ts\n",
      "link download ts file: https://atcs-dishub.bandung.go.id:1990/Batununggal/seg21671.ts\n",
      "Downloaded file size: 246092 bytes\n",
      "downloading seg21672.ts\n",
      "link download ts file: https://atcs-dishub.bandung.go.id:1990/Batununggal/seg21672.ts\n",
      "Downloaded file size: 242332 bytes\n",
      "downloading seg21673.ts\n",
      "link download ts file: https://atcs-dishub.bandung.go.id:1990/Batununggal/seg21673.ts\n",
      "Downloaded file size: 218268 bytes\n",
      "downloading seg21674.ts\n",
      "link download ts file: https://atcs-dishub.bandung.go.id:1990/Batununggal/seg21674.ts\n",
      "Downloaded file size: 195332 bytes\n",
      "Moviepy - Building video C:\\Users\\GE00000668\\Documents\\Scraping\\cctv-indonesia/ts_files\\seg21667.mp4.\n",
      "Moviepy - Writing video C:\\Users\\GE00000668\\Documents\\Scraping\\cctv-indonesia/ts_files\\seg21667.mp4\n",
      "\n"
     ]
    },
    {
     "name": "stderr",
     "output_type": "stream",
     "text": [
      "                                                                                                                       \r"
     ]
    },
    {
     "name": "stdout",
     "output_type": "stream",
     "text": [
      "Moviepy - Done !\n",
      "Moviepy - video ready C:\\Users\\GE00000668\\Documents\\Scraping\\cctv-indonesia/ts_files\\seg21667.mp4\n",
      "######### seg21667.ts converted into seg21667.mp4 #########\n",
      "berhasil konversi ke mp4\n",
      "Moviepy - Building video C:\\Users\\GE00000668\\Documents\\Scraping\\cctv-indonesia/ts_files\\seg21668.mp4.\n",
      "Moviepy - Writing video C:\\Users\\GE00000668\\Documents\\Scraping\\cctv-indonesia/ts_files\\seg21668.mp4\n",
      "\n"
     ]
    },
    {
     "name": "stderr",
     "output_type": "stream",
     "text": [
      "                                                                                                                       \r"
     ]
    },
    {
     "name": "stdout",
     "output_type": "stream",
     "text": [
      "Moviepy - Done !\n",
      "Moviepy - video ready C:\\Users\\GE00000668\\Documents\\Scraping\\cctv-indonesia/ts_files\\seg21668.mp4\n",
      "######### seg21668.ts converted into seg21668.mp4 #########\n",
      "berhasil konversi ke mp4\n",
      "Moviepy - Building video C:\\Users\\GE00000668\\Documents\\Scraping\\cctv-indonesia/ts_files\\seg21669.mp4.\n",
      "Moviepy - Writing video C:\\Users\\GE00000668\\Documents\\Scraping\\cctv-indonesia/ts_files\\seg21669.mp4\n",
      "\n"
     ]
    },
    {
     "name": "stderr",
     "output_type": "stream",
     "text": [
      "                                                                                                                       \r"
     ]
    },
    {
     "name": "stdout",
     "output_type": "stream",
     "text": [
      "Moviepy - Done !\n",
      "Moviepy - video ready C:\\Users\\GE00000668\\Documents\\Scraping\\cctv-indonesia/ts_files\\seg21669.mp4\n",
      "######### seg21669.ts converted into seg21669.mp4 #########\n",
      "berhasil konversi ke mp4\n",
      "Moviepy - Building video C:\\Users\\GE00000668\\Documents\\Scraping\\cctv-indonesia/ts_files\\seg21670.mp4.\n",
      "Moviepy - Writing video C:\\Users\\GE00000668\\Documents\\Scraping\\cctv-indonesia/ts_files\\seg21670.mp4\n",
      "\n"
     ]
    },
    {
     "name": "stderr",
     "output_type": "stream",
     "text": [
      "                                                                                                                       \r"
     ]
    },
    {
     "name": "stdout",
     "output_type": "stream",
     "text": [
      "Moviepy - Done !\n",
      "Moviepy - video ready C:\\Users\\GE00000668\\Documents\\Scraping\\cctv-indonesia/ts_files\\seg21670.mp4\n",
      "######### seg21670.ts converted into seg21670.mp4 #########\n",
      "berhasil konversi ke mp4\n",
      "Moviepy - Building video C:\\Users\\GE00000668\\Documents\\Scraping\\cctv-indonesia/ts_files\\seg21671.mp4.\n",
      "Moviepy - Writing video C:\\Users\\GE00000668\\Documents\\Scraping\\cctv-indonesia/ts_files\\seg21671.mp4\n",
      "\n"
     ]
    },
    {
     "name": "stderr",
     "output_type": "stream",
     "text": [
      "                                                                                                                       \r"
     ]
    },
    {
     "name": "stdout",
     "output_type": "stream",
     "text": [
      "Moviepy - Done !\n",
      "Moviepy - video ready C:\\Users\\GE00000668\\Documents\\Scraping\\cctv-indonesia/ts_files\\seg21671.mp4\n",
      "######### seg21671.ts converted into seg21671.mp4 #########\n",
      "berhasil konversi ke mp4\n",
      "Moviepy - Building video C:\\Users\\GE00000668\\Documents\\Scraping\\cctv-indonesia/ts_files\\seg21672.mp4.\n",
      "Moviepy - Writing video C:\\Users\\GE00000668\\Documents\\Scraping\\cctv-indonesia/ts_files\\seg21672.mp4\n",
      "\n"
     ]
    },
    {
     "name": "stderr",
     "output_type": "stream",
     "text": [
      "                                                                                                                       \r"
     ]
    },
    {
     "name": "stdout",
     "output_type": "stream",
     "text": [
      "Moviepy - Done !\n",
      "Moviepy - video ready C:\\Users\\GE00000668\\Documents\\Scraping\\cctv-indonesia/ts_files\\seg21672.mp4\n",
      "######### seg21672.ts converted into seg21672.mp4 #########\n",
      "berhasil konversi ke mp4\n",
      "Moviepy - Building video C:\\Users\\GE00000668\\Documents\\Scraping\\cctv-indonesia/ts_files\\seg21673.mp4.\n",
      "Moviepy - Writing video C:\\Users\\GE00000668\\Documents\\Scraping\\cctv-indonesia/ts_files\\seg21673.mp4\n",
      "\n"
     ]
    },
    {
     "name": "stderr",
     "output_type": "stream",
     "text": [
      "                                                                                                                       \r"
     ]
    },
    {
     "name": "stdout",
     "output_type": "stream",
     "text": [
      "Moviepy - Done !\n",
      "Moviepy - video ready C:\\Users\\GE00000668\\Documents\\Scraping\\cctv-indonesia/ts_files\\seg21673.mp4\n",
      "######### seg21673.ts converted into seg21673.mp4 #########\n",
      "berhasil konversi ke mp4\n",
      "Moviepy - Building video C:\\Users\\GE00000668\\Documents\\Scraping\\cctv-indonesia/ts_files\\seg21674.mp4.\n",
      "Moviepy - Writing video C:\\Users\\GE00000668\\Documents\\Scraping\\cctv-indonesia/ts_files\\seg21674.mp4\n",
      "\n"
     ]
    },
    {
     "name": "stderr",
     "output_type": "stream",
     "text": [
      "                                                                                                                       \r"
     ]
    },
    {
     "name": "stdout",
     "output_type": "stream",
     "text": [
      "Moviepy - Done !\n",
      "Moviepy - video ready C:\\Users\\GE00000668\\Documents\\Scraping\\cctv-indonesia/ts_files\\seg21674.mp4\n",
      "######### seg21674.ts converted into seg21674.mp4 #########\n",
      "berhasil konversi ke mp4\n",
      "membuat file : Batununggal_2023-05-16-10.mp4\n",
      "Moviepy - Building video C:\\Users\\GE00000668\\Documents\\Scraping\\cctv-indonesia/output_file/Batununggal/Batununggal_2023-05-16-10.mp4.\n",
      "Moviepy - Writing video C:\\Users\\GE00000668\\Documents\\Scraping\\cctv-indonesia/output_file/Batununggal/Batununggal_2023-05-16-10.mp4\n",
      "\n"
     ]
    },
    {
     "name": "stderr",
     "output_type": "stream",
     "text": [
      "                                                                                                                       \r"
     ]
    },
    {
     "name": "stdout",
     "output_type": "stream",
     "text": [
      "Moviepy - Done !\n",
      "Moviepy - video ready C:\\Users\\GE00000668\\Documents\\Scraping\\cctv-indonesia/output_file/Batununggal/Batununggal_2023-05-16-10.mp4\n",
      "------------ Video to Frame/Image Conversion ------------\n",
      "berhasil hapus video file\n",
      "------------ Prediction Phase ------------\n",
      "Found 63 validated image filenames.\n",
      "5/5 [==============================] - 0s 81ms/step\n",
      "########## Selesai prediksi daerah : Batununggal\n",
      "########## Akan download cctv daerah : Moch. Toha\n",
      "sudah mau masuk iterasi\n",
      "downloading seg16801.ts\n",
      "link download ts file: https://atcs-dishub.bandung.go.id:1990/MochToha/seg16801.ts\n",
      "Downloaded file size: 199092 bytes\n",
      "downloading seg16802.ts\n",
      "link download ts file: https://atcs-dishub.bandung.go.id:1990/MochToha/seg16802.ts\n",
      "Downloaded file size: 188000 bytes\n",
      "downloading seg16803.ts\n",
      "link download ts file: https://atcs-dishub.bandung.go.id:1990/MochToha/seg16803.ts\n",
      "Downloaded file size: 214132 bytes\n",
      "downloading seg16804.ts\n",
      "link download ts file: https://atcs-dishub.bandung.go.id:1990/MochToha/seg16804.ts\n",
      "Downloaded file size: 234060 bytes\n",
      "downloading seg16805.ts\n",
      "link download ts file: https://atcs-dishub.bandung.go.id:1990/MochToha/seg16805.ts\n",
      "Downloaded file size: 214508 bytes\n",
      "downloading seg16806.ts\n",
      "link download ts file: https://atcs-dishub.bandung.go.id:1990/MochToha/seg16806.ts\n",
      "Downloaded file size: 246656 bytes\n",
      "downloading seg16807.ts\n",
      "link download ts file: https://atcs-dishub.bandung.go.id:1990/MochToha/seg16807.ts\n",
      "Downloaded file size: 206612 bytes\n",
      "sudah mau masuk iterasi\n",
      "downloading seg16801.ts\n",
      "link download ts file: https://atcs-dishub.bandung.go.id:1990/MochToha/seg16801.ts\n",
      "Downloaded file size: 199092 bytes\n",
      "downloading seg16802.ts\n",
      "link download ts file: https://atcs-dishub.bandung.go.id:1990/MochToha/seg16802.ts\n",
      "Downloaded file size: 188000 bytes\n",
      "downloading seg16803.ts\n",
      "link download ts file: https://atcs-dishub.bandung.go.id:1990/MochToha/seg16803.ts\n",
      "Downloaded file size: 214132 bytes\n",
      "downloading seg16804.ts\n",
      "link download ts file: https://atcs-dishub.bandung.go.id:1990/MochToha/seg16804.ts\n",
      "Downloaded file size: 234060 bytes\n",
      "downloading seg16805.ts\n",
      "link download ts file: https://atcs-dishub.bandung.go.id:1990/MochToha/seg16805.ts\n",
      "Downloaded file size: 214508 bytes\n",
      "downloading seg16806.ts\n",
      "link download ts file: https://atcs-dishub.bandung.go.id:1990/MochToha/seg16806.ts\n",
      "Downloaded file size: 246656 bytes\n",
      "downloading seg16807.ts\n",
      "link download ts file: https://atcs-dishub.bandung.go.id:1990/MochToha/seg16807.ts\n",
      "Downloaded file size: 206612 bytes\n",
      "sudah mau masuk iterasi\n",
      "downloading seg16802.ts\n",
      "link download ts file: https://atcs-dishub.bandung.go.id:1990/MochToha/seg16802.ts\n",
      "Downloaded file size: 188000 bytes\n",
      "downloading seg16803.ts\n",
      "link download ts file: https://atcs-dishub.bandung.go.id:1990/MochToha/seg16803.ts\n",
      "Downloaded file size: 214132 bytes\n",
      "downloading seg16804.ts\n",
      "link download ts file: https://atcs-dishub.bandung.go.id:1990/MochToha/seg16804.ts\n",
      "Downloaded file size: 234060 bytes\n",
      "downloading seg16805.ts\n",
      "link download ts file: https://atcs-dishub.bandung.go.id:1990/MochToha/seg16805.ts\n",
      "Downloaded file size: 214508 bytes\n",
      "downloading seg16806.ts\n",
      "link download ts file: https://atcs-dishub.bandung.go.id:1990/MochToha/seg16806.ts\n",
      "Downloaded file size: 246656 bytes\n",
      "downloading seg16807.ts\n",
      "link download ts file: https://atcs-dishub.bandung.go.id:1990/MochToha/seg16807.ts\n",
      "Downloaded file size: 206612 bytes\n",
      "downloading seg16808.ts\n",
      "link download ts file: https://atcs-dishub.bandung.go.id:1990/MochToha/seg16808.ts\n",
      "Downloaded file size: 178224 bytes\n",
      "Moviepy - Building video C:\\Users\\GE00000668\\Documents\\Scraping\\cctv-indonesia/ts_files\\seg16801.mp4.\n",
      "Moviepy - Writing video C:\\Users\\GE00000668\\Documents\\Scraping\\cctv-indonesia/ts_files\\seg16801.mp4\n",
      "\n"
     ]
    },
    {
     "name": "stderr",
     "output_type": "stream",
     "text": [
      "                                                                                                                       \r"
     ]
    },
    {
     "name": "stdout",
     "output_type": "stream",
     "text": [
      "Moviepy - Done !\n",
      "Moviepy - video ready C:\\Users\\GE00000668\\Documents\\Scraping\\cctv-indonesia/ts_files\\seg16801.mp4\n",
      "######### seg16801.ts converted into seg16801.mp4 #########\n",
      "berhasil konversi ke mp4\n",
      "Moviepy - Building video C:\\Users\\GE00000668\\Documents\\Scraping\\cctv-indonesia/ts_files\\seg16802.mp4.\n",
      "Moviepy - Writing video C:\\Users\\GE00000668\\Documents\\Scraping\\cctv-indonesia/ts_files\\seg16802.mp4\n",
      "\n"
     ]
    },
    {
     "name": "stderr",
     "output_type": "stream",
     "text": [
      "                                                                                                                       \r"
     ]
    },
    {
     "name": "stdout",
     "output_type": "stream",
     "text": [
      "Moviepy - Done !\n",
      "Moviepy - video ready C:\\Users\\GE00000668\\Documents\\Scraping\\cctv-indonesia/ts_files\\seg16802.mp4\n",
      "######### seg16802.ts converted into seg16802.mp4 #########\n",
      "berhasil konversi ke mp4\n",
      "Moviepy - Building video C:\\Users\\GE00000668\\Documents\\Scraping\\cctv-indonesia/ts_files\\seg16803.mp4.\n",
      "Moviepy - Writing video C:\\Users\\GE00000668\\Documents\\Scraping\\cctv-indonesia/ts_files\\seg16803.mp4\n",
      "\n"
     ]
    },
    {
     "name": "stderr",
     "output_type": "stream",
     "text": [
      "                                                                                                                       \r"
     ]
    },
    {
     "name": "stdout",
     "output_type": "stream",
     "text": [
      "Moviepy - Done !\n",
      "Moviepy - video ready C:\\Users\\GE00000668\\Documents\\Scraping\\cctv-indonesia/ts_files\\seg16803.mp4\n",
      "######### seg16803.ts converted into seg16803.mp4 #########\n",
      "berhasil konversi ke mp4\n",
      "Moviepy - Building video C:\\Users\\GE00000668\\Documents\\Scraping\\cctv-indonesia/ts_files\\seg16804.mp4.\n",
      "Moviepy - Writing video C:\\Users\\GE00000668\\Documents\\Scraping\\cctv-indonesia/ts_files\\seg16804.mp4\n",
      "\n"
     ]
    },
    {
     "name": "stderr",
     "output_type": "stream",
     "text": [
      "                                                                                                                       \r"
     ]
    },
    {
     "name": "stdout",
     "output_type": "stream",
     "text": [
      "Moviepy - Done !\n",
      "Moviepy - video ready C:\\Users\\GE00000668\\Documents\\Scraping\\cctv-indonesia/ts_files\\seg16804.mp4\n",
      "######### seg16804.ts converted into seg16804.mp4 #########\n",
      "berhasil konversi ke mp4\n",
      "Moviepy - Building video C:\\Users\\GE00000668\\Documents\\Scraping\\cctv-indonesia/ts_files\\seg16805.mp4.\n",
      "Moviepy - Writing video C:\\Users\\GE00000668\\Documents\\Scraping\\cctv-indonesia/ts_files\\seg16805.mp4\n",
      "\n"
     ]
    },
    {
     "name": "stderr",
     "output_type": "stream",
     "text": [
      "                                                                                                                       \r"
     ]
    },
    {
     "name": "stdout",
     "output_type": "stream",
     "text": [
      "Moviepy - Done !\n",
      "Moviepy - video ready C:\\Users\\GE00000668\\Documents\\Scraping\\cctv-indonesia/ts_files\\seg16805.mp4\n",
      "######### seg16805.ts converted into seg16805.mp4 #########\n",
      "berhasil konversi ke mp4\n",
      "Moviepy - Building video C:\\Users\\GE00000668\\Documents\\Scraping\\cctv-indonesia/ts_files\\seg16806.mp4.\n",
      "Moviepy - Writing video C:\\Users\\GE00000668\\Documents\\Scraping\\cctv-indonesia/ts_files\\seg16806.mp4\n",
      "\n"
     ]
    },
    {
     "name": "stderr",
     "output_type": "stream",
     "text": [
      "                                                                                                                       \r"
     ]
    },
    {
     "name": "stdout",
     "output_type": "stream",
     "text": [
      "Moviepy - Done !\n",
      "Moviepy - video ready C:\\Users\\GE00000668\\Documents\\Scraping\\cctv-indonesia/ts_files\\seg16806.mp4\n",
      "######### seg16806.ts converted into seg16806.mp4 #########\n",
      "berhasil konversi ke mp4\n",
      "Moviepy - Building video C:\\Users\\GE00000668\\Documents\\Scraping\\cctv-indonesia/ts_files\\seg16807.mp4.\n",
      "Moviepy - Writing video C:\\Users\\GE00000668\\Documents\\Scraping\\cctv-indonesia/ts_files\\seg16807.mp4\n",
      "\n"
     ]
    },
    {
     "name": "stderr",
     "output_type": "stream",
     "text": [
      "                                                                                                                       \r"
     ]
    },
    {
     "name": "stdout",
     "output_type": "stream",
     "text": [
      "Moviepy - Done !\n",
      "Moviepy - video ready C:\\Users\\GE00000668\\Documents\\Scraping\\cctv-indonesia/ts_files\\seg16807.mp4\n",
      "######### seg16807.ts converted into seg16807.mp4 #########\n",
      "berhasil konversi ke mp4\n",
      "Moviepy - Building video C:\\Users\\GE00000668\\Documents\\Scraping\\cctv-indonesia/ts_files\\seg16808.mp4.\n",
      "Moviepy - Writing video C:\\Users\\GE00000668\\Documents\\Scraping\\cctv-indonesia/ts_files\\seg16808.mp4\n",
      "\n"
     ]
    },
    {
     "name": "stderr",
     "output_type": "stream",
     "text": [
      "                                                                                                                       \r"
     ]
    },
    {
     "name": "stdout",
     "output_type": "stream",
     "text": [
      "Moviepy - Done !\n",
      "Moviepy - video ready C:\\Users\\GE00000668\\Documents\\Scraping\\cctv-indonesia/ts_files\\seg16808.mp4\n",
      "######### seg16808.ts converted into seg16808.mp4 #########\n",
      "berhasil konversi ke mp4\n",
      "membuat file : Moch. Toha_2023-05-16-10.mp4\n",
      "Moviepy - Building video C:\\Users\\GE00000668\\Documents\\Scraping\\cctv-indonesia/output_file/Moch. Toha/Moch. Toha_2023-05-16-10.mp4.\n",
      "Moviepy - Writing video C:\\Users\\GE00000668\\Documents\\Scraping\\cctv-indonesia/output_file/Moch. Toha/Moch. Toha_2023-05-16-10.mp4\n",
      "\n"
     ]
    },
    {
     "name": "stderr",
     "output_type": "stream",
     "text": [
      "                                                                                                                       \r"
     ]
    },
    {
     "name": "stdout",
     "output_type": "stream",
     "text": [
      "Moviepy - Done !\n",
      "Moviepy - video ready C:\\Users\\GE00000668\\Documents\\Scraping\\cctv-indonesia/output_file/Moch. Toha/Moch. Toha_2023-05-16-10.mp4\n",
      "------------ Video to Frame/Image Conversion ------------\n",
      "berhasil hapus video file\n",
      "------------ Prediction Phase ------------\n",
      "Found 63 validated image filenames.\n",
      "5/5 [==============================] - 1s 80ms/step\n",
      "########## Selesai prediksi daerah : Moch. Toha\n",
      "########## Akan download cctv daerah : Istana Plaza\n",
      "sudah mau masuk iterasi\n",
      "downloading seg5455.ts\n",
      "link download ts file: https://atcs-dishub.bandung.go.id:1990/IstanaPlaza/seg5455.ts\n",
      "Downloaded file size: 139684 bytes\n",
      "downloading seg5456.ts\n",
      "link download ts file: https://atcs-dishub.bandung.go.id:1990/IstanaPlaza/seg5456.ts\n",
      "Downloaded file size: 130848 bytes\n",
      "downloading seg5457.ts\n",
      "link download ts file: https://atcs-dishub.bandung.go.id:1990/IstanaPlaza/seg5457.ts\n",
      "Downloaded file size: 233496 bytes\n",
      "downloading seg5458.ts\n",
      "link download ts file: https://atcs-dishub.bandung.go.id:1990/IstanaPlaza/seg5458.ts\n",
      "Downloaded file size: 152468 bytes\n",
      "downloading seg5459.ts\n",
      "link download ts file: https://atcs-dishub.bandung.go.id:1990/IstanaPlaza/seg5459.ts\n",
      "Downloaded file size: 145700 bytes\n",
      "downloading seg5460.ts\n",
      "link download ts file: https://atcs-dishub.bandung.go.id:1990/IstanaPlaza/seg5460.ts\n",
      "Downloaded file size: 148896 bytes\n",
      "downloading seg5461.ts\n",
      "link download ts file: https://atcs-dishub.bandung.go.id:1990/IstanaPlaza/seg5461.ts\n",
      "Downloaded file size: 139308 bytes\n",
      "sudah mau masuk iterasi\n",
      "downloading seg5455.ts\n",
      "link download ts file: https://atcs-dishub.bandung.go.id:1990/IstanaPlaza/seg5455.ts\n",
      "Downloaded file size: 139684 bytes\n",
      "downloading seg5456.ts\n",
      "link download ts file: https://atcs-dishub.bandung.go.id:1990/IstanaPlaza/seg5456.ts\n",
      "Downloaded file size: 130848 bytes\n",
      "downloading seg5457.ts\n",
      "link download ts file: https://atcs-dishub.bandung.go.id:1990/IstanaPlaza/seg5457.ts\n",
      "Downloaded file size: 233496 bytes\n",
      "downloading seg5458.ts\n",
      "link download ts file: https://atcs-dishub.bandung.go.id:1990/IstanaPlaza/seg5458.ts\n",
      "Downloaded file size: 152468 bytes\n",
      "downloading seg5459.ts\n",
      "link download ts file: https://atcs-dishub.bandung.go.id:1990/IstanaPlaza/seg5459.ts\n",
      "Downloaded file size: 145700 bytes\n",
      "downloading seg5460.ts\n",
      "link download ts file: https://atcs-dishub.bandung.go.id:1990/IstanaPlaza/seg5460.ts\n",
      "Downloaded file size: 148896 bytes\n",
      "downloading seg5461.ts\n",
      "link download ts file: https://atcs-dishub.bandung.go.id:1990/IstanaPlaza/seg5461.ts\n",
      "Downloaded file size: 139308 bytes\n",
      "sudah mau masuk iterasi\n",
      "downloading seg5456.ts\n",
      "link download ts file: https://atcs-dishub.bandung.go.id:1990/IstanaPlaza/seg5456.ts\n",
      "Downloaded file size: 130848 bytes\n",
      "downloading seg5457.ts\n",
      "link download ts file: https://atcs-dishub.bandung.go.id:1990/IstanaPlaza/seg5457.ts\n",
      "Downloaded file size: 233496 bytes\n",
      "downloading seg5458.ts\n",
      "link download ts file: https://atcs-dishub.bandung.go.id:1990/IstanaPlaza/seg5458.ts\n",
      "Downloaded file size: 152468 bytes\n",
      "downloading seg5459.ts\n",
      "link download ts file: https://atcs-dishub.bandung.go.id:1990/IstanaPlaza/seg5459.ts\n",
      "Downloaded file size: 145700 bytes\n",
      "downloading seg5460.ts\n",
      "link download ts file: https://atcs-dishub.bandung.go.id:1990/IstanaPlaza/seg5460.ts\n",
      "Downloaded file size: 148896 bytes\n",
      "downloading seg5461.ts\n",
      "link download ts file: https://atcs-dishub.bandung.go.id:1990/IstanaPlaza/seg5461.ts\n",
      "Downloaded file size: 139308 bytes\n",
      "downloading seg5462.ts\n",
      "link download ts file: https://atcs-dishub.bandung.go.id:1990/IstanaPlaza/seg5462.ts\n",
      "Downloaded file size: 148144 bytes\n",
      "Moviepy - Building video C:\\Users\\GE00000668\\Documents\\Scraping\\cctv-indonesia/ts_files\\seg5455.mp4.\n",
      "Moviepy - Writing video C:\\Users\\GE00000668\\Documents\\Scraping\\cctv-indonesia/ts_files\\seg5455.mp4\n",
      "\n"
     ]
    },
    {
     "name": "stderr",
     "output_type": "stream",
     "text": [
      "                                                                                                                       \r"
     ]
    },
    {
     "name": "stdout",
     "output_type": "stream",
     "text": [
      "Moviepy - Done !\n",
      "Moviepy - video ready C:\\Users\\GE00000668\\Documents\\Scraping\\cctv-indonesia/ts_files\\seg5455.mp4\n",
      "######### seg5455.ts converted into seg5455.mp4 #########\n",
      "berhasil konversi ke mp4\n",
      "Moviepy - Building video C:\\Users\\GE00000668\\Documents\\Scraping\\cctv-indonesia/ts_files\\seg5456.mp4.\n",
      "Moviepy - Writing video C:\\Users\\GE00000668\\Documents\\Scraping\\cctv-indonesia/ts_files\\seg5456.mp4\n",
      "\n"
     ]
    },
    {
     "name": "stderr",
     "output_type": "stream",
     "text": [
      "                                                                                                                       \r"
     ]
    },
    {
     "name": "stdout",
     "output_type": "stream",
     "text": [
      "Moviepy - Done !\n",
      "Moviepy - video ready C:\\Users\\GE00000668\\Documents\\Scraping\\cctv-indonesia/ts_files\\seg5456.mp4\n",
      "######### seg5456.ts converted into seg5456.mp4 #########\n",
      "berhasil konversi ke mp4\n",
      "Moviepy - Building video C:\\Users\\GE00000668\\Documents\\Scraping\\cctv-indonesia/ts_files\\seg5457.mp4.\n",
      "Moviepy - Writing video C:\\Users\\GE00000668\\Documents\\Scraping\\cctv-indonesia/ts_files\\seg5457.mp4\n",
      "\n"
     ]
    },
    {
     "name": "stderr",
     "output_type": "stream",
     "text": [
      "                                                                                                                       \r"
     ]
    },
    {
     "name": "stdout",
     "output_type": "stream",
     "text": [
      "Moviepy - Done !\n",
      "Moviepy - video ready C:\\Users\\GE00000668\\Documents\\Scraping\\cctv-indonesia/ts_files\\seg5457.mp4\n",
      "######### seg5457.ts converted into seg5457.mp4 #########\n",
      "berhasil konversi ke mp4\n",
      "Moviepy - Building video C:\\Users\\GE00000668\\Documents\\Scraping\\cctv-indonesia/ts_files\\seg5458.mp4.\n",
      "Moviepy - Writing video C:\\Users\\GE00000668\\Documents\\Scraping\\cctv-indonesia/ts_files\\seg5458.mp4\n",
      "\n"
     ]
    },
    {
     "name": "stderr",
     "output_type": "stream",
     "text": [
      "                                                                                                                       \r"
     ]
    },
    {
     "name": "stdout",
     "output_type": "stream",
     "text": [
      "Moviepy - Done !\n",
      "Moviepy - video ready C:\\Users\\GE00000668\\Documents\\Scraping\\cctv-indonesia/ts_files\\seg5458.mp4\n",
      "######### seg5458.ts converted into seg5458.mp4 #########\n",
      "berhasil konversi ke mp4\n",
      "Moviepy - Building video C:\\Users\\GE00000668\\Documents\\Scraping\\cctv-indonesia/ts_files\\seg5459.mp4.\n",
      "Moviepy - Writing video C:\\Users\\GE00000668\\Documents\\Scraping\\cctv-indonesia/ts_files\\seg5459.mp4\n",
      "\n"
     ]
    },
    {
     "name": "stderr",
     "output_type": "stream",
     "text": [
      "                                                                                                                       \r"
     ]
    },
    {
     "name": "stdout",
     "output_type": "stream",
     "text": [
      "Moviepy - Done !\n",
      "Moviepy - video ready C:\\Users\\GE00000668\\Documents\\Scraping\\cctv-indonesia/ts_files\\seg5459.mp4\n",
      "######### seg5459.ts converted into seg5459.mp4 #########\n",
      "berhasil konversi ke mp4\n",
      "Moviepy - Building video C:\\Users\\GE00000668\\Documents\\Scraping\\cctv-indonesia/ts_files\\seg5460.mp4.\n",
      "Moviepy - Writing video C:\\Users\\GE00000668\\Documents\\Scraping\\cctv-indonesia/ts_files\\seg5460.mp4\n",
      "\n"
     ]
    },
    {
     "name": "stderr",
     "output_type": "stream",
     "text": [
      "                                                                                                                       \r"
     ]
    },
    {
     "name": "stdout",
     "output_type": "stream",
     "text": [
      "Moviepy - Done !\n",
      "Moviepy - video ready C:\\Users\\GE00000668\\Documents\\Scraping\\cctv-indonesia/ts_files\\seg5460.mp4\n",
      "######### seg5460.ts converted into seg5460.mp4 #########\n",
      "berhasil konversi ke mp4\n",
      "Moviepy - Building video C:\\Users\\GE00000668\\Documents\\Scraping\\cctv-indonesia/ts_files\\seg5461.mp4.\n",
      "Moviepy - Writing video C:\\Users\\GE00000668\\Documents\\Scraping\\cctv-indonesia/ts_files\\seg5461.mp4\n",
      "\n"
     ]
    },
    {
     "name": "stderr",
     "output_type": "stream",
     "text": [
      "                                                                                                                       \r"
     ]
    },
    {
     "name": "stdout",
     "output_type": "stream",
     "text": [
      "Moviepy - Done !\n",
      "Moviepy - video ready C:\\Users\\GE00000668\\Documents\\Scraping\\cctv-indonesia/ts_files\\seg5461.mp4\n",
      "######### seg5461.ts converted into seg5461.mp4 #########\n",
      "berhasil konversi ke mp4\n",
      "Moviepy - Building video C:\\Users\\GE00000668\\Documents\\Scraping\\cctv-indonesia/ts_files\\seg5462.mp4.\n",
      "Moviepy - Writing video C:\\Users\\GE00000668\\Documents\\Scraping\\cctv-indonesia/ts_files\\seg5462.mp4\n",
      "\n"
     ]
    },
    {
     "name": "stderr",
     "output_type": "stream",
     "text": [
      "                                                                                                                       \r"
     ]
    },
    {
     "name": "stdout",
     "output_type": "stream",
     "text": [
      "Moviepy - Done !\n",
      "Moviepy - video ready C:\\Users\\GE00000668\\Documents\\Scraping\\cctv-indonesia/ts_files\\seg5462.mp4\n",
      "######### seg5462.ts converted into seg5462.mp4 #########\n",
      "berhasil konversi ke mp4\n",
      "membuat file : Istana Plaza_2023-05-16-10.mp4\n",
      "Moviepy - Building video C:\\Users\\GE00000668\\Documents\\Scraping\\cctv-indonesia/output_file/Istana Plaza/Istana Plaza_2023-05-16-10.mp4.\n",
      "Moviepy - Writing video C:\\Users\\GE00000668\\Documents\\Scraping\\cctv-indonesia/output_file/Istana Plaza/Istana Plaza_2023-05-16-10.mp4\n",
      "\n"
     ]
    },
    {
     "name": "stderr",
     "output_type": "stream",
     "text": [
      "                                                                                                                       \r"
     ]
    },
    {
     "name": "stdout",
     "output_type": "stream",
     "text": [
      "Moviepy - Done !\n",
      "Moviepy - video ready C:\\Users\\GE00000668\\Documents\\Scraping\\cctv-indonesia/output_file/Istana Plaza/Istana Plaza_2023-05-16-10.mp4\n",
      "------------ Video to Frame/Image Conversion ------------\n",
      "berhasil hapus video file\n",
      "------------ Prediction Phase ------------\n",
      "Found 63 validated image filenames.\n",
      "5/5 [==============================] - 1s 95ms/step\n",
      "########## Selesai prediksi daerah : Istana Plaza\n",
      "########## Akan download cctv daerah : Istana Plaza\n",
      "sudah mau masuk iterasi\n",
      "downloading seg0.ts\n",
      "link download ts file: https://atcs-dishub.bandung.go.id:1990/CihampelasUtara/seg0.ts\n",
      "Downloaded file size: 577348 bytes\n",
      "downloading seg1.ts\n",
      "link download ts file: https://atcs-dishub.bandung.go.id:1990/CihampelasUtara/seg1.ts\n",
      "Downloaded file size: 550088 bytes\n",
      "downloading seg2.ts\n",
      "link download ts file: https://atcs-dishub.bandung.go.id:1990/CihampelasUtara/seg2.ts\n",
      "Downloaded file size: 578476 bytes\n",
      "downloading seg3.ts\n",
      "link download ts file: https://atcs-dishub.bandung.go.id:1990/CihampelasUtara/seg3.ts\n",
      "Downloaded file size: 557232 bytes\n",
      "downloading seg4.ts\n",
      "link download ts file: https://atcs-dishub.bandung.go.id:1990/CihampelasUtara/seg4.ts\n",
      "Downloaded file size: 585056 bytes\n",
      "downloading seg5.ts\n",
      "link download ts file: https://atcs-dishub.bandung.go.id:1990/CihampelasUtara/seg5.ts\n",
      "Downloaded file size: 586372 bytes\n",
      "downloading seg6.ts\n",
      "link download ts file: https://atcs-dishub.bandung.go.id:1990/CihampelasUtara/seg6.ts\n",
      "Downloaded file size: 538808 bytes\n",
      "sudah mau masuk iterasi\n",
      "downloading seg2.ts\n",
      "link download ts file: https://atcs-dishub.bandung.go.id:1990/CihampelasUtara/seg2.ts\n",
      "Downloaded file size: 578476 bytes\n",
      "downloading seg3.ts\n",
      "link download ts file: https://atcs-dishub.bandung.go.id:1990/CihampelasUtara/seg3.ts\n",
      "Downloaded file size: 557232 bytes\n",
      "downloading seg4.ts\n",
      "link download ts file: https://atcs-dishub.bandung.go.id:1990/CihampelasUtara/seg4.ts\n",
      "Downloaded file size: 585056 bytes\n",
      "downloading seg5.ts\n",
      "link download ts file: https://atcs-dishub.bandung.go.id:1990/CihampelasUtara/seg5.ts\n",
      "Downloaded file size: 586372 bytes\n",
      "downloading seg6.ts\n",
      "link download ts file: https://atcs-dishub.bandung.go.id:1990/CihampelasUtara/seg6.ts\n",
      "Downloaded file size: 538808 bytes\n",
      "downloading seg7.ts\n",
      "link download ts file: https://atcs-dishub.bandung.go.id:1990/CihampelasUtara/seg7.ts\n",
      "Downloaded file size: 538620 bytes\n",
      "downloading seg8.ts\n",
      "link download ts file: https://atcs-dishub.bandung.go.id:1990/CihampelasUtara/seg8.ts\n",
      "Downloaded file size: 526776 bytes\n",
      "sudah mau masuk iterasi\n",
      "downloading seg3.ts\n",
      "link download ts file: https://atcs-dishub.bandung.go.id:1990/CihampelasUtara/seg3.ts\n",
      "Downloaded file size: 557232 bytes\n",
      "downloading seg4.ts\n",
      "link download ts file: https://atcs-dishub.bandung.go.id:1990/CihampelasUtara/seg4.ts\n",
      "Downloaded file size: 585056 bytes\n",
      "downloading seg5.ts\n",
      "link download ts file: https://atcs-dishub.bandung.go.id:1990/CihampelasUtara/seg5.ts\n",
      "Downloaded file size: 586372 bytes\n",
      "downloading seg6.ts\n",
      "link download ts file: https://atcs-dishub.bandung.go.id:1990/CihampelasUtara/seg6.ts\n",
      "Downloaded file size: 538808 bytes\n",
      "downloading seg7.ts\n",
      "link download ts file: https://atcs-dishub.bandung.go.id:1990/CihampelasUtara/seg7.ts\n",
      "Downloaded file size: 538620 bytes\n",
      "downloading seg8.ts\n",
      "link download ts file: https://atcs-dishub.bandung.go.id:1990/CihampelasUtara/seg8.ts\n",
      "Downloaded file size: 526776 bytes\n",
      "downloading seg9.ts\n",
      "link download ts file: https://atcs-dishub.bandung.go.id:1990/CihampelasUtara/seg9.ts\n",
      "Downloaded file size: 597088 bytes\n",
      "Moviepy - Building video C:\\Users\\GE00000668\\Documents\\Scraping\\cctv-indonesia/ts_files\\seg0.mp4.\n",
      "Moviepy - Writing video C:\\Users\\GE00000668\\Documents\\Scraping\\cctv-indonesia/ts_files\\seg0.mp4\n",
      "\n"
     ]
    },
    {
     "name": "stderr",
     "output_type": "stream",
     "text": [
      "                                                                                                                       \r"
     ]
    },
    {
     "name": "stdout",
     "output_type": "stream",
     "text": [
      "Moviepy - Done !\n",
      "Moviepy - video ready C:\\Users\\GE00000668\\Documents\\Scraping\\cctv-indonesia/ts_files\\seg0.mp4\n",
      "######### seg0.ts converted into seg0.mp4 #########\n",
      "berhasil konversi ke mp4\n",
      "Moviepy - Building video C:\\Users\\GE00000668\\Documents\\Scraping\\cctv-indonesia/ts_files\\seg1.mp4.\n",
      "Moviepy - Writing video C:\\Users\\GE00000668\\Documents\\Scraping\\cctv-indonesia/ts_files\\seg1.mp4\n",
      "\n"
     ]
    },
    {
     "name": "stderr",
     "output_type": "stream",
     "text": [
      "                                                                                                                       \r"
     ]
    },
    {
     "name": "stdout",
     "output_type": "stream",
     "text": [
      "Moviepy - Done !\n",
      "Moviepy - video ready C:\\Users\\GE00000668\\Documents\\Scraping\\cctv-indonesia/ts_files\\seg1.mp4\n",
      "######### seg1.ts converted into seg1.mp4 #########\n",
      "berhasil konversi ke mp4\n",
      "Moviepy - Building video C:\\Users\\GE00000668\\Documents\\Scraping\\cctv-indonesia/ts_files\\seg2.mp4.\n",
      "Moviepy - Writing video C:\\Users\\GE00000668\\Documents\\Scraping\\cctv-indonesia/ts_files\\seg2.mp4\n",
      "\n"
     ]
    },
    {
     "name": "stderr",
     "output_type": "stream",
     "text": [
      "                                                                                                                       \r"
     ]
    },
    {
     "name": "stdout",
     "output_type": "stream",
     "text": [
      "Moviepy - Done !\n",
      "Moviepy - video ready C:\\Users\\GE00000668\\Documents\\Scraping\\cctv-indonesia/ts_files\\seg2.mp4\n",
      "######### seg2.ts converted into seg2.mp4 #########\n",
      "berhasil konversi ke mp4\n",
      "Moviepy - Building video C:\\Users\\GE00000668\\Documents\\Scraping\\cctv-indonesia/ts_files\\seg3.mp4.\n",
      "Moviepy - Writing video C:\\Users\\GE00000668\\Documents\\Scraping\\cctv-indonesia/ts_files\\seg3.mp4\n",
      "\n"
     ]
    },
    {
     "name": "stderr",
     "output_type": "stream",
     "text": [
      "                                                                                                                       \r"
     ]
    },
    {
     "name": "stdout",
     "output_type": "stream",
     "text": [
      "Moviepy - Done !\n",
      "Moviepy - video ready C:\\Users\\GE00000668\\Documents\\Scraping\\cctv-indonesia/ts_files\\seg3.mp4\n",
      "######### seg3.ts converted into seg3.mp4 #########\n",
      "berhasil konversi ke mp4\n",
      "Moviepy - Building video C:\\Users\\GE00000668\\Documents\\Scraping\\cctv-indonesia/ts_files\\seg4.mp4.\n",
      "Moviepy - Writing video C:\\Users\\GE00000668\\Documents\\Scraping\\cctv-indonesia/ts_files\\seg4.mp4\n",
      "\n"
     ]
    },
    {
     "name": "stderr",
     "output_type": "stream",
     "text": [
      "                                                                                                                       \r"
     ]
    },
    {
     "name": "stdout",
     "output_type": "stream",
     "text": [
      "Moviepy - Done !\n",
      "Moviepy - video ready C:\\Users\\GE00000668\\Documents\\Scraping\\cctv-indonesia/ts_files\\seg4.mp4\n",
      "######### seg4.ts converted into seg4.mp4 #########\n",
      "berhasil konversi ke mp4\n",
      "Moviepy - Building video C:\\Users\\GE00000668\\Documents\\Scraping\\cctv-indonesia/ts_files\\seg5.mp4.\n",
      "Moviepy - Writing video C:\\Users\\GE00000668\\Documents\\Scraping\\cctv-indonesia/ts_files\\seg5.mp4\n",
      "\n"
     ]
    },
    {
     "name": "stderr",
     "output_type": "stream",
     "text": [
      "                                                                                                                       \r"
     ]
    },
    {
     "name": "stdout",
     "output_type": "stream",
     "text": [
      "Moviepy - Done !\n",
      "Moviepy - video ready C:\\Users\\GE00000668\\Documents\\Scraping\\cctv-indonesia/ts_files\\seg5.mp4\n",
      "######### seg5.ts converted into seg5.mp4 #########\n",
      "berhasil konversi ke mp4\n",
      "Moviepy - Building video C:\\Users\\GE00000668\\Documents\\Scraping\\cctv-indonesia/ts_files\\seg6.mp4.\n",
      "Moviepy - Writing video C:\\Users\\GE00000668\\Documents\\Scraping\\cctv-indonesia/ts_files\\seg6.mp4\n",
      "\n"
     ]
    },
    {
     "name": "stderr",
     "output_type": "stream",
     "text": [
      "                                                                                                                       \r"
     ]
    },
    {
     "name": "stdout",
     "output_type": "stream",
     "text": [
      "Moviepy - Done !\n",
      "Moviepy - video ready C:\\Users\\GE00000668\\Documents\\Scraping\\cctv-indonesia/ts_files\\seg6.mp4\n",
      "######### seg6.ts converted into seg6.mp4 #########\n",
      "berhasil konversi ke mp4\n",
      "Moviepy - Building video C:\\Users\\GE00000668\\Documents\\Scraping\\cctv-indonesia/ts_files\\seg7.mp4.\n",
      "Moviepy - Writing video C:\\Users\\GE00000668\\Documents\\Scraping\\cctv-indonesia/ts_files\\seg7.mp4\n",
      "\n"
     ]
    },
    {
     "name": "stderr",
     "output_type": "stream",
     "text": [
      "                                                                                                                       \r"
     ]
    },
    {
     "name": "stdout",
     "output_type": "stream",
     "text": [
      "Moviepy - Done !\n",
      "Moviepy - video ready C:\\Users\\GE00000668\\Documents\\Scraping\\cctv-indonesia/ts_files\\seg7.mp4\n",
      "######### seg7.ts converted into seg7.mp4 #########\n",
      "berhasil konversi ke mp4\n",
      "Moviepy - Building video C:\\Users\\GE00000668\\Documents\\Scraping\\cctv-indonesia/ts_files\\seg8.mp4.\n",
      "Moviepy - Writing video C:\\Users\\GE00000668\\Documents\\Scraping\\cctv-indonesia/ts_files\\seg8.mp4\n",
      "\n"
     ]
    },
    {
     "name": "stderr",
     "output_type": "stream",
     "text": [
      "                                                                                                                       \r"
     ]
    },
    {
     "name": "stdout",
     "output_type": "stream",
     "text": [
      "Moviepy - Done !\n",
      "Moviepy - video ready C:\\Users\\GE00000668\\Documents\\Scraping\\cctv-indonesia/ts_files\\seg8.mp4\n",
      "######### seg8.ts converted into seg8.mp4 #########\n",
      "berhasil konversi ke mp4\n",
      "Moviepy - Building video C:\\Users\\GE00000668\\Documents\\Scraping\\cctv-indonesia/ts_files\\seg9.mp4.\n",
      "Moviepy - Writing video C:\\Users\\GE00000668\\Documents\\Scraping\\cctv-indonesia/ts_files\\seg9.mp4\n",
      "\n"
     ]
    },
    {
     "name": "stderr",
     "output_type": "stream",
     "text": [
      "                                                                                                                       \r"
     ]
    },
    {
     "name": "stdout",
     "output_type": "stream",
     "text": [
      "Moviepy - Done !\n",
      "Moviepy - video ready C:\\Users\\GE00000668\\Documents\\Scraping\\cctv-indonesia/ts_files\\seg9.mp4\n",
      "######### seg9.ts converted into seg9.mp4 #########\n",
      "berhasil konversi ke mp4\n",
      "membuat file : Istana Plaza_2023-05-16-10.mp4\n",
      "Moviepy - Building video C:\\Users\\GE00000668\\Documents\\Scraping\\cctv-indonesia/output_file/Istana Plaza/Istana Plaza_2023-05-16-10.mp4.\n",
      "Moviepy - Writing video C:\\Users\\GE00000668\\Documents\\Scraping\\cctv-indonesia/output_file/Istana Plaza/Istana Plaza_2023-05-16-10.mp4\n",
      "\n"
     ]
    },
    {
     "name": "stderr",
     "output_type": "stream",
     "text": [
      "                                                                                                                       \r"
     ]
    },
    {
     "name": "stdout",
     "output_type": "stream",
     "text": [
      "Moviepy - Done !\n",
      "Moviepy - video ready C:\\Users\\GE00000668\\Documents\\Scraping\\cctv-indonesia/output_file/Istana Plaza/Istana Plaza_2023-05-16-10.mp4\n",
      "------------ Video to Frame/Image Conversion ------------\n",
      "berhasil hapus video file\n",
      "------------ Prediction Phase ------------\n",
      "Found 42 validated image filenames.\n",
      "3/3 [==============================] - 1s 198ms/step\n",
      "########## Selesai prediksi daerah : Istana Plaza\n",
      "########## Akan download cctv daerah : Jalan Laswi\n",
      "sudah mau masuk iterasi\n",
      "downloading seg0.ts\n",
      "link download ts file: https://atcs-dishub.bandung.go.id:1990/laswiut/seg0.ts\n",
      "Downloaded file size: 556292 bytes\n",
      "sudah mau masuk iterasi\n",
      "downloading seg0.ts\n",
      "link download ts file: https://atcs-dishub.bandung.go.id:1990/laswiut/seg0.ts\n",
      "Downloaded file size: 556292 bytes\n",
      "sudah mau masuk iterasi\n",
      "downloading seg0.ts\n",
      "link download ts file: https://atcs-dishub.bandung.go.id:1990/laswiut/seg0.ts\n",
      "Downloaded file size: 556292 bytes\n",
      "Moviepy - Building video C:\\Users\\GE00000668\\Documents\\Scraping\\cctv-indonesia/ts_files\\seg0.mp4.\n",
      "Moviepy - Writing video C:\\Users\\GE00000668\\Documents\\Scraping\\cctv-indonesia/ts_files\\seg0.mp4\n",
      "\n"
     ]
    },
    {
     "name": "stderr",
     "output_type": "stream",
     "text": [
      "                                                                                                                       \r"
     ]
    },
    {
     "name": "stdout",
     "output_type": "stream",
     "text": [
      "Moviepy - Done !\n",
      "Moviepy - video ready C:\\Users\\GE00000668\\Documents\\Scraping\\cctv-indonesia/ts_files\\seg0.mp4\n",
      "######### seg0.ts converted into seg0.mp4 #########\n",
      "berhasil konversi ke mp4\n",
      "membuat file : Jalan Laswi_2023-05-16-10.mp4\n",
      "Moviepy - Building video C:\\Users\\GE00000668\\Documents\\Scraping\\cctv-indonesia/output_file/Jalan Laswi/Jalan Laswi_2023-05-16-10.mp4.\n",
      "Moviepy - Writing video C:\\Users\\GE00000668\\Documents\\Scraping\\cctv-indonesia/output_file/Jalan Laswi/Jalan Laswi_2023-05-16-10.mp4\n",
      "\n"
     ]
    },
    {
     "name": "stderr",
     "output_type": "stream",
     "text": [
      "                                                                                                                       \r"
     ]
    },
    {
     "name": "stdout",
     "output_type": "stream",
     "text": [
      "Moviepy - Done !\n",
      "Moviepy - video ready C:\\Users\\GE00000668\\Documents\\Scraping\\cctv-indonesia/output_file/Jalan Laswi/Jalan Laswi_2023-05-16-10.mp4\n",
      "------------ Video to Frame/Image Conversion ------------\n",
      "berhasil hapus video file\n",
      "------------ Prediction Phase ------------\n",
      "Found 42 validated image filenames.\n",
      "3/3 [==============================] - 1s 173ms/step\n",
      "########## Selesai prediksi daerah : Jalan Laswi\n",
      "########## Akan download cctv daerah : Otista Lingkar\n",
      "sudah mau masuk iterasi\n",
      "downloading seg1964.ts\n",
      "link download ts file: https://atcs-dishub.bandung.go.id:1990/OtistaLingkar/seg1964.ts\n",
      "Downloaded file size: 225600 bytes\n",
      "downloading seg1965.ts\n",
      "link download ts file: https://atcs-dishub.bandung.go.id:1990/OtistaLingkar/seg1965.ts\n",
      "Downloaded file size: 197776 bytes\n",
      "downloading seg1966.ts\n",
      "link download ts file: https://atcs-dishub.bandung.go.id:1990/OtistaLingkar/seg1966.ts\n",
      "Downloaded file size: 193640 bytes\n",
      "downloading seg1967.ts\n",
      "link download ts file: https://atcs-dishub.bandung.go.id:1990/OtistaLingkar/seg1967.ts\n",
      "Downloaded file size: 212252 bytes\n",
      "downloading seg1968.ts\n",
      "link download ts file: https://atcs-dishub.bandung.go.id:1990/OtistaLingkar/seg1968.ts\n",
      "Downloaded file size: 229360 bytes\n",
      "downloading seg1969.ts\n",
      "link download ts file: https://atcs-dishub.bandung.go.id:1990/OtistaLingkar/seg1969.ts\n",
      "Downloaded file size: 200784 bytes\n",
      "downloading seg1970.ts\n",
      "link download ts file: https://atcs-dishub.bandung.go.id:1990/OtistaLingkar/seg1970.ts\n",
      "Downloaded file size: 161304 bytes\n",
      "sudah mau masuk iterasi\n",
      "downloading seg1965.ts\n",
      "link download ts file: https://atcs-dishub.bandung.go.id:1990/OtistaLingkar/seg1965.ts\n",
      "Downloaded file size: 197776 bytes\n",
      "downloading seg1966.ts\n",
      "link download ts file: https://atcs-dishub.bandung.go.id:1990/OtistaLingkar/seg1966.ts\n",
      "Downloaded file size: 193640 bytes\n",
      "downloading seg1967.ts\n",
      "link download ts file: https://atcs-dishub.bandung.go.id:1990/OtistaLingkar/seg1967.ts\n",
      "Downloaded file size: 212252 bytes\n",
      "downloading seg1968.ts\n",
      "link download ts file: https://atcs-dishub.bandung.go.id:1990/OtistaLingkar/seg1968.ts\n",
      "Downloaded file size: 229360 bytes\n",
      "downloading seg1969.ts\n",
      "link download ts file: https://atcs-dishub.bandung.go.id:1990/OtistaLingkar/seg1969.ts\n",
      "Downloaded file size: 200784 bytes\n",
      "downloading seg1970.ts\n",
      "link download ts file: https://atcs-dishub.bandung.go.id:1990/OtistaLingkar/seg1970.ts\n",
      "Downloaded file size: 161304 bytes\n",
      "downloading seg1971.ts\n",
      "link download ts file: https://atcs-dishub.bandung.go.id:1990/OtistaLingkar/seg1971.ts\n",
      "Downloaded file size: 175592 bytes\n",
      "sudah mau masuk iterasi\n",
      "downloading seg1966.ts\n",
      "link download ts file: https://atcs-dishub.bandung.go.id:1990/OtistaLingkar/seg1966.ts\n",
      "Downloaded file size: 193640 bytes\n",
      "downloading seg1967.ts\n",
      "link download ts file: https://atcs-dishub.bandung.go.id:1990/OtistaLingkar/seg1967.ts\n",
      "Downloaded file size: 212252 bytes\n",
      "downloading seg1968.ts\n",
      "link download ts file: https://atcs-dishub.bandung.go.id:1990/OtistaLingkar/seg1968.ts\n",
      "Downloaded file size: 229360 bytes\n",
      "downloading seg1969.ts\n",
      "link download ts file: https://atcs-dishub.bandung.go.id:1990/OtistaLingkar/seg1969.ts\n",
      "Downloaded file size: 200784 bytes\n",
      "downloading seg1970.ts\n",
      "link download ts file: https://atcs-dishub.bandung.go.id:1990/OtistaLingkar/seg1970.ts\n",
      "Downloaded file size: 161304 bytes\n",
      "downloading seg1971.ts\n",
      "link download ts file: https://atcs-dishub.bandung.go.id:1990/OtistaLingkar/seg1971.ts\n",
      "Downloaded file size: 175592 bytes\n",
      "downloading seg1972.ts\n",
      "link download ts file: https://atcs-dishub.bandung.go.id:1990/OtistaLingkar/seg1972.ts\n",
      "Downloaded file size: 181984 bytes\n",
      "Moviepy - Building video C:\\Users\\GE00000668\\Documents\\Scraping\\cctv-indonesia/ts_files\\seg1964.mp4.\n",
      "Moviepy - Writing video C:\\Users\\GE00000668\\Documents\\Scraping\\cctv-indonesia/ts_files\\seg1964.mp4\n",
      "\n"
     ]
    },
    {
     "name": "stderr",
     "output_type": "stream",
     "text": [
      "                                                                                                                       \r"
     ]
    },
    {
     "name": "stdout",
     "output_type": "stream",
     "text": [
      "Moviepy - Done !\n",
      "Moviepy - video ready C:\\Users\\GE00000668\\Documents\\Scraping\\cctv-indonesia/ts_files\\seg1964.mp4\n",
      "######### seg1964.ts converted into seg1964.mp4 #########\n",
      "berhasil konversi ke mp4\n",
      "Moviepy - Building video C:\\Users\\GE00000668\\Documents\\Scraping\\cctv-indonesia/ts_files\\seg1965.mp4.\n",
      "Moviepy - Writing video C:\\Users\\GE00000668\\Documents\\Scraping\\cctv-indonesia/ts_files\\seg1965.mp4\n",
      "\n"
     ]
    },
    {
     "name": "stderr",
     "output_type": "stream",
     "text": [
      "                                                                                                                       \r"
     ]
    },
    {
     "name": "stdout",
     "output_type": "stream",
     "text": [
      "Moviepy - Done !\n",
      "Moviepy - video ready C:\\Users\\GE00000668\\Documents\\Scraping\\cctv-indonesia/ts_files\\seg1965.mp4\n",
      "######### seg1965.ts converted into seg1965.mp4 #########\n",
      "berhasil konversi ke mp4\n",
      "Moviepy - Building video C:\\Users\\GE00000668\\Documents\\Scraping\\cctv-indonesia/ts_files\\seg1966.mp4.\n",
      "Moviepy - Writing video C:\\Users\\GE00000668\\Documents\\Scraping\\cctv-indonesia/ts_files\\seg1966.mp4\n",
      "\n"
     ]
    },
    {
     "name": "stderr",
     "output_type": "stream",
     "text": [
      "                                                                                                                       \r"
     ]
    },
    {
     "name": "stdout",
     "output_type": "stream",
     "text": [
      "Moviepy - Done !\n",
      "Moviepy - video ready C:\\Users\\GE00000668\\Documents\\Scraping\\cctv-indonesia/ts_files\\seg1966.mp4\n",
      "######### seg1966.ts converted into seg1966.mp4 #########\n",
      "berhasil konversi ke mp4\n",
      "Moviepy - Building video C:\\Users\\GE00000668\\Documents\\Scraping\\cctv-indonesia/ts_files\\seg1967.mp4.\n",
      "Moviepy - Writing video C:\\Users\\GE00000668\\Documents\\Scraping\\cctv-indonesia/ts_files\\seg1967.mp4\n",
      "\n"
     ]
    },
    {
     "name": "stderr",
     "output_type": "stream",
     "text": [
      "                                                                                                                       \r"
     ]
    },
    {
     "name": "stdout",
     "output_type": "stream",
     "text": [
      "Moviepy - Done !\n",
      "Moviepy - video ready C:\\Users\\GE00000668\\Documents\\Scraping\\cctv-indonesia/ts_files\\seg1967.mp4\n",
      "######### seg1967.ts converted into seg1967.mp4 #########\n",
      "berhasil konversi ke mp4\n",
      "Moviepy - Building video C:\\Users\\GE00000668\\Documents\\Scraping\\cctv-indonesia/ts_files\\seg1968.mp4.\n",
      "Moviepy - Writing video C:\\Users\\GE00000668\\Documents\\Scraping\\cctv-indonesia/ts_files\\seg1968.mp4\n",
      "\n"
     ]
    },
    {
     "name": "stderr",
     "output_type": "stream",
     "text": [
      "                                                                                                                       \r"
     ]
    },
    {
     "name": "stdout",
     "output_type": "stream",
     "text": [
      "Moviepy - Done !\n",
      "Moviepy - video ready C:\\Users\\GE00000668\\Documents\\Scraping\\cctv-indonesia/ts_files\\seg1968.mp4\n",
      "######### seg1968.ts converted into seg1968.mp4 #########\n",
      "berhasil konversi ke mp4\n",
      "Moviepy - Building video C:\\Users\\GE00000668\\Documents\\Scraping\\cctv-indonesia/ts_files\\seg1969.mp4.\n",
      "Moviepy - Writing video C:\\Users\\GE00000668\\Documents\\Scraping\\cctv-indonesia/ts_files\\seg1969.mp4\n",
      "\n"
     ]
    },
    {
     "name": "stderr",
     "output_type": "stream",
     "text": [
      "                                                                                                                       \r"
     ]
    },
    {
     "name": "stdout",
     "output_type": "stream",
     "text": [
      "Moviepy - Done !\n",
      "Moviepy - video ready C:\\Users\\GE00000668\\Documents\\Scraping\\cctv-indonesia/ts_files\\seg1969.mp4\n",
      "######### seg1969.ts converted into seg1969.mp4 #########\n",
      "berhasil konversi ke mp4\n",
      "Moviepy - Building video C:\\Users\\GE00000668\\Documents\\Scraping\\cctv-indonesia/ts_files\\seg1970.mp4.\n",
      "Moviepy - Writing video C:\\Users\\GE00000668\\Documents\\Scraping\\cctv-indonesia/ts_files\\seg1970.mp4\n",
      "\n"
     ]
    },
    {
     "name": "stderr",
     "output_type": "stream",
     "text": [
      "                                                                                                                       \r"
     ]
    },
    {
     "name": "stdout",
     "output_type": "stream",
     "text": [
      "Moviepy - Done !\n",
      "Moviepy - video ready C:\\Users\\GE00000668\\Documents\\Scraping\\cctv-indonesia/ts_files\\seg1970.mp4\n",
      "######### seg1970.ts converted into seg1970.mp4 #########\n",
      "berhasil konversi ke mp4\n",
      "Moviepy - Building video C:\\Users\\GE00000668\\Documents\\Scraping\\cctv-indonesia/ts_files\\seg1971.mp4.\n",
      "Moviepy - Writing video C:\\Users\\GE00000668\\Documents\\Scraping\\cctv-indonesia/ts_files\\seg1971.mp4\n",
      "\n"
     ]
    },
    {
     "name": "stderr",
     "output_type": "stream",
     "text": [
      "                                                                                                                       \r"
     ]
    },
    {
     "name": "stdout",
     "output_type": "stream",
     "text": [
      "Moviepy - Done !\n",
      "Moviepy - video ready C:\\Users\\GE00000668\\Documents\\Scraping\\cctv-indonesia/ts_files\\seg1971.mp4\n",
      "######### seg1971.ts converted into seg1971.mp4 #########\n",
      "berhasil konversi ke mp4\n",
      "Moviepy - Building video C:\\Users\\GE00000668\\Documents\\Scraping\\cctv-indonesia/ts_files\\seg1972.mp4.\n",
      "Moviepy - Writing video C:\\Users\\GE00000668\\Documents\\Scraping\\cctv-indonesia/ts_files\\seg1972.mp4\n",
      "\n"
     ]
    },
    {
     "name": "stderr",
     "output_type": "stream",
     "text": [
      "                                                                                                                       \r"
     ]
    },
    {
     "name": "stdout",
     "output_type": "stream",
     "text": [
      "Moviepy - Done !\n",
      "Moviepy - video ready C:\\Users\\GE00000668\\Documents\\Scraping\\cctv-indonesia/ts_files\\seg1972.mp4\n",
      "######### seg1972.ts converted into seg1972.mp4 #########\n",
      "berhasil konversi ke mp4\n",
      "membuat file : Otista Lingkar_2023-05-16-10.mp4\n",
      "Moviepy - Building video C:\\Users\\GE00000668\\Documents\\Scraping\\cctv-indonesia/output_file/Otista Lingkar/Otista Lingkar_2023-05-16-10.mp4.\n",
      "Moviepy - Writing video C:\\Users\\GE00000668\\Documents\\Scraping\\cctv-indonesia/output_file/Otista Lingkar/Otista Lingkar_2023-05-16-10.mp4\n",
      "\n"
     ]
    },
    {
     "name": "stderr",
     "output_type": "stream",
     "text": [
      "                                                                                                                       \r"
     ]
    },
    {
     "name": "stdout",
     "output_type": "stream",
     "text": [
      "Moviepy - Done !\n",
      "Moviepy - video ready C:\\Users\\GE00000668\\Documents\\Scraping\\cctv-indonesia/output_file/Otista Lingkar/Otista Lingkar_2023-05-16-10.mp4\n",
      "------------ Video to Frame/Image Conversion ------------\n",
      "berhasil hapus video file\n",
      "------------ Prediction Phase ------------\n",
      "Found 42 validated image filenames.\n",
      "3/3 [==============================] - 1s 167ms/step\n",
      "########## Selesai prediksi daerah : Otista Lingkar\n",
      "########## Akan download cctv daerah : PT Inti\n",
      "sudah mau masuk iterasi\n",
      "downloading seg7356.ts\n",
      "link download ts file: https://atcs-dishub.bandung.go.id:1990/PtInti/seg7356.ts\n",
      "HTTP error occurred, retrying in 5 seconds...\n",
      "sudah mau masuk iterasi\n",
      "downloading seg7358.ts\n",
      "link download ts file: https://atcs-dishub.bandung.go.id:1990/PtInti/seg7358.ts\n",
      "Downloaded file size: 196272 bytes\n",
      "downloading seg7359.ts\n",
      "link download ts file: https://atcs-dishub.bandung.go.id:1990/PtInti/seg7359.ts\n",
      "Downloaded file size: 211876 bytes\n",
      "downloading seg7360.ts\n",
      "link download ts file: https://atcs-dishub.bandung.go.id:1990/PtInti/seg7360.ts\n",
      "Downloaded file size: 162244 bytes\n",
      "downloading seg7361.ts\n",
      "link download ts file: https://atcs-dishub.bandung.go.id:1990/PtInti/seg7361.ts\n",
      "Downloaded file size: 139308 bytes\n",
      "downloading seg7362.ts\n",
      "link download ts file: https://atcs-dishub.bandung.go.id:1990/PtInti/seg7362.ts\n",
      "Downloaded file size: 124456 bytes\n",
      "downloading seg7363.ts\n",
      "link download ts file: https://atcs-dishub.bandung.go.id:1990/PtInti/seg7363.ts\n",
      "Downloaded file size: 84224 bytes\n",
      "downloading seg7364.ts\n",
      "link download ts file: https://atcs-dishub.bandung.go.id:1990/PtInti/seg7364.ts\n",
      "Downloaded file size: 115432 bytes\n",
      "sudah mau masuk iterasi\n",
      "downloading seg7358.ts\n",
      "link download ts file: https://atcs-dishub.bandung.go.id:1990/PtInti/seg7358.ts\n",
      "Downloaded file size: 196272 bytes\n",
      "downloading seg7359.ts\n",
      "link download ts file: https://atcs-dishub.bandung.go.id:1990/PtInti/seg7359.ts\n",
      "Downloaded file size: 211876 bytes\n",
      "downloading seg7360.ts\n",
      "link download ts file: https://atcs-dishub.bandung.go.id:1990/PtInti/seg7360.ts\n",
      "Downloaded file size: 162244 bytes\n",
      "downloading seg7361.ts\n",
      "link download ts file: https://atcs-dishub.bandung.go.id:1990/PtInti/seg7361.ts\n",
      "Downloaded file size: 139308 bytes\n",
      "downloading seg7362.ts\n",
      "link download ts file: https://atcs-dishub.bandung.go.id:1990/PtInti/seg7362.ts\n",
      "Downloaded file size: 124456 bytes\n",
      "downloading seg7363.ts\n",
      "link download ts file: https://atcs-dishub.bandung.go.id:1990/PtInti/seg7363.ts\n",
      "Downloaded file size: 84224 bytes\n",
      "downloading seg7364.ts\n",
      "link download ts file: https://atcs-dishub.bandung.go.id:1990/PtInti/seg7364.ts\n",
      "Downloaded file size: 115432 bytes\n",
      "Moviepy - Building video C:\\Users\\GE00000668\\Documents\\Scraping\\cctv-indonesia/ts_files\\seg7358.mp4.\n",
      "Moviepy - Writing video C:\\Users\\GE00000668\\Documents\\Scraping\\cctv-indonesia/ts_files\\seg7358.mp4\n",
      "\n"
     ]
    },
    {
     "name": "stderr",
     "output_type": "stream",
     "text": [
      "                                                                                                                       \r"
     ]
    },
    {
     "name": "stdout",
     "output_type": "stream",
     "text": [
      "Moviepy - Done !\n",
      "Moviepy - video ready C:\\Users\\GE00000668\\Documents\\Scraping\\cctv-indonesia/ts_files\\seg7358.mp4\n",
      "######### seg7358.ts converted into seg7358.mp4 #########\n",
      "berhasil konversi ke mp4\n",
      "Moviepy - Building video C:\\Users\\GE00000668\\Documents\\Scraping\\cctv-indonesia/ts_files\\seg7359.mp4.\n",
      "Moviepy - Writing video C:\\Users\\GE00000668\\Documents\\Scraping\\cctv-indonesia/ts_files\\seg7359.mp4\n",
      "\n"
     ]
    },
    {
     "name": "stderr",
     "output_type": "stream",
     "text": [
      "                                                                                                                       \r"
     ]
    },
    {
     "name": "stdout",
     "output_type": "stream",
     "text": [
      "Moviepy - Done !\n",
      "Moviepy - video ready C:\\Users\\GE00000668\\Documents\\Scraping\\cctv-indonesia/ts_files\\seg7359.mp4\n",
      "######### seg7359.ts converted into seg7359.mp4 #########\n",
      "berhasil konversi ke mp4\n",
      "Moviepy - Building video C:\\Users\\GE00000668\\Documents\\Scraping\\cctv-indonesia/ts_files\\seg7360.mp4.\n",
      "Moviepy - Writing video C:\\Users\\GE00000668\\Documents\\Scraping\\cctv-indonesia/ts_files\\seg7360.mp4\n",
      "\n"
     ]
    },
    {
     "name": "stderr",
     "output_type": "stream",
     "text": [
      "                                                                                                                       \r"
     ]
    },
    {
     "name": "stdout",
     "output_type": "stream",
     "text": [
      "Moviepy - Done !\n",
      "Moviepy - video ready C:\\Users\\GE00000668\\Documents\\Scraping\\cctv-indonesia/ts_files\\seg7360.mp4\n",
      "######### seg7360.ts converted into seg7360.mp4 #########\n",
      "berhasil konversi ke mp4\n",
      "Moviepy - Building video C:\\Users\\GE00000668\\Documents\\Scraping\\cctv-indonesia/ts_files\\seg7361.mp4.\n",
      "Moviepy - Writing video C:\\Users\\GE00000668\\Documents\\Scraping\\cctv-indonesia/ts_files\\seg7361.mp4\n",
      "\n"
     ]
    },
    {
     "name": "stderr",
     "output_type": "stream",
     "text": [
      "                                                                                                                       \r"
     ]
    },
    {
     "name": "stdout",
     "output_type": "stream",
     "text": [
      "Moviepy - Done !\n",
      "Moviepy - video ready C:\\Users\\GE00000668\\Documents\\Scraping\\cctv-indonesia/ts_files\\seg7361.mp4\n",
      "######### seg7361.ts converted into seg7361.mp4 #########\n",
      "berhasil konversi ke mp4\n",
      "Moviepy - Building video C:\\Users\\GE00000668\\Documents\\Scraping\\cctv-indonesia/ts_files\\seg7362.mp4.\n",
      "Moviepy - Writing video C:\\Users\\GE00000668\\Documents\\Scraping\\cctv-indonesia/ts_files\\seg7362.mp4\n",
      "\n"
     ]
    },
    {
     "name": "stderr",
     "output_type": "stream",
     "text": [
      "                                                                                                                       \r"
     ]
    },
    {
     "name": "stdout",
     "output_type": "stream",
     "text": [
      "Moviepy - Done !\n",
      "Moviepy - video ready C:\\Users\\GE00000668\\Documents\\Scraping\\cctv-indonesia/ts_files\\seg7362.mp4\n",
      "######### seg7362.ts converted into seg7362.mp4 #########\n",
      "berhasil konversi ke mp4\n",
      "Moviepy - Building video C:\\Users\\GE00000668\\Documents\\Scraping\\cctv-indonesia/ts_files\\seg7363.mp4.\n",
      "Moviepy - Writing video C:\\Users\\GE00000668\\Documents\\Scraping\\cctv-indonesia/ts_files\\seg7363.mp4\n",
      "\n"
     ]
    },
    {
     "name": "stderr",
     "output_type": "stream",
     "text": [
      "                                                                                                                       \r"
     ]
    },
    {
     "name": "stdout",
     "output_type": "stream",
     "text": [
      "Moviepy - Done !\n",
      "Moviepy - video ready C:\\Users\\GE00000668\\Documents\\Scraping\\cctv-indonesia/ts_files\\seg7363.mp4\n",
      "######### seg7363.ts converted into seg7363.mp4 #########\n",
      "berhasil konversi ke mp4\n",
      "Moviepy - Building video C:\\Users\\GE00000668\\Documents\\Scraping\\cctv-indonesia/ts_files\\seg7364.mp4.\n",
      "Moviepy - Writing video C:\\Users\\GE00000668\\Documents\\Scraping\\cctv-indonesia/ts_files\\seg7364.mp4\n",
      "\n"
     ]
    },
    {
     "name": "stderr",
     "output_type": "stream",
     "text": [
      "                                                                                                                       \r"
     ]
    },
    {
     "name": "stdout",
     "output_type": "stream",
     "text": [
      "Moviepy - Done !\n",
      "Moviepy - video ready C:\\Users\\GE00000668\\Documents\\Scraping\\cctv-indonesia/ts_files\\seg7364.mp4\n",
      "######### seg7364.ts converted into seg7364.mp4 #########\n",
      "berhasil konversi ke mp4\n",
      "membuat file : PT Inti_2023-05-16-10.mp4\n",
      "Moviepy - Building video C:\\Users\\GE00000668\\Documents\\Scraping\\cctv-indonesia/output_file/PT Inti/PT Inti_2023-05-16-10.mp4.\n",
      "Moviepy - Writing video C:\\Users\\GE00000668\\Documents\\Scraping\\cctv-indonesia/output_file/PT Inti/PT Inti_2023-05-16-10.mp4\n",
      "\n"
     ]
    },
    {
     "name": "stderr",
     "output_type": "stream",
     "text": [
      "                                                                                                                       \r"
     ]
    },
    {
     "name": "stdout",
     "output_type": "stream",
     "text": [
      "Moviepy - Done !\n",
      "Moviepy - video ready C:\\Users\\GE00000668\\Documents\\Scraping\\cctv-indonesia/output_file/PT Inti/PT Inti_2023-05-16-10.mp4\n",
      "------------ Video to Frame/Image Conversion ------------\n",
      "berhasil hapus video file\n",
      "------------ Prediction Phase ------------\n",
      "Found 42 validated image filenames.\n",
      "3/3 [==============================] - 1s 174ms/step\n",
      "########## Selesai prediksi daerah : PT Inti\n",
      "########## Akan download cctv daerah : M Ramdan\n",
      "sudah mau masuk iterasi\n",
      "downloading seg6995.ts\n",
      "link download ts file: https://atcs-dishub.bandung.go.id:1990/MRamdan/seg6995.ts\n",
      "Downloaded file size: 230864 bytes\n",
      "downloading seg6996.ts\n",
      "link download ts file: https://atcs-dishub.bandung.go.id:1990/MRamdan/seg6996.ts\n",
      "Downloaded file size: 196648 bytes\n",
      "downloading seg6997.ts\n",
      "link download ts file: https://atcs-dishub.bandung.go.id:1990/MRamdan/seg6997.ts\n",
      "Downloaded file size: 160364 bytes\n",
      "downloading seg6998.ts\n",
      "link download ts file: https://atcs-dishub.bandung.go.id:1990/MRamdan/seg6998.ts\n",
      "Downloaded file size: 176532 bytes\n",
      "downloading seg6999.ts\n",
      "link download ts file: https://atcs-dishub.bandung.go.id:1990/MRamdan/seg6999.ts\n",
      "Downloaded file size: 183676 bytes\n",
      "downloading seg7000.ts\n",
      "link download ts file: https://atcs-dishub.bandung.go.id:1990/MRamdan/seg7000.ts\n",
      "Downloaded file size: 196272 bytes\n",
      "downloading seg7001.ts\n",
      "link download ts file: https://atcs-dishub.bandung.go.id:1990/MRamdan/seg7001.ts\n",
      "Downloaded file size: 209056 bytes\n",
      "sudah mau masuk iterasi\n",
      "downloading seg6995.ts\n",
      "link download ts file: https://atcs-dishub.bandung.go.id:1990/MRamdan/seg6995.ts\n",
      "Downloaded file size: 230864 bytes\n",
      "downloading seg6996.ts\n",
      "link download ts file: https://atcs-dishub.bandung.go.id:1990/MRamdan/seg6996.ts\n",
      "Downloaded file size: 196648 bytes\n",
      "downloading seg6997.ts\n",
      "link download ts file: https://atcs-dishub.bandung.go.id:1990/MRamdan/seg6997.ts\n",
      "Downloaded file size: 160364 bytes\n",
      "downloading seg6998.ts\n",
      "link download ts file: https://atcs-dishub.bandung.go.id:1990/MRamdan/seg6998.ts\n",
      "Downloaded file size: 176532 bytes\n",
      "downloading seg6999.ts\n",
      "link download ts file: https://atcs-dishub.bandung.go.id:1990/MRamdan/seg6999.ts\n",
      "Downloaded file size: 183676 bytes\n",
      "downloading seg7000.ts\n",
      "link download ts file: https://atcs-dishub.bandung.go.id:1990/MRamdan/seg7000.ts\n",
      "Downloaded file size: 196272 bytes\n",
      "downloading seg7001.ts\n",
      "link download ts file: https://atcs-dishub.bandung.go.id:1990/MRamdan/seg7001.ts\n",
      "Downloaded file size: 209056 bytes\n",
      "sudah mau masuk iterasi\n",
      "downloading seg6996.ts\n",
      "link download ts file: https://atcs-dishub.bandung.go.id:1990/MRamdan/seg6996.ts\n",
      "Downloaded file size: 196648 bytes\n",
      "downloading seg6997.ts\n",
      "link download ts file: https://atcs-dishub.bandung.go.id:1990/MRamdan/seg6997.ts\n",
      "Downloaded file size: 160364 bytes\n",
      "downloading seg6998.ts\n",
      "link download ts file: https://atcs-dishub.bandung.go.id:1990/MRamdan/seg6998.ts\n",
      "Downloaded file size: 176532 bytes\n",
      "downloading seg6999.ts\n",
      "link download ts file: https://atcs-dishub.bandung.go.id:1990/MRamdan/seg6999.ts\n",
      "Downloaded file size: 183676 bytes\n",
      "downloading seg7000.ts\n",
      "link download ts file: https://atcs-dishub.bandung.go.id:1990/MRamdan/seg7000.ts\n",
      "Downloaded file size: 196272 bytes\n",
      "downloading seg7001.ts\n",
      "link download ts file: https://atcs-dishub.bandung.go.id:1990/MRamdan/seg7001.ts\n",
      "Downloaded file size: 209056 bytes\n",
      "downloading seg7002.ts\n",
      "link download ts file: https://atcs-dishub.bandung.go.id:1990/MRamdan/seg7002.ts\n",
      "Downloaded file size: 198716 bytes\n",
      "Moviepy - Building video C:\\Users\\GE00000668\\Documents\\Scraping\\cctv-indonesia/ts_files\\seg6995.mp4.\n",
      "Moviepy - Writing video C:\\Users\\GE00000668\\Documents\\Scraping\\cctv-indonesia/ts_files\\seg6995.mp4\n",
      "\n"
     ]
    },
    {
     "name": "stderr",
     "output_type": "stream",
     "text": [
      "                                                                                                                       \r"
     ]
    },
    {
     "name": "stdout",
     "output_type": "stream",
     "text": [
      "Moviepy - Done !\n",
      "Moviepy - video ready C:\\Users\\GE00000668\\Documents\\Scraping\\cctv-indonesia/ts_files\\seg6995.mp4\n",
      "######### seg6995.ts converted into seg6995.mp4 #########\n",
      "berhasil konversi ke mp4\n",
      "Moviepy - Building video C:\\Users\\GE00000668\\Documents\\Scraping\\cctv-indonesia/ts_files\\seg6996.mp4.\n",
      "Moviepy - Writing video C:\\Users\\GE00000668\\Documents\\Scraping\\cctv-indonesia/ts_files\\seg6996.mp4\n",
      "\n"
     ]
    },
    {
     "name": "stderr",
     "output_type": "stream",
     "text": [
      "                                                                                                                       \r"
     ]
    },
    {
     "name": "stdout",
     "output_type": "stream",
     "text": [
      "Moviepy - Done !\n",
      "Moviepy - video ready C:\\Users\\GE00000668\\Documents\\Scraping\\cctv-indonesia/ts_files\\seg6996.mp4\n",
      "######### seg6996.ts converted into seg6996.mp4 #########\n",
      "berhasil konversi ke mp4\n",
      "Moviepy - Building video C:\\Users\\GE00000668\\Documents\\Scraping\\cctv-indonesia/ts_files\\seg6997.mp4.\n",
      "Moviepy - Writing video C:\\Users\\GE00000668\\Documents\\Scraping\\cctv-indonesia/ts_files\\seg6997.mp4\n",
      "\n"
     ]
    },
    {
     "name": "stderr",
     "output_type": "stream",
     "text": [
      "                                                                                                                       \r"
     ]
    },
    {
     "name": "stdout",
     "output_type": "stream",
     "text": [
      "Moviepy - Done !\n",
      "Moviepy - video ready C:\\Users\\GE00000668\\Documents\\Scraping\\cctv-indonesia/ts_files\\seg6997.mp4\n",
      "######### seg6997.ts converted into seg6997.mp4 #########\n",
      "berhasil konversi ke mp4\n",
      "Moviepy - Building video C:\\Users\\GE00000668\\Documents\\Scraping\\cctv-indonesia/ts_files\\seg6998.mp4.\n",
      "Moviepy - Writing video C:\\Users\\GE00000668\\Documents\\Scraping\\cctv-indonesia/ts_files\\seg6998.mp4\n",
      "\n"
     ]
    },
    {
     "name": "stderr",
     "output_type": "stream",
     "text": [
      "                                                                                                                       \r"
     ]
    },
    {
     "name": "stdout",
     "output_type": "stream",
     "text": [
      "Moviepy - Done !\n",
      "Moviepy - video ready C:\\Users\\GE00000668\\Documents\\Scraping\\cctv-indonesia/ts_files\\seg6998.mp4\n",
      "######### seg6998.ts converted into seg6998.mp4 #########\n",
      "berhasil konversi ke mp4\n",
      "Moviepy - Building video C:\\Users\\GE00000668\\Documents\\Scraping\\cctv-indonesia/ts_files\\seg6999.mp4.\n",
      "Moviepy - Writing video C:\\Users\\GE00000668\\Documents\\Scraping\\cctv-indonesia/ts_files\\seg6999.mp4\n",
      "\n"
     ]
    },
    {
     "name": "stderr",
     "output_type": "stream",
     "text": [
      "                                                                                                                       \r"
     ]
    },
    {
     "name": "stdout",
     "output_type": "stream",
     "text": [
      "Moviepy - Done !\n",
      "Moviepy - video ready C:\\Users\\GE00000668\\Documents\\Scraping\\cctv-indonesia/ts_files\\seg6999.mp4\n",
      "######### seg6999.ts converted into seg6999.mp4 #########\n",
      "berhasil konversi ke mp4\n",
      "Moviepy - Building video C:\\Users\\GE00000668\\Documents\\Scraping\\cctv-indonesia/ts_files\\seg7000.mp4.\n",
      "Moviepy - Writing video C:\\Users\\GE00000668\\Documents\\Scraping\\cctv-indonesia/ts_files\\seg7000.mp4\n",
      "\n"
     ]
    },
    {
     "name": "stderr",
     "output_type": "stream",
     "text": [
      "                                                                                                                       \r"
     ]
    },
    {
     "name": "stdout",
     "output_type": "stream",
     "text": [
      "Moviepy - Done !\n",
      "Moviepy - video ready C:\\Users\\GE00000668\\Documents\\Scraping\\cctv-indonesia/ts_files\\seg7000.mp4\n",
      "######### seg7000.ts converted into seg7000.mp4 #########\n",
      "berhasil konversi ke mp4\n",
      "Moviepy - Building video C:\\Users\\GE00000668\\Documents\\Scraping\\cctv-indonesia/ts_files\\seg7001.mp4.\n",
      "Moviepy - Writing video C:\\Users\\GE00000668\\Documents\\Scraping\\cctv-indonesia/ts_files\\seg7001.mp4\n",
      "\n"
     ]
    },
    {
     "name": "stderr",
     "output_type": "stream",
     "text": [
      "                                                                                                                       \r"
     ]
    },
    {
     "name": "stdout",
     "output_type": "stream",
     "text": [
      "Moviepy - Done !\n",
      "Moviepy - video ready C:\\Users\\GE00000668\\Documents\\Scraping\\cctv-indonesia/ts_files\\seg7001.mp4\n",
      "######### seg7001.ts converted into seg7001.mp4 #########\n",
      "berhasil konversi ke mp4\n",
      "Moviepy - Building video C:\\Users\\GE00000668\\Documents\\Scraping\\cctv-indonesia/ts_files\\seg7002.mp4.\n",
      "Moviepy - Writing video C:\\Users\\GE00000668\\Documents\\Scraping\\cctv-indonesia/ts_files\\seg7002.mp4\n",
      "\n"
     ]
    },
    {
     "name": "stderr",
     "output_type": "stream",
     "text": [
      "                                                                                                                       \r"
     ]
    },
    {
     "name": "stdout",
     "output_type": "stream",
     "text": [
      "Moviepy - Done !\n",
      "Moviepy - video ready C:\\Users\\GE00000668\\Documents\\Scraping\\cctv-indonesia/ts_files\\seg7002.mp4\n",
      "######### seg7002.ts converted into seg7002.mp4 #########\n",
      "berhasil konversi ke mp4\n",
      "membuat file : M Ramdan_2023-05-16-10.mp4\n",
      "Moviepy - Building video C:\\Users\\GE00000668\\Documents\\Scraping\\cctv-indonesia/output_file/M Ramdan/M Ramdan_2023-05-16-10.mp4.\n",
      "Moviepy - Writing video C:\\Users\\GE00000668\\Documents\\Scraping\\cctv-indonesia/output_file/M Ramdan/M Ramdan_2023-05-16-10.mp4\n",
      "\n"
     ]
    },
    {
     "name": "stderr",
     "output_type": "stream",
     "text": [
      "                                                                                                                       \r"
     ]
    },
    {
     "name": "stdout",
     "output_type": "stream",
     "text": [
      "Moviepy - Done !\n",
      "Moviepy - video ready C:\\Users\\GE00000668\\Documents\\Scraping\\cctv-indonesia/output_file/M Ramdan/M Ramdan_2023-05-16-10.mp4\n",
      "------------ Video to Frame/Image Conversion ------------\n",
      "berhasil hapus video file\n",
      "------------ Prediction Phase ------------\n",
      "Found 42 validated image filenames.\n",
      "3/3 [==============================] - 1s 189ms/step\n",
      "########## Selesai prediksi daerah : M Ramdan\n",
      "########## Akan download cctv daerah : M Ramdan Barat\n",
      "sudah mau masuk iterasi\n",
      "downloading seg0.ts\n",
      "link download ts file: https://atcs-dishub.bandung.go.id:1990/RamdanBarat/seg0.ts\n",
      "Downloaded file size: 534484 bytes\n",
      "sudah mau masuk iterasi\n",
      "downloading seg0.ts\n",
      "link download ts file: https://atcs-dishub.bandung.go.id:1990/RamdanBarat/seg0.ts\n",
      "Downloaded file size: 534484 bytes\n",
      "sudah mau masuk iterasi\n",
      "downloading seg0.ts\n",
      "link download ts file: https://atcs-dishub.bandung.go.id:1990/RamdanBarat/seg0.ts\n",
      "Downloaded file size: 534484 bytes\n",
      "Moviepy - Building video C:\\Users\\GE00000668\\Documents\\Scraping\\cctv-indonesia/ts_files\\seg0.mp4.\n",
      "Moviepy - Writing video C:\\Users\\GE00000668\\Documents\\Scraping\\cctv-indonesia/ts_files\\seg0.mp4\n",
      "\n"
     ]
    },
    {
     "name": "stderr",
     "output_type": "stream",
     "text": [
      "                                                                                                                       \r"
     ]
    },
    {
     "name": "stdout",
     "output_type": "stream",
     "text": [
      "Moviepy - Done !\n",
      "Moviepy - video ready C:\\Users\\GE00000668\\Documents\\Scraping\\cctv-indonesia/ts_files\\seg0.mp4\n",
      "######### seg0.ts converted into seg0.mp4 #########\n",
      "berhasil konversi ke mp4\n",
      "membuat file : M Ramdan Barat_2023-05-16-10.mp4\n",
      "Moviepy - Building video C:\\Users\\GE00000668\\Documents\\Scraping\\cctv-indonesia/output_file/M Ramdan Barat/M Ramdan Barat_2023-05-16-10.mp4.\n",
      "Moviepy - Writing video C:\\Users\\GE00000668\\Documents\\Scraping\\cctv-indonesia/output_file/M Ramdan Barat/M Ramdan Barat_2023-05-16-10.mp4\n",
      "\n"
     ]
    },
    {
     "name": "stderr",
     "output_type": "stream",
     "text": [
      "                                                                                                                       \r"
     ]
    },
    {
     "name": "stdout",
     "output_type": "stream",
     "text": [
      "Moviepy - Done !\n",
      "Moviepy - video ready C:\\Users\\GE00000668\\Documents\\Scraping\\cctv-indonesia/output_file/M Ramdan Barat/M Ramdan Barat_2023-05-16-10.mp4\n",
      "------------ Video to Frame/Image Conversion ------------\n",
      "berhasil hapus video file\n",
      "------------ Prediction Phase ------------\n",
      "Found 42 validated image filenames.\n",
      "3/3 [==============================] - 1s 164ms/step\n",
      "########## Selesai prediksi daerah : M Ramdan Barat\n",
      "########## Akan download cctv daerah : Sriwijaya\n",
      "sudah mau masuk iterasi\n",
      "downloading seg14586.ts\n",
      "link download ts file: https://atcs-dishub.bandung.go.id:1990/Sriwijaya/seg14586.ts\n",
      "Downloaded file size: 123328 bytes\n",
      "downloading seg14587.ts\n",
      "link download ts file: https://atcs-dishub.bandung.go.id:1990/Sriwijaya/seg14587.ts\n",
      "Downloaded file size: 119944 bytes\n",
      "downloading seg14588.ts\n",
      "link download ts file: https://atcs-dishub.bandung.go.id:1990/Sriwijaya/seg14588.ts\n",
      "Downloaded file size: 112988 bytes\n",
      "downloading seg14589.ts\n",
      "link download ts file: https://atcs-dishub.bandung.go.id:1990/Sriwijaya/seg14589.ts\n",
      "Downloaded file size: 121824 bytes\n",
      "downloading seg14590.ts\n",
      "link download ts file: https://atcs-dishub.bandung.go.id:1990/Sriwijaya/seg14590.ts\n",
      "Downloaded file size: 119380 bytes\n",
      "downloading seg14591.ts\n",
      "link download ts file: https://atcs-dishub.bandung.go.id:1990/Sriwijaya/seg14591.ts\n",
      "Downloaded file size: 113364 bytes\n",
      "downloading seg14592.ts\n",
      "link download ts file: https://atcs-dishub.bandung.go.id:1990/Sriwijaya/seg14592.ts\n",
      "Downloaded file size: 121260 bytes\n",
      "sudah mau masuk iterasi\n",
      "downloading seg14587.ts\n",
      "link download ts file: https://atcs-dishub.bandung.go.id:1990/Sriwijaya/seg14587.ts\n",
      "Downloaded file size: 119944 bytes\n",
      "downloading seg14588.ts\n",
      "link download ts file: https://atcs-dishub.bandung.go.id:1990/Sriwijaya/seg14588.ts\n",
      "Downloaded file size: 112988 bytes\n",
      "downloading seg14589.ts\n",
      "link download ts file: https://atcs-dishub.bandung.go.id:1990/Sriwijaya/seg14589.ts\n",
      "Downloaded file size: 121824 bytes\n",
      "downloading seg14590.ts\n",
      "link download ts file: https://atcs-dishub.bandung.go.id:1990/Sriwijaya/seg14590.ts\n",
      "Downloaded file size: 119380 bytes\n",
      "downloading seg14591.ts\n",
      "link download ts file: https://atcs-dishub.bandung.go.id:1990/Sriwijaya/seg14591.ts\n",
      "Downloaded file size: 113364 bytes\n",
      "downloading seg14592.ts\n",
      "link download ts file: https://atcs-dishub.bandung.go.id:1990/Sriwijaya/seg14592.ts\n",
      "Downloaded file size: 121260 bytes\n",
      "downloading seg14593.ts\n",
      "link download ts file: https://atcs-dishub.bandung.go.id:1990/Sriwijaya/seg14593.ts\n",
      "Downloaded file size: 122576 bytes\n",
      "sudah mau masuk iterasi\n",
      "downloading seg14588.ts\n",
      "link download ts file: https://atcs-dishub.bandung.go.id:1990/Sriwijaya/seg14588.ts\n",
      "Downloaded file size: 112988 bytes\n",
      "downloading seg14589.ts\n",
      "link download ts file: https://atcs-dishub.bandung.go.id:1990/Sriwijaya/seg14589.ts\n",
      "Downloaded file size: 121824 bytes\n",
      "downloading seg14590.ts\n",
      "link download ts file: https://atcs-dishub.bandung.go.id:1990/Sriwijaya/seg14590.ts\n",
      "Downloaded file size: 119380 bytes\n",
      "downloading seg14591.ts\n",
      "link download ts file: https://atcs-dishub.bandung.go.id:1990/Sriwijaya/seg14591.ts\n",
      "Downloaded file size: 113364 bytes\n",
      "downloading seg14592.ts\n",
      "link download ts file: https://atcs-dishub.bandung.go.id:1990/Sriwijaya/seg14592.ts\n",
      "Downloaded file size: 121260 bytes\n",
      "downloading seg14593.ts\n",
      "link download ts file: https://atcs-dishub.bandung.go.id:1990/Sriwijaya/seg14593.ts\n",
      "Downloaded file size: 122576 bytes\n",
      "downloading seg14594.ts\n",
      "link download ts file: https://atcs-dishub.bandung.go.id:1990/Sriwijaya/seg14594.ts\n",
      "Downloaded file size: 119756 bytes\n",
      "Moviepy - Building video C:\\Users\\GE00000668\\Documents\\Scraping\\cctv-indonesia/ts_files\\seg14586.mp4.\n",
      "Moviepy - Writing video C:\\Users\\GE00000668\\Documents\\Scraping\\cctv-indonesia/ts_files\\seg14586.mp4\n",
      "\n"
     ]
    },
    {
     "name": "stderr",
     "output_type": "stream",
     "text": [
      "                                                                                                                       \r"
     ]
    },
    {
     "name": "stdout",
     "output_type": "stream",
     "text": [
      "Moviepy - Done !\n",
      "Moviepy - video ready C:\\Users\\GE00000668\\Documents\\Scraping\\cctv-indonesia/ts_files\\seg14586.mp4\n",
      "######### seg14586.ts converted into seg14586.mp4 #########\n",
      "berhasil konversi ke mp4\n",
      "Moviepy - Building video C:\\Users\\GE00000668\\Documents\\Scraping\\cctv-indonesia/ts_files\\seg14587.mp4.\n",
      "Moviepy - Writing video C:\\Users\\GE00000668\\Documents\\Scraping\\cctv-indonesia/ts_files\\seg14587.mp4\n",
      "\n"
     ]
    },
    {
     "name": "stderr",
     "output_type": "stream",
     "text": [
      "                                                                                                                       \r"
     ]
    },
    {
     "name": "stdout",
     "output_type": "stream",
     "text": [
      "Moviepy - Done !\n",
      "Moviepy - video ready C:\\Users\\GE00000668\\Documents\\Scraping\\cctv-indonesia/ts_files\\seg14587.mp4\n",
      "######### seg14587.ts converted into seg14587.mp4 #########\n",
      "berhasil konversi ke mp4\n",
      "Moviepy - Building video C:\\Users\\GE00000668\\Documents\\Scraping\\cctv-indonesia/ts_files\\seg14588.mp4.\n",
      "Moviepy - Writing video C:\\Users\\GE00000668\\Documents\\Scraping\\cctv-indonesia/ts_files\\seg14588.mp4\n",
      "\n"
     ]
    },
    {
     "name": "stderr",
     "output_type": "stream",
     "text": [
      "                                                                                                                       \r"
     ]
    },
    {
     "name": "stdout",
     "output_type": "stream",
     "text": [
      "Moviepy - Done !\n",
      "Moviepy - video ready C:\\Users\\GE00000668\\Documents\\Scraping\\cctv-indonesia/ts_files\\seg14588.mp4\n",
      "######### seg14588.ts converted into seg14588.mp4 #########\n",
      "berhasil konversi ke mp4\n",
      "Moviepy - Building video C:\\Users\\GE00000668\\Documents\\Scraping\\cctv-indonesia/ts_files\\seg14589.mp4.\n",
      "Moviepy - Writing video C:\\Users\\GE00000668\\Documents\\Scraping\\cctv-indonesia/ts_files\\seg14589.mp4\n",
      "\n"
     ]
    },
    {
     "name": "stderr",
     "output_type": "stream",
     "text": [
      "                                                                                                                       \r"
     ]
    },
    {
     "name": "stdout",
     "output_type": "stream",
     "text": [
      "Moviepy - Done !\n",
      "Moviepy - video ready C:\\Users\\GE00000668\\Documents\\Scraping\\cctv-indonesia/ts_files\\seg14589.mp4\n",
      "######### seg14589.ts converted into seg14589.mp4 #########\n",
      "berhasil konversi ke mp4\n",
      "Moviepy - Building video C:\\Users\\GE00000668\\Documents\\Scraping\\cctv-indonesia/ts_files\\seg14590.mp4.\n",
      "Moviepy - Writing video C:\\Users\\GE00000668\\Documents\\Scraping\\cctv-indonesia/ts_files\\seg14590.mp4\n",
      "\n"
     ]
    },
    {
     "name": "stderr",
     "output_type": "stream",
     "text": [
      "                                                                                                                       \r"
     ]
    },
    {
     "name": "stdout",
     "output_type": "stream",
     "text": [
      "Moviepy - Done !\n",
      "Moviepy - video ready C:\\Users\\GE00000668\\Documents\\Scraping\\cctv-indonesia/ts_files\\seg14590.mp4\n",
      "######### seg14590.ts converted into seg14590.mp4 #########\n",
      "berhasil konversi ke mp4\n",
      "Moviepy - Building video C:\\Users\\GE00000668\\Documents\\Scraping\\cctv-indonesia/ts_files\\seg14591.mp4.\n",
      "Moviepy - Writing video C:\\Users\\GE00000668\\Documents\\Scraping\\cctv-indonesia/ts_files\\seg14591.mp4\n",
      "\n"
     ]
    },
    {
     "name": "stderr",
     "output_type": "stream",
     "text": [
      "                                                                                                                       \r"
     ]
    },
    {
     "name": "stdout",
     "output_type": "stream",
     "text": [
      "Moviepy - Done !\n",
      "Moviepy - video ready C:\\Users\\GE00000668\\Documents\\Scraping\\cctv-indonesia/ts_files\\seg14591.mp4\n",
      "######### seg14591.ts converted into seg14591.mp4 #########\n",
      "berhasil konversi ke mp4\n",
      "Moviepy - Building video C:\\Users\\GE00000668\\Documents\\Scraping\\cctv-indonesia/ts_files\\seg14592.mp4.\n",
      "Moviepy - Writing video C:\\Users\\GE00000668\\Documents\\Scraping\\cctv-indonesia/ts_files\\seg14592.mp4\n",
      "\n"
     ]
    },
    {
     "name": "stderr",
     "output_type": "stream",
     "text": [
      "                                                                                                                       \r"
     ]
    },
    {
     "name": "stdout",
     "output_type": "stream",
     "text": [
      "Moviepy - Done !\n",
      "Moviepy - video ready C:\\Users\\GE00000668\\Documents\\Scraping\\cctv-indonesia/ts_files\\seg14592.mp4\n",
      "######### seg14592.ts converted into seg14592.mp4 #########\n",
      "berhasil konversi ke mp4\n",
      "Moviepy - Building video C:\\Users\\GE00000668\\Documents\\Scraping\\cctv-indonesia/ts_files\\seg14593.mp4.\n",
      "Moviepy - Writing video C:\\Users\\GE00000668\\Documents\\Scraping\\cctv-indonesia/ts_files\\seg14593.mp4\n",
      "\n"
     ]
    },
    {
     "name": "stderr",
     "output_type": "stream",
     "text": [
      "                                                                                                                       \r"
     ]
    },
    {
     "name": "stdout",
     "output_type": "stream",
     "text": [
      "Moviepy - Done !\n",
      "Moviepy - video ready C:\\Users\\GE00000668\\Documents\\Scraping\\cctv-indonesia/ts_files\\seg14593.mp4\n",
      "######### seg14593.ts converted into seg14593.mp4 #########\n",
      "berhasil konversi ke mp4\n",
      "Moviepy - Building video C:\\Users\\GE00000668\\Documents\\Scraping\\cctv-indonesia/ts_files\\seg14594.mp4.\n",
      "Moviepy - Writing video C:\\Users\\GE00000668\\Documents\\Scraping\\cctv-indonesia/ts_files\\seg14594.mp4\n",
      "\n"
     ]
    },
    {
     "name": "stderr",
     "output_type": "stream",
     "text": [
      "                                                                                                                       \r"
     ]
    },
    {
     "name": "stdout",
     "output_type": "stream",
     "text": [
      "Moviepy - Done !\n",
      "Moviepy - video ready C:\\Users\\GE00000668\\Documents\\Scraping\\cctv-indonesia/ts_files\\seg14594.mp4\n",
      "######### seg14594.ts converted into seg14594.mp4 #########\n",
      "berhasil konversi ke mp4\n",
      "membuat file : Sriwijaya_2023-05-16-10.mp4\n",
      "Moviepy - Building video C:\\Users\\GE00000668\\Documents\\Scraping\\cctv-indonesia/output_file/Sriwijaya/Sriwijaya_2023-05-16-10.mp4.\n",
      "Moviepy - Writing video C:\\Users\\GE00000668\\Documents\\Scraping\\cctv-indonesia/output_file/Sriwijaya/Sriwijaya_2023-05-16-10.mp4\n",
      "\n"
     ]
    },
    {
     "name": "stderr",
     "output_type": "stream",
     "text": [
      "                                                                                                                       \r"
     ]
    },
    {
     "name": "stdout",
     "output_type": "stream",
     "text": [
      "Moviepy - Done !\n",
      "Moviepy - video ready C:\\Users\\GE00000668\\Documents\\Scraping\\cctv-indonesia/output_file/Sriwijaya/Sriwijaya_2023-05-16-10.mp4\n",
      "------------ Video to Frame/Image Conversion ------------\n",
      "berhasil hapus video file\n",
      "------------ Prediction Phase ------------\n",
      "Found 42 validated image filenames.\n",
      "3/3 [==============================] - 1s 171ms/step\n",
      "########## Selesai prediksi daerah : Sriwijaya\n",
      "########## Akan download cctv daerah : Lingkar Buah Batu\n",
      "sudah mau masuk iterasi\n",
      "downloading seg3341.ts\n",
      "link download ts file: https://atcs-dishub.bandung.go.id:1990/BuahBatuLingkar/seg3341.ts\n",
      "Downloaded file size: 244964 bytes\n",
      "downloading seg3342.ts\n",
      "link download ts file: https://atcs-dishub.bandung.go.id:1990/BuahBatuLingkar/seg3342.ts\n",
      "Downloaded file size: 224096 bytes\n",
      "downloading seg3343.ts\n",
      "link download ts file: https://atcs-dishub.bandung.go.id:1990/BuahBatuLingkar/seg3343.ts\n",
      "Downloaded file size: 248160 bytes\n",
      "downloading seg3344.ts\n",
      "link download ts file: https://atcs-dishub.bandung.go.id:1990/BuahBatuLingkar/seg3344.ts\n",
      "Downloaded file size: 227104 bytes\n",
      "downloading seg3345.ts\n",
      "link download ts file: https://atcs-dishub.bandung.go.id:1990/BuahBatuLingkar/seg3345.ts\n",
      "Downloaded file size: 213004 bytes\n",
      "downloading seg3346.ts\n",
      "link download ts file: https://atcs-dishub.bandung.go.id:1990/BuahBatuLingkar/seg3346.ts\n",
      "Downloaded file size: 131788 bytes\n",
      "downloading seg3347.ts\n",
      "link download ts file: https://atcs-dishub.bandung.go.id:1990/BuahBatuLingkar/seg3347.ts\n",
      "Downloaded file size: 150776 bytes\n",
      "sudah mau masuk iterasi\n",
      "downloading seg3341.ts\n",
      "link download ts file: https://atcs-dishub.bandung.go.id:1990/BuahBatuLingkar/seg3341.ts\n",
      "Downloaded file size: 244964 bytes\n",
      "downloading seg3342.ts\n",
      "link download ts file: https://atcs-dishub.bandung.go.id:1990/BuahBatuLingkar/seg3342.ts\n",
      "Downloaded file size: 224096 bytes\n",
      "downloading seg3343.ts\n",
      "link download ts file: https://atcs-dishub.bandung.go.id:1990/BuahBatuLingkar/seg3343.ts\n",
      "Downloaded file size: 248160 bytes\n",
      "downloading seg3344.ts\n",
      "link download ts file: https://atcs-dishub.bandung.go.id:1990/BuahBatuLingkar/seg3344.ts\n",
      "Downloaded file size: 227104 bytes\n",
      "downloading seg3345.ts\n",
      "link download ts file: https://atcs-dishub.bandung.go.id:1990/BuahBatuLingkar/seg3345.ts\n",
      "Downloaded file size: 213004 bytes\n",
      "downloading seg3346.ts\n",
      "link download ts file: https://atcs-dishub.bandung.go.id:1990/BuahBatuLingkar/seg3346.ts\n",
      "Downloaded file size: 131788 bytes\n",
      "downloading seg3347.ts\n",
      "link download ts file: https://atcs-dishub.bandung.go.id:1990/BuahBatuLingkar/seg3347.ts\n",
      "Downloaded file size: 150776 bytes\n",
      "sudah mau masuk iterasi\n",
      "downloading seg3341.ts\n",
      "link download ts file: https://atcs-dishub.bandung.go.id:1990/BuahBatuLingkar/seg3341.ts\n",
      "Downloaded file size: 244964 bytes\n",
      "downloading seg3342.ts\n",
      "link download ts file: https://atcs-dishub.bandung.go.id:1990/BuahBatuLingkar/seg3342.ts\n",
      "Downloaded file size: 224096 bytes\n",
      "downloading seg3343.ts\n",
      "link download ts file: https://atcs-dishub.bandung.go.id:1990/BuahBatuLingkar/seg3343.ts\n",
      "Downloaded file size: 248160 bytes\n",
      "downloading seg3344.ts\n",
      "link download ts file: https://atcs-dishub.bandung.go.id:1990/BuahBatuLingkar/seg3344.ts\n",
      "Downloaded file size: 227104 bytes\n",
      "downloading seg3345.ts\n",
      "link download ts file: https://atcs-dishub.bandung.go.id:1990/BuahBatuLingkar/seg3345.ts\n",
      "Downloaded file size: 213004 bytes\n",
      "downloading seg3346.ts\n",
      "link download ts file: https://atcs-dishub.bandung.go.id:1990/BuahBatuLingkar/seg3346.ts\n",
      "Downloaded file size: 131788 bytes\n",
      "downloading seg3347.ts\n",
      "link download ts file: https://atcs-dishub.bandung.go.id:1990/BuahBatuLingkar/seg3347.ts\n",
      "Downloaded file size: 150776 bytes\n",
      "Moviepy - Building video C:\\Users\\GE00000668\\Documents\\Scraping\\cctv-indonesia/ts_files\\seg3341.mp4.\n",
      "Moviepy - Writing video C:\\Users\\GE00000668\\Documents\\Scraping\\cctv-indonesia/ts_files\\seg3341.mp4\n",
      "\n"
     ]
    },
    {
     "name": "stderr",
     "output_type": "stream",
     "text": [
      "                                                                                                                       \r"
     ]
    },
    {
     "name": "stdout",
     "output_type": "stream",
     "text": [
      "Moviepy - Done !\n",
      "Moviepy - video ready C:\\Users\\GE00000668\\Documents\\Scraping\\cctv-indonesia/ts_files\\seg3341.mp4\n",
      "######### seg3341.ts converted into seg3341.mp4 #########\n",
      "berhasil konversi ke mp4\n",
      "Moviepy - Building video C:\\Users\\GE00000668\\Documents\\Scraping\\cctv-indonesia/ts_files\\seg3342.mp4.\n",
      "Moviepy - Writing video C:\\Users\\GE00000668\\Documents\\Scraping\\cctv-indonesia/ts_files\\seg3342.mp4\n",
      "\n"
     ]
    },
    {
     "name": "stderr",
     "output_type": "stream",
     "text": [
      "                                                                                                                       \r"
     ]
    },
    {
     "name": "stdout",
     "output_type": "stream",
     "text": [
      "Moviepy - Done !\n",
      "Moviepy - video ready C:\\Users\\GE00000668\\Documents\\Scraping\\cctv-indonesia/ts_files\\seg3342.mp4\n",
      "######### seg3342.ts converted into seg3342.mp4 #########\n",
      "berhasil konversi ke mp4\n",
      "Moviepy - Building video C:\\Users\\GE00000668\\Documents\\Scraping\\cctv-indonesia/ts_files\\seg3343.mp4.\n",
      "Moviepy - Writing video C:\\Users\\GE00000668\\Documents\\Scraping\\cctv-indonesia/ts_files\\seg3343.mp4\n",
      "\n"
     ]
    },
    {
     "name": "stderr",
     "output_type": "stream",
     "text": [
      "                                                                                                                       \r"
     ]
    },
    {
     "name": "stdout",
     "output_type": "stream",
     "text": [
      "Moviepy - Done !\n",
      "Moviepy - video ready C:\\Users\\GE00000668\\Documents\\Scraping\\cctv-indonesia/ts_files\\seg3343.mp4\n",
      "######### seg3343.ts converted into seg3343.mp4 #########\n",
      "berhasil konversi ke mp4\n",
      "Moviepy - Building video C:\\Users\\GE00000668\\Documents\\Scraping\\cctv-indonesia/ts_files\\seg3344.mp4.\n",
      "Moviepy - Writing video C:\\Users\\GE00000668\\Documents\\Scraping\\cctv-indonesia/ts_files\\seg3344.mp4\n",
      "\n"
     ]
    },
    {
     "name": "stderr",
     "output_type": "stream",
     "text": [
      "                                                                                                                       \r"
     ]
    },
    {
     "name": "stdout",
     "output_type": "stream",
     "text": [
      "Moviepy - Done !\n",
      "Moviepy - video ready C:\\Users\\GE00000668\\Documents\\Scraping\\cctv-indonesia/ts_files\\seg3344.mp4\n",
      "######### seg3344.ts converted into seg3344.mp4 #########\n",
      "berhasil konversi ke mp4\n",
      "Moviepy - Building video C:\\Users\\GE00000668\\Documents\\Scraping\\cctv-indonesia/ts_files\\seg3345.mp4.\n",
      "Moviepy - Writing video C:\\Users\\GE00000668\\Documents\\Scraping\\cctv-indonesia/ts_files\\seg3345.mp4\n",
      "\n"
     ]
    },
    {
     "name": "stderr",
     "output_type": "stream",
     "text": [
      "                                                                                                                       \r"
     ]
    },
    {
     "name": "stdout",
     "output_type": "stream",
     "text": [
      "Moviepy - Done !\n",
      "Moviepy - video ready C:\\Users\\GE00000668\\Documents\\Scraping\\cctv-indonesia/ts_files\\seg3345.mp4\n",
      "######### seg3345.ts converted into seg3345.mp4 #########\n",
      "berhasil konversi ke mp4\n",
      "Moviepy - Building video C:\\Users\\GE00000668\\Documents\\Scraping\\cctv-indonesia/ts_files\\seg3346.mp4.\n",
      "Moviepy - Writing video C:\\Users\\GE00000668\\Documents\\Scraping\\cctv-indonesia/ts_files\\seg3346.mp4\n",
      "\n"
     ]
    },
    {
     "name": "stderr",
     "output_type": "stream",
     "text": [
      "                                                                                                                       \r"
     ]
    },
    {
     "name": "stdout",
     "output_type": "stream",
     "text": [
      "Moviepy - Done !\n",
      "Moviepy - video ready C:\\Users\\GE00000668\\Documents\\Scraping\\cctv-indonesia/ts_files\\seg3346.mp4\n",
      "######### seg3346.ts converted into seg3346.mp4 #########\n",
      "berhasil konversi ke mp4\n",
      "Moviepy - Building video C:\\Users\\GE00000668\\Documents\\Scraping\\cctv-indonesia/ts_files\\seg3347.mp4.\n",
      "Moviepy - Writing video C:\\Users\\GE00000668\\Documents\\Scraping\\cctv-indonesia/ts_files\\seg3347.mp4\n",
      "\n"
     ]
    },
    {
     "name": "stderr",
     "output_type": "stream",
     "text": [
      "                                                                                                                       \r"
     ]
    },
    {
     "name": "stdout",
     "output_type": "stream",
     "text": [
      "Moviepy - Done !\n",
      "Moviepy - video ready C:\\Users\\GE00000668\\Documents\\Scraping\\cctv-indonesia/ts_files\\seg3347.mp4\n",
      "######### seg3347.ts converted into seg3347.mp4 #########\n",
      "berhasil konversi ke mp4\n",
      "membuat file : Lingkar Buah Batu_2023-05-16-10.mp4\n",
      "Moviepy - Building video C:\\Users\\GE00000668\\Documents\\Scraping\\cctv-indonesia/output_file/Lingkar Buah Batu/Lingkar Buah Batu_2023-05-16-10.mp4.\n",
      "Moviepy - Writing video C:\\Users\\GE00000668\\Documents\\Scraping\\cctv-indonesia/output_file/Lingkar Buah Batu/Lingkar Buah Batu_2023-05-16-10.mp4\n",
      "\n"
     ]
    },
    {
     "name": "stderr",
     "output_type": "stream",
     "text": [
      "                                                                                                                       \r"
     ]
    },
    {
     "name": "stdout",
     "output_type": "stream",
     "text": [
      "Moviepy - Done !\n",
      "Moviepy - video ready C:\\Users\\GE00000668\\Documents\\Scraping\\cctv-indonesia/output_file/Lingkar Buah Batu/Lingkar Buah Batu_2023-05-16-10.mp4\n",
      "------------ Video to Frame/Image Conversion ------------\n",
      "berhasil hapus video file\n",
      "------------ Prediction Phase ------------\n",
      "Found 42 validated image filenames.\n",
      "3/3 [==============================] - 1s 164ms/step\n",
      "########## Selesai prediksi daerah : Lingkar Buah Batu\n",
      "########## Akan download cctv daerah : Martanegara\n",
      "sudah mau masuk iterasi\n",
      "downloading seg14604.ts\n",
      "link download ts file: https://atcs-dishub.bandung.go.id:1990/Martanegara/seg14604.ts\n",
      "Downloaded file size: 72004 bytes\n",
      "downloading seg14605.ts\n",
      "link download ts file: https://atcs-dishub.bandung.go.id:1990/Martanegara/seg14605.ts\n",
      "Downloaded file size: 71628 bytes\n",
      "downloading seg14606.ts\n",
      "link download ts file: https://atcs-dishub.bandung.go.id:1990/Martanegara/seg14606.ts\n",
      "Downloaded file size: 110920 bytes\n",
      "downloading seg14607.ts\n",
      "link download ts file: https://atcs-dishub.bandung.go.id:1990/Martanegara/seg14607.ts\n",
      "Downloaded file size: 138368 bytes\n",
      "downloading seg14608.ts\n",
      "link download ts file: https://atcs-dishub.bandung.go.id:1990/Martanegara/seg14608.ts\n",
      "Downloaded file size: 114304 bytes\n",
      "downloading seg14609.ts\n",
      "link download ts file: https://atcs-dishub.bandung.go.id:1990/Martanegara/seg14609.ts\n",
      "Downloaded file size: 104152 bytes\n",
      "downloading seg14610.ts\n",
      "link download ts file: https://atcs-dishub.bandung.go.id:1990/Martanegara/seg14610.ts\n",
      "Downloaded file size: 101896 bytes\n",
      "sudah mau masuk iterasi\n",
      "downloading seg14605.ts\n",
      "link download ts file: https://atcs-dishub.bandung.go.id:1990/Martanegara/seg14605.ts\n",
      "Downloaded file size: 71628 bytes\n",
      "downloading seg14606.ts\n",
      "link download ts file: https://atcs-dishub.bandung.go.id:1990/Martanegara/seg14606.ts\n",
      "Downloaded file size: 110920 bytes\n",
      "downloading seg14607.ts\n",
      "link download ts file: https://atcs-dishub.bandung.go.id:1990/Martanegara/seg14607.ts\n",
      "Downloaded file size: 138368 bytes\n",
      "downloading seg14608.ts\n",
      "link download ts file: https://atcs-dishub.bandung.go.id:1990/Martanegara/seg14608.ts\n",
      "Downloaded file size: 114304 bytes\n",
      "downloading seg14609.ts\n",
      "link download ts file: https://atcs-dishub.bandung.go.id:1990/Martanegara/seg14609.ts\n",
      "Downloaded file size: 104152 bytes\n",
      "downloading seg14610.ts\n",
      "link download ts file: https://atcs-dishub.bandung.go.id:1990/Martanegara/seg14610.ts\n",
      "Downloaded file size: 101896 bytes\n",
      "downloading seg14611.ts\n",
      "link download ts file: https://atcs-dishub.bandung.go.id:1990/Martanegara/seg14611.ts\n",
      "Downloaded file size: 128216 bytes\n",
      "sudah mau masuk iterasi\n",
      "downloading seg14605.ts\n",
      "link download ts file: https://atcs-dishub.bandung.go.id:1990/Martanegara/seg14605.ts\n",
      "Downloaded file size: 71628 bytes\n",
      "downloading seg14606.ts\n",
      "link download ts file: https://atcs-dishub.bandung.go.id:1990/Martanegara/seg14606.ts\n",
      "Downloaded file size: 110920 bytes\n",
      "downloading seg14607.ts\n",
      "link download ts file: https://atcs-dishub.bandung.go.id:1990/Martanegara/seg14607.ts\n",
      "Downloaded file size: 138368 bytes\n",
      "downloading seg14608.ts\n",
      "link download ts file: https://atcs-dishub.bandung.go.id:1990/Martanegara/seg14608.ts\n",
      "Downloaded file size: 114304 bytes\n",
      "downloading seg14609.ts\n",
      "link download ts file: https://atcs-dishub.bandung.go.id:1990/Martanegara/seg14609.ts\n",
      "Downloaded file size: 104152 bytes\n",
      "downloading seg14610.ts\n",
      "link download ts file: https://atcs-dishub.bandung.go.id:1990/Martanegara/seg14610.ts\n",
      "Downloaded file size: 101896 bytes\n",
      "downloading seg14611.ts\n",
      "link download ts file: https://atcs-dishub.bandung.go.id:1990/Martanegara/seg14611.ts\n",
      "Downloaded file size: 128216 bytes\n",
      "Moviepy - Building video C:\\Users\\GE00000668\\Documents\\Scraping\\cctv-indonesia/ts_files\\seg14604.mp4.\n",
      "Moviepy - Writing video C:\\Users\\GE00000668\\Documents\\Scraping\\cctv-indonesia/ts_files\\seg14604.mp4\n",
      "\n"
     ]
    },
    {
     "name": "stderr",
     "output_type": "stream",
     "text": [
      "                                                                                                                       \r"
     ]
    },
    {
     "name": "stdout",
     "output_type": "stream",
     "text": [
      "Moviepy - Done !\n",
      "Moviepy - video ready C:\\Users\\GE00000668\\Documents\\Scraping\\cctv-indonesia/ts_files\\seg14604.mp4\n",
      "######### seg14604.ts converted into seg14604.mp4 #########\n",
      "berhasil konversi ke mp4\n",
      "Moviepy - Building video C:\\Users\\GE00000668\\Documents\\Scraping\\cctv-indonesia/ts_files\\seg14605.mp4.\n",
      "Moviepy - Writing video C:\\Users\\GE00000668\\Documents\\Scraping\\cctv-indonesia/ts_files\\seg14605.mp4\n",
      "\n"
     ]
    },
    {
     "name": "stderr",
     "output_type": "stream",
     "text": [
      "                                                                                                                       \r"
     ]
    },
    {
     "name": "stdout",
     "output_type": "stream",
     "text": [
      "Moviepy - Done !\n",
      "Moviepy - video ready C:\\Users\\GE00000668\\Documents\\Scraping\\cctv-indonesia/ts_files\\seg14605.mp4\n",
      "######### seg14605.ts converted into seg14605.mp4 #########\n",
      "berhasil konversi ke mp4\n",
      "Moviepy - Building video C:\\Users\\GE00000668\\Documents\\Scraping\\cctv-indonesia/ts_files\\seg14606.mp4.\n",
      "Moviepy - Writing video C:\\Users\\GE00000668\\Documents\\Scraping\\cctv-indonesia/ts_files\\seg14606.mp4\n",
      "\n"
     ]
    },
    {
     "name": "stderr",
     "output_type": "stream",
     "text": [
      "                                                                                                                       \r"
     ]
    },
    {
     "name": "stdout",
     "output_type": "stream",
     "text": [
      "Moviepy - Done !\n",
      "Moviepy - video ready C:\\Users\\GE00000668\\Documents\\Scraping\\cctv-indonesia/ts_files\\seg14606.mp4\n",
      "######### seg14606.ts converted into seg14606.mp4 #########\n",
      "berhasil konversi ke mp4\n",
      "Moviepy - Building video C:\\Users\\GE00000668\\Documents\\Scraping\\cctv-indonesia/ts_files\\seg14607.mp4.\n",
      "Moviepy - Writing video C:\\Users\\GE00000668\\Documents\\Scraping\\cctv-indonesia/ts_files\\seg14607.mp4\n",
      "\n"
     ]
    },
    {
     "name": "stderr",
     "output_type": "stream",
     "text": [
      "                                                                                                                       \r"
     ]
    },
    {
     "name": "stdout",
     "output_type": "stream",
     "text": [
      "Moviepy - Done !\n",
      "Moviepy - video ready C:\\Users\\GE00000668\\Documents\\Scraping\\cctv-indonesia/ts_files\\seg14607.mp4\n",
      "######### seg14607.ts converted into seg14607.mp4 #########\n",
      "berhasil konversi ke mp4\n",
      "Moviepy - Building video C:\\Users\\GE00000668\\Documents\\Scraping\\cctv-indonesia/ts_files\\seg14608.mp4.\n",
      "Moviepy - Writing video C:\\Users\\GE00000668\\Documents\\Scraping\\cctv-indonesia/ts_files\\seg14608.mp4\n",
      "\n"
     ]
    },
    {
     "name": "stderr",
     "output_type": "stream",
     "text": [
      "                                                                                                                       \r"
     ]
    },
    {
     "name": "stdout",
     "output_type": "stream",
     "text": [
      "Moviepy - Done !\n",
      "Moviepy - video ready C:\\Users\\GE00000668\\Documents\\Scraping\\cctv-indonesia/ts_files\\seg14608.mp4\n",
      "######### seg14608.ts converted into seg14608.mp4 #########\n",
      "berhasil konversi ke mp4\n",
      "Moviepy - Building video C:\\Users\\GE00000668\\Documents\\Scraping\\cctv-indonesia/ts_files\\seg14609.mp4.\n",
      "Moviepy - Writing video C:\\Users\\GE00000668\\Documents\\Scraping\\cctv-indonesia/ts_files\\seg14609.mp4\n",
      "\n"
     ]
    },
    {
     "name": "stderr",
     "output_type": "stream",
     "text": [
      "                                                                                                                       \r"
     ]
    },
    {
     "name": "stdout",
     "output_type": "stream",
     "text": [
      "Moviepy - Done !\n",
      "Moviepy - video ready C:\\Users\\GE00000668\\Documents\\Scraping\\cctv-indonesia/ts_files\\seg14609.mp4\n",
      "######### seg14609.ts converted into seg14609.mp4 #########\n",
      "berhasil konversi ke mp4\n",
      "Moviepy - Building video C:\\Users\\GE00000668\\Documents\\Scraping\\cctv-indonesia/ts_files\\seg14610.mp4.\n",
      "Moviepy - Writing video C:\\Users\\GE00000668\\Documents\\Scraping\\cctv-indonesia/ts_files\\seg14610.mp4\n",
      "\n"
     ]
    },
    {
     "name": "stderr",
     "output_type": "stream",
     "text": [
      "                                                                                                                       \r"
     ]
    },
    {
     "name": "stdout",
     "output_type": "stream",
     "text": [
      "Moviepy - Done !\n",
      "Moviepy - video ready C:\\Users\\GE00000668\\Documents\\Scraping\\cctv-indonesia/ts_files\\seg14610.mp4\n",
      "######### seg14610.ts converted into seg14610.mp4 #########\n",
      "berhasil konversi ke mp4\n",
      "Moviepy - Building video C:\\Users\\GE00000668\\Documents\\Scraping\\cctv-indonesia/ts_files\\seg14611.mp4.\n",
      "Moviepy - Writing video C:\\Users\\GE00000668\\Documents\\Scraping\\cctv-indonesia/ts_files\\seg14611.mp4\n",
      "\n"
     ]
    },
    {
     "name": "stderr",
     "output_type": "stream",
     "text": [
      "                                                                                                                       \r"
     ]
    },
    {
     "name": "stdout",
     "output_type": "stream",
     "text": [
      "Moviepy - Done !\n",
      "Moviepy - video ready C:\\Users\\GE00000668\\Documents\\Scraping\\cctv-indonesia/ts_files\\seg14611.mp4\n",
      "######### seg14611.ts converted into seg14611.mp4 #########\n",
      "berhasil konversi ke mp4\n",
      "membuat file : Martanegara_2023-05-16-10.mp4\n",
      "Moviepy - Building video C:\\Users\\GE00000668\\Documents\\Scraping\\cctv-indonesia/output_file/Martanegara/Martanegara_2023-05-16-10.mp4.\n",
      "Moviepy - Writing video C:\\Users\\GE00000668\\Documents\\Scraping\\cctv-indonesia/output_file/Martanegara/Martanegara_2023-05-16-10.mp4\n",
      "\n"
     ]
    },
    {
     "name": "stderr",
     "output_type": "stream",
     "text": [
      "                                                                                                                       \r"
     ]
    },
    {
     "name": "stdout",
     "output_type": "stream",
     "text": [
      "Moviepy - Done !\n",
      "Moviepy - video ready C:\\Users\\GE00000668\\Documents\\Scraping\\cctv-indonesia/output_file/Martanegara/Martanegara_2023-05-16-10.mp4\n",
      "------------ Video to Frame/Image Conversion ------------\n",
      "berhasil hapus video file\n",
      "------------ Prediction Phase ------------\n",
      "Found 42 validated image filenames.\n",
      "3/3 [==============================] - 1s 173ms/step\n",
      "########## Selesai prediksi daerah : Martanegara\n",
      "########## Akan download cctv daerah : Talaga Bodas\n",
      "sudah mau masuk iterasi\n",
      "downloading seg8766.ts\n",
      "link download ts file: https://atcs-dishub.bandung.go.id:1990/TalagaBodas/seg8766.ts\n",
      "Downloaded file size: 249664 bytes\n",
      "downloading seg8767.ts\n",
      "link download ts file: https://atcs-dishub.bandung.go.id:1990/TalagaBodas/seg8767.ts\n",
      "Downloaded file size: 254928 bytes\n",
      "downloading seg8768.ts\n",
      "link download ts file: https://atcs-dishub.bandung.go.id:1990/TalagaBodas/seg8768.ts\n",
      "Downloaded file size: 276360 bytes\n",
      "downloading seg8769.ts\n",
      "link download ts file: https://atcs-dishub.bandung.go.id:1990/TalagaBodas/seg8769.ts\n",
      "Downloaded file size: 307568 bytes\n",
      "downloading seg8770.ts\n",
      "link download ts file: https://atcs-dishub.bandung.go.id:1990/TalagaBodas/seg8770.ts\n",
      "Downloaded file size: 267148 bytes\n",
      "downloading seg8771.ts\n",
      "link download ts file: https://atcs-dishub.bandung.go.id:1990/TalagaBodas/seg8771.ts\n",
      "Downloaded file size: 280872 bytes\n",
      "downloading seg8772.ts\n",
      "link download ts file: https://atcs-dishub.bandung.go.id:1990/TalagaBodas/seg8772.ts\n",
      "Downloaded file size: 271096 bytes\n",
      "sudah mau masuk iterasi\n",
      "downloading seg8767.ts\n",
      "link download ts file: https://atcs-dishub.bandung.go.id:1990/TalagaBodas/seg8767.ts\n",
      "Downloaded file size: 254928 bytes\n",
      "downloading seg8768.ts\n",
      "link download ts file: https://atcs-dishub.bandung.go.id:1990/TalagaBodas/seg8768.ts\n",
      "Downloaded file size: 276360 bytes\n",
      "downloading seg8769.ts\n",
      "link download ts file: https://atcs-dishub.bandung.go.id:1990/TalagaBodas/seg8769.ts\n",
      "Downloaded file size: 307568 bytes\n",
      "downloading seg8770.ts\n",
      "link download ts file: https://atcs-dishub.bandung.go.id:1990/TalagaBodas/seg8770.ts\n",
      "Downloaded file size: 267148 bytes\n",
      "downloading seg8771.ts\n",
      "link download ts file: https://atcs-dishub.bandung.go.id:1990/TalagaBodas/seg8771.ts\n",
      "Downloaded file size: 280872 bytes\n",
      "downloading seg8772.ts\n",
      "link download ts file: https://atcs-dishub.bandung.go.id:1990/TalagaBodas/seg8772.ts\n",
      "Downloaded file size: 271096 bytes\n",
      "downloading seg8773.ts\n",
      "link download ts file: https://atcs-dishub.bandung.go.id:1990/TalagaBodas/seg8773.ts\n",
      "Downloaded file size: 273728 bytes\n",
      "sudah mau masuk iterasi\n",
      "downloading seg8768.ts\n",
      "link download ts file: https://atcs-dishub.bandung.go.id:1990/TalagaBodas/seg8768.ts\n",
      "Downloaded file size: 276360 bytes\n",
      "downloading seg8769.ts\n",
      "link download ts file: https://atcs-dishub.bandung.go.id:1990/TalagaBodas/seg8769.ts\n",
      "Downloaded file size: 307568 bytes\n",
      "downloading seg8770.ts\n",
      "link download ts file: https://atcs-dishub.bandung.go.id:1990/TalagaBodas/seg8770.ts\n",
      "Downloaded file size: 267148 bytes\n",
      "downloading seg8771.ts\n",
      "link download ts file: https://atcs-dishub.bandung.go.id:1990/TalagaBodas/seg8771.ts\n",
      "Downloaded file size: 280872 bytes\n",
      "downloading seg8772.ts\n",
      "link download ts file: https://atcs-dishub.bandung.go.id:1990/TalagaBodas/seg8772.ts\n",
      "Downloaded file size: 271096 bytes\n",
      "downloading seg8773.ts\n",
      "link download ts file: https://atcs-dishub.bandung.go.id:1990/TalagaBodas/seg8773.ts\n",
      "Downloaded file size: 273728 bytes\n",
      "downloading seg8774.ts\n",
      "link download ts file: https://atcs-dishub.bandung.go.id:1990/TalagaBodas/seg8774.ts\n",
      "Downloaded file size: 261320 bytes\n",
      "Moviepy - Building video C:\\Users\\GE00000668\\Documents\\Scraping\\cctv-indonesia/ts_files\\seg8766.mp4.\n",
      "Moviepy - Writing video C:\\Users\\GE00000668\\Documents\\Scraping\\cctv-indonesia/ts_files\\seg8766.mp4\n",
      "\n"
     ]
    },
    {
     "name": "stderr",
     "output_type": "stream",
     "text": [
      "                                                                                                                       \r"
     ]
    },
    {
     "name": "stdout",
     "output_type": "stream",
     "text": [
      "Moviepy - Done !\n",
      "Moviepy - video ready C:\\Users\\GE00000668\\Documents\\Scraping\\cctv-indonesia/ts_files\\seg8766.mp4\n",
      "######### seg8766.ts converted into seg8766.mp4 #########\n",
      "berhasil konversi ke mp4\n",
      "Moviepy - Building video C:\\Users\\GE00000668\\Documents\\Scraping\\cctv-indonesia/ts_files\\seg8767.mp4.\n",
      "Moviepy - Writing video C:\\Users\\GE00000668\\Documents\\Scraping\\cctv-indonesia/ts_files\\seg8767.mp4\n",
      "\n"
     ]
    },
    {
     "name": "stderr",
     "output_type": "stream",
     "text": [
      "                                                                                                                       \r"
     ]
    },
    {
     "name": "stdout",
     "output_type": "stream",
     "text": [
      "Moviepy - Done !\n",
      "Moviepy - video ready C:\\Users\\GE00000668\\Documents\\Scraping\\cctv-indonesia/ts_files\\seg8767.mp4\n",
      "######### seg8767.ts converted into seg8767.mp4 #########\n",
      "berhasil konversi ke mp4\n",
      "Moviepy - Building video C:\\Users\\GE00000668\\Documents\\Scraping\\cctv-indonesia/ts_files\\seg8768.mp4.\n",
      "Moviepy - Writing video C:\\Users\\GE00000668\\Documents\\Scraping\\cctv-indonesia/ts_files\\seg8768.mp4\n",
      "\n"
     ]
    },
    {
     "name": "stderr",
     "output_type": "stream",
     "text": [
      "                                                                                                                       \r"
     ]
    },
    {
     "name": "stdout",
     "output_type": "stream",
     "text": [
      "Moviepy - Done !\n",
      "Moviepy - video ready C:\\Users\\GE00000668\\Documents\\Scraping\\cctv-indonesia/ts_files\\seg8768.mp4\n",
      "######### seg8768.ts converted into seg8768.mp4 #########\n",
      "berhasil konversi ke mp4\n",
      "Moviepy - Building video C:\\Users\\GE00000668\\Documents\\Scraping\\cctv-indonesia/ts_files\\seg8769.mp4.\n",
      "Moviepy - Writing video C:\\Users\\GE00000668\\Documents\\Scraping\\cctv-indonesia/ts_files\\seg8769.mp4\n",
      "\n"
     ]
    },
    {
     "name": "stderr",
     "output_type": "stream",
     "text": [
      "                                                                                                                       \r"
     ]
    },
    {
     "name": "stdout",
     "output_type": "stream",
     "text": [
      "Moviepy - Done !\n",
      "Moviepy - video ready C:\\Users\\GE00000668\\Documents\\Scraping\\cctv-indonesia/ts_files\\seg8769.mp4\n",
      "######### seg8769.ts converted into seg8769.mp4 #########\n",
      "berhasil konversi ke mp4\n",
      "Moviepy - Building video C:\\Users\\GE00000668\\Documents\\Scraping\\cctv-indonesia/ts_files\\seg8770.mp4.\n",
      "Moviepy - Writing video C:\\Users\\GE00000668\\Documents\\Scraping\\cctv-indonesia/ts_files\\seg8770.mp4\n",
      "\n"
     ]
    },
    {
     "name": "stderr",
     "output_type": "stream",
     "text": [
      "                                                                                                                       \r"
     ]
    },
    {
     "name": "stdout",
     "output_type": "stream",
     "text": [
      "Moviepy - Done !\n",
      "Moviepy - video ready C:\\Users\\GE00000668\\Documents\\Scraping\\cctv-indonesia/ts_files\\seg8770.mp4\n",
      "######### seg8770.ts converted into seg8770.mp4 #########\n",
      "berhasil konversi ke mp4\n",
      "Moviepy - Building video C:\\Users\\GE00000668\\Documents\\Scraping\\cctv-indonesia/ts_files\\seg8771.mp4.\n",
      "Moviepy - Writing video C:\\Users\\GE00000668\\Documents\\Scraping\\cctv-indonesia/ts_files\\seg8771.mp4\n",
      "\n"
     ]
    },
    {
     "name": "stderr",
     "output_type": "stream",
     "text": [
      "                                                                                                                       \r"
     ]
    },
    {
     "name": "stdout",
     "output_type": "stream",
     "text": [
      "Moviepy - Done !\n",
      "Moviepy - video ready C:\\Users\\GE00000668\\Documents\\Scraping\\cctv-indonesia/ts_files\\seg8771.mp4\n",
      "######### seg8771.ts converted into seg8771.mp4 #########\n",
      "berhasil konversi ke mp4\n",
      "Moviepy - Building video C:\\Users\\GE00000668\\Documents\\Scraping\\cctv-indonesia/ts_files\\seg8772.mp4.\n",
      "Moviepy - Writing video C:\\Users\\GE00000668\\Documents\\Scraping\\cctv-indonesia/ts_files\\seg8772.mp4\n",
      "\n"
     ]
    },
    {
     "name": "stderr",
     "output_type": "stream",
     "text": [
      "                                                                                                                       \r"
     ]
    },
    {
     "name": "stdout",
     "output_type": "stream",
     "text": [
      "Moviepy - Done !\n",
      "Moviepy - video ready C:\\Users\\GE00000668\\Documents\\Scraping\\cctv-indonesia/ts_files\\seg8772.mp4\n",
      "######### seg8772.ts converted into seg8772.mp4 #########\n",
      "berhasil konversi ke mp4\n",
      "Moviepy - Building video C:\\Users\\GE00000668\\Documents\\Scraping\\cctv-indonesia/ts_files\\seg8773.mp4.\n",
      "Moviepy - Writing video C:\\Users\\GE00000668\\Documents\\Scraping\\cctv-indonesia/ts_files\\seg8773.mp4\n",
      "\n"
     ]
    },
    {
     "name": "stderr",
     "output_type": "stream",
     "text": [
      "                                                                                                                       \r"
     ]
    },
    {
     "name": "stdout",
     "output_type": "stream",
     "text": [
      "Moviepy - Done !\n",
      "Moviepy - video ready C:\\Users\\GE00000668\\Documents\\Scraping\\cctv-indonesia/ts_files\\seg8773.mp4\n",
      "######### seg8773.ts converted into seg8773.mp4 #########\n",
      "berhasil konversi ke mp4\n",
      "Moviepy - Building video C:\\Users\\GE00000668\\Documents\\Scraping\\cctv-indonesia/ts_files\\seg8774.mp4.\n",
      "Moviepy - Writing video C:\\Users\\GE00000668\\Documents\\Scraping\\cctv-indonesia/ts_files\\seg8774.mp4\n",
      "\n"
     ]
    },
    {
     "name": "stderr",
     "output_type": "stream",
     "text": [
      "                                                                                                                       \r"
     ]
    },
    {
     "name": "stdout",
     "output_type": "stream",
     "text": [
      "Moviepy - Done !\n",
      "Moviepy - video ready C:\\Users\\GE00000668\\Documents\\Scraping\\cctv-indonesia/ts_files\\seg8774.mp4\n",
      "######### seg8774.ts converted into seg8774.mp4 #########\n",
      "berhasil konversi ke mp4\n",
      "membuat file : Talaga Bodas_2023-05-16-10.mp4\n",
      "Moviepy - Building video C:\\Users\\GE00000668\\Documents\\Scraping\\cctv-indonesia/output_file/Talaga Bodas/Talaga Bodas_2023-05-16-10.mp4.\n",
      "Moviepy - Writing video C:\\Users\\GE00000668\\Documents\\Scraping\\cctv-indonesia/output_file/Talaga Bodas/Talaga Bodas_2023-05-16-10.mp4\n",
      "\n"
     ]
    },
    {
     "name": "stderr",
     "output_type": "stream",
     "text": [
      "                                                                                                                       \r"
     ]
    },
    {
     "name": "stdout",
     "output_type": "stream",
     "text": [
      "Moviepy - Done !\n",
      "Moviepy - video ready C:\\Users\\GE00000668\\Documents\\Scraping\\cctv-indonesia/output_file/Talaga Bodas/Talaga Bodas_2023-05-16-10.mp4\n",
      "------------ Video to Frame/Image Conversion ------------\n",
      "berhasil hapus video file\n",
      "------------ Prediction Phase ------------\n",
      "Found 60 validated image filenames.\n",
      "4/4 [==============================] - 1s 118ms/step\n",
      "########## Selesai prediksi daerah : Talaga Bodas\n",
      "########## Akan download cctv daerah : Gatsu Lingkar\n",
      "sudah mau masuk iterasi\n",
      "downloading seg0.ts\n",
      "link download ts file: https://atcs-dishub.bandung.go.id:1990/GatsuLingkar/seg0.ts\n",
      "Downloaded file size: 181796 bytes\n",
      "sudah mau masuk iterasi\n",
      "downloading seg0.ts\n",
      "link download ts file: https://atcs-dishub.bandung.go.id:1990/GatsuLingkar/seg0.ts\n",
      "Downloaded file size: 181796 bytes\n",
      "sudah mau masuk iterasi\n",
      "downloading seg0.ts\n",
      "link download ts file: https://atcs-dishub.bandung.go.id:1990/GatsuLingkar/seg0.ts\n",
      "Downloaded file size: 181796 bytes\n",
      "Moviepy - Building video C:\\Users\\GE00000668\\Documents\\Scraping\\cctv-indonesia/ts_files\\seg0.mp4.\n",
      "Moviepy - Writing video C:\\Users\\GE00000668\\Documents\\Scraping\\cctv-indonesia/ts_files\\seg0.mp4\n",
      "\n"
     ]
    },
    {
     "name": "stderr",
     "output_type": "stream",
     "text": [
      "                                                                                                                       \r"
     ]
    },
    {
     "name": "stdout",
     "output_type": "stream",
     "text": [
      "Moviepy - Done !\n",
      "Moviepy - video ready C:\\Users\\GE00000668\\Documents\\Scraping\\cctv-indonesia/ts_files\\seg0.mp4\n",
      "######### seg0.ts converted into seg0.mp4 #########\n",
      "berhasil konversi ke mp4\n",
      "membuat file : Gatsu Lingkar_2023-05-16-10.mp4\n",
      "Moviepy - Building video C:\\Users\\GE00000668\\Documents\\Scraping\\cctv-indonesia/output_file/Gatsu Lingkar/Gatsu Lingkar_2023-05-16-10.mp4.\n",
      "Moviepy - Writing video C:\\Users\\GE00000668\\Documents\\Scraping\\cctv-indonesia/output_file/Gatsu Lingkar/Gatsu Lingkar_2023-05-16-10.mp4\n",
      "\n"
     ]
    },
    {
     "name": "stderr",
     "output_type": "stream",
     "text": [
      "                                                                                                                       \r"
     ]
    },
    {
     "name": "stdout",
     "output_type": "stream",
     "text": [
      "Moviepy - Done !\n",
      "Moviepy - video ready C:\\Users\\GE00000668\\Documents\\Scraping\\cctv-indonesia/output_file/Gatsu Lingkar/Gatsu Lingkar_2023-05-16-10.mp4\n",
      "------------ Video to Frame/Image Conversion ------------\n",
      "berhasil hapus video file\n",
      "------------ Prediction Phase ------------\n",
      "Found 8 validated image filenames.\n",
      "1/1 [==============================] - 0s 115ms/step\n",
      "########## Selesai prediksi daerah : Gatsu Lingkar\n"
     ]
    }
   ],
   "source": [
    "waktu_now = datetime.today().strftime(\"%Y-%m-%d-%H\")\n",
    "jam_kejadian = int(waktu_now[-2:])\n",
    "\n",
    "wadah_df = pd.DataFrame({\n",
    "    \"waktu_prediksi\": []\n",
    "    , \"daerah\" : []\n",
    "    , \"prediksi\": []\n",
    "})\n",
    "\n",
    "# Set up Google Sheets API credentials\n",
    "sa = gspread.service_account(filename = f\"{os.getcwd()}/bandung-cctv-mining-8f0fb1f6ae05.json\")\n",
    "client = sa.open('cctv-data-mining')\n",
    "\n",
    "for link in m3u8_urls[:]:\n",
    "    print(f\"########## Akan download cctv daerah : {link['name']}\")\n",
    "    \n",
    "    url_link = link['url']\n",
    "    \n",
    "    max_retries = 3\n",
    "    retry_wait_time = 5\n",
    "    \n",
    "    for trial in range(max_retries):\n",
    "        try:\n",
    "            r = requests.get(url_link, verify=False)\n",
    "            if r.status_code == 404:\n",
    "                print(f\"########## WARNING Daerah : {link['name']} tidak bisa diakses\")\n",
    "                continue\n",
    "            m3u8_master = m3u8.loads(r.text)\n",
    "\n",
    "            # print statement can be deleted, they were placed prior to debugging purposes.\n",
    "            ts_path = link['ts_path']\n",
    "            print('sudah mau masuk iterasi')\n",
    "            for seg in m3u8_master.data['segments']:\n",
    "                url = ts_path + seg['uri']\n",
    "                print(f'downloading {seg[\"uri\"]}')\n",
    "                download_file(url)  #download_file is a self made function\n",
    "                \n",
    "        except :\n",
    "            print(f\"HTTP error occurred, retrying in {retry_wait_time} seconds...\")\n",
    "            time.sleep(retry_wait_time)\n",
    "    \n",
    "    cur_path = os.getcwd()\n",
    "    ts_loc = cur_path + '/ts_files'\n",
    "    \n",
    "    ts_files = glob.glob(f\"{ts_loc}/*.ts\")\n",
    "    ts_files.sort()\n",
    "    \n",
    "    for ts in ts_files:\n",
    "        try:\n",
    "            mp4_conversion(ts)\n",
    "            print('berhasil konversi ke mp4')\n",
    "        except:\n",
    "            print(f'cannot convert {os.path.basename(ts)}')\n",
    "    \n",
    "    mp4_files = glob.glob(f\"{ts_loc}/*.mp4\")\n",
    "    mp4_files.sort()\n",
    "    \n",
    "    wadah_video = []\n",
    "    for vid in mp4_files:\n",
    "        func_vid = VideoFileClip(vid)\n",
    "        wadah_video += [func_vid]\n",
    "\n",
    "    # Concat them\n",
    "    try:\n",
    "        final = concatenate_videoclips(wadah_video)\n",
    "        daerah = link['name']\n",
    "        final_name = f'{daerah}_{waktu_now}.mp4'\n",
    "    except:\n",
    "        print(f\"Gagal dapat CCTV {link['name']}\")\n",
    "        continue\n",
    "    \n",
    "    # Write output to the file\n",
    "    output_path = f\"{cur_path}/output_file\"\n",
    "    namadaerah = f\"{link['name']}\"\n",
    "    folder_daerah = f\"{output_path}/{namadaerah}\"\n",
    "    \n",
    "    if not os.path.exists(f'{folder_daerah}'):\n",
    "        os.makedirs(f'{folder_daerah}')\n",
    "    \n",
    "    print(f'membuat file : {final_name}')\n",
    "    final.write_videofile(f'{folder_daerah}/{final_name}')\n",
    "    \n",
    "    for vid in mp4_files:\n",
    "        try:\n",
    "            os.remove(f\"{vid}\")\n",
    "        except:\n",
    "            print(f'cannot delete yet')\n",
    "    \n",
    "    for ts in glob.glob(f\"{ts_loc}/*.ts\"):\n",
    "        try:\n",
    "            os.unlink(ts)\n",
    "            os.remove(f\"{ts}\")\n",
    "            print('berhasil hapus ts file')\n",
    "        except:\n",
    "            pass\n",
    "        \n",
    "        \n",
    "    print(\"------------ Video to Frame/Image Conversion ------------\")\n",
    "    \n",
    "    video_path = f'{folder_daerah}/{final_name}'\n",
    "    output_pic = f\"{cur_path}/output_pic\"\n",
    "    folder_daerah_gambar = f\"{output_pic}/{daerah}\"\n",
    "\n",
    "    if not os.path.exists(f'{folder_daerah_gambar}'):\n",
    "        os.makedirs(f'{folder_daerah_gambar}')\n",
    "        os.makedirs(f'{folder_daerah_gambar}/1. Pagi')\n",
    "        os.makedirs(f'{folder_daerah_gambar}/2. Siang')\n",
    "        os.makedirs(f'{folder_daerah_gambar}/3. Sore')\n",
    "        os.makedirs(f'{folder_daerah_gambar}/4. Malam')\n",
    "        os.makedirs(f'{folder_daerah_gambar}/5. Dini Hari')\n",
    "        os.makedirs(f'{folder_daerah_gambar}/6. Subuh')\n",
    "\n",
    "    vidcap = cv2.VideoCapture(video_path)\n",
    "    \n",
    "    sec = 0\n",
    "    frameRate = 1 #//it will capture image in each 1 second\n",
    "\n",
    "    count = 1\n",
    "\n",
    "    if 6 <= jam_kejadian < 10:\n",
    "        while os.path.exists(f\"{folder_daerah_gambar}/1. Pagi/{daerah.lower()}_{waktu_now}_{count}.jpg\"):\n",
    "            last_path_pic = f\"{folder_daerah_gambar}/1. Pagi\"\n",
    "            count += 1\n",
    "    elif 11 <= jam_kejadian < 15:\n",
    "        while os.path.exists(f\"{folder_daerah_gambar}/2. Siang/{daerah.lower()}_{waktu_now}_{count}.jpg\"):\n",
    "            last_path_pic = f\"{folder_daerah_gambar}/2. Siang\"\n",
    "            count += 1\n",
    "    elif 15 <= jam_kejadian < 18:\n",
    "        while os.path.exists(f\"{folder_daerah_gambar}/3. Sore/{daerah.lower()}_{waktu_now}_{count}.jpg\"):\n",
    "            last_path_pic = f\"{folder_daerah_gambar}/3. Sore\"\n",
    "            count += 1\n",
    "    elif 18 <= jam_kejadian < 24:\n",
    "        while os.path.exists(f\"{folder_daerah_gambar}/4. Malam/{daerah.lower()}_{waktu_now}_{count}.jpg\"):\n",
    "            last_path_pic = f\"{folder_daerah_gambar}/4. Malam\"\n",
    "            count += 1\n",
    "    elif 0 <= jam_kejadian < 4:\n",
    "        while os.path.exists(f\"{folder_daerah_gambar}/5. Dini Hari/{daerah.lower()}_{waktu_now}_{count}.jpg\"):\n",
    "            last_path_pic = f\"{folder_daerah_gambar}/5. Dini Hari\"\n",
    "            count += 1\n",
    "    else :\n",
    "        while os.path.exists(f\"{folder_daerah_gambar}/6. Subuh/{daerah.lower()}_{waktu_now}_{count}.jpg\"):\n",
    "            last_path_pic = f\"{folder_daerah_gambar}/6. Subuh\"\n",
    "            count += 1\n",
    "\n",
    "    success = getFrame(sec, count)\n",
    "    initial = count\n",
    "\n",
    "    while success:\n",
    "        count += 1\n",
    "        sec = sec + frameRate\n",
    "        sec = round(sec, 2)\n",
    "        success = getFrame(sec, count)\n",
    "\n",
    "    vidcap.release()\n",
    "\n",
    "    try:\n",
    "        os.remove(f\"{video_path}\")\n",
    "        print('berhasil hapus video file')\n",
    "    except:\n",
    "        pass\n",
    "\n",
    "    #     PREDIKSI\n",
    "    print(\"------------ Prediction Phase ------------\")\n",
    "    \n",
    "    test_filenames = os.listdir(f\"{last_path_pic}\")\n",
    "    test_df = pd.DataFrame({\n",
    "        'filename': test_filenames\n",
    "    })\n",
    "    nb_samples = test_df.shape[0]\n",
    "\n",
    "    test_generator = test_gen.flow_from_dataframe(\n",
    "        test_df, \n",
    "        last_path_pic, \n",
    "        x_col='filename',\n",
    "        y_col=None,\n",
    "        class_mode=None,\n",
    "        target_size=IMAGE_SIZE,\n",
    "        batch_size=batch_size,\n",
    "        shuffle=False\n",
    "    )\n",
    "        \n",
    "    predict = model.predict(test_generator, steps=np.ceil(nb_samples/batch_size))\n",
    "    test_df['category_pred'] = np.argmax(predict, axis=-1)\n",
    "\n",
    "    label_map = {0: 'dry', 1: 'rain'}\n",
    "    test_df['category_pred'] = test_df['category_pred'].replace(label_map)\n",
    "    test_df['category_pred'] = test_df['category_pred'].replace({ 'rain': 1, 'dry': 0 })\n",
    "\n",
    "    input_df = pd.DataFrame({\n",
    "        \"waktu_prediksi\": [waktu_now]\n",
    "        , \"daerah\" : [namadaerah]\n",
    "        , \"prediksi\": np.round(np.average(test_df[\"category_pred\"].values))\n",
    "    })\n",
    "\n",
    "    wadah_df = wadah_df.append(input_df)\n",
    "    \n",
    "    print(f\"########## Selesai prediksi daerah : {namadaerah}\")\n",
    "\n",
    "# Open the Google Sheet\n",
    "sheet = client.sheet1\n",
    "\n",
    "# Get the existing data from the Google Sheet\n",
    "data = sheet.get_all_values()\n",
    "\n",
    "# Convert the data to a pandas DataFrame\n",
    "existing_df = pd.DataFrame(data[1:], columns=data[0])\n",
    "\n",
    "# Identify non-existing rows based on the key columns\n",
    "existing_keys = set(existing_df[['waktu_prediksi', 'daerah']].apply(tuple, axis=1))\n",
    "non_existing_rows = wadah_df[~wadah_df[['waktu_prediksi', 'daerah']].apply(tuple, axis=1).isin(existing_keys)]\n",
    "\n",
    "# Insert non-existing rows into the Google Sheet\n",
    "for i, row in non_existing_rows.iterrows():\n",
    "    sheet.append_row(row.values.tolist())"
   ]
  }
 ],
 "metadata": {
  "kernelspec": {
   "display_name": "Python 3 (ipykernel)",
   "language": "python",
   "name": "python3"
  },
  "language_info": {
   "codemirror_mode": {
    "name": "ipython",
    "version": 3
   },
   "file_extension": ".py",
   "mimetype": "text/x-python",
   "name": "python",
   "nbconvert_exporter": "python",
   "pygments_lexer": "ipython3",
   "version": "3.9.13"
  }
 },
 "nbformat": 4,
 "nbformat_minor": 5
}
