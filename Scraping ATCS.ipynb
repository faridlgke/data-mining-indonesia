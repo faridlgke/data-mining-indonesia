{
 "cells": [
  {
   "cell_type": "markdown",
   "id": "8cd2ee3d",
   "metadata": {},
   "source": [
    "## Note :\n",
    "<h4>1. Pengembangan klasifikasi waktu sebagai berikut :</h4>\n",
    "\n",
    "- Pagi (06.00 - 10.59)\n",
    "- Siang (11.00 - 14.59)\n",
    "- Sore (15.00 - 17.59)\n",
    "- Malam (18.00 - 23.59)\n",
    "- Dini Hari (00.00 - 03.59)\n",
    "- Subuh (04.00 - 05.59)"
   ]
  },
  {
   "cell_type": "code",
   "execution_count": 1,
   "id": "32e8de85",
   "metadata": {},
   "outputs": [],
   "source": [
    "import requests\n",
    "import m3u8\n",
    "import urllib3\n",
    "import os\n",
    "import shutil\n",
    "import glob\n",
    "from datetime import datetime\n",
    "import time\n",
    "import cv2\n",
    "import numpy as np\n",
    "import pandas as pd\n",
    "\n",
    "from moviepy.editor import VideoFileClip, concatenate_videoclips\n",
    "import subprocess\n",
    "\n",
    "# Disable insecure request warnings\n",
    "urllib3.disable_warnings(urllib3.exceptions.InsecureRequestWarning)\n",
    "\n",
    "import gspread\n",
    "import gspread_dataframe as gd\n",
    "from google.oauth2.service_account import Credentials"
   ]
  },
  {
   "cell_type": "code",
   "execution_count": 2,
   "id": "82664bc9",
   "metadata": {},
   "outputs": [],
   "source": [
    "from keras.preprocessing.image import ImageDataGenerator\n",
    "from tensorflow.keras.utils import load_img\n",
    "from keras.utils import to_categorical\n",
    "from sklearn.model_selection import train_test_split\n",
    "import random\n",
    "from tensorflow import keras"
   ]
  },
  {
   "cell_type": "code",
   "execution_count": 3,
   "id": "109c7f0e",
   "metadata": {},
   "outputs": [],
   "source": [
    "def strip_end(text, suffix):\n",
    "    if not text.endswith(suffix):\n",
    "        return text\n",
    "    return text[:len(text)-len(suffix)]\n",
    "\n",
    "def download_file(url):\n",
    "    local_filename = url.split('/')[-1]\n",
    "    print(f'link download ts file: {url}')\n",
    "    \n",
    "    while True:\n",
    "        response = requests.get(url, stream=True, verify=False)\n",
    "        response.raise_for_status()\n",
    "        \n",
    "        # write response content to a file\n",
    "        with open(\"video.ts\", \"wb\") as f:\n",
    "            f.write(response.content)\n",
    "        \n",
    "        # check the size of the downloaded file\n",
    "        file_size = os.path.getsize(\"video.ts\")\n",
    "        if file_size < 10 * 1024:  # if file size is less than 10 KB\n",
    "            print(f\"Downloaded file is only {file_size} bytes. Retrying...\")\n",
    "            os.remove(\"video.ts\")  # delete the previous downloaded file\n",
    "            continue  # retry the download\n",
    "        else:\n",
    "            print(f\"Downloaded file size: {file_size} bytes\")\n",
    "            break  # file size is OK, exit the loop\n",
    "        \n",
    "    cur_path = os.getcwd()\n",
    "    ts_loc = cur_path + '/ts_files'\n",
    "    \n",
    "    if not os.path.exists(f'{ts_loc}'):\n",
    "        os.makedirs(f'{ts_loc}')\n",
    "        \n",
    "    f = open(f\"{ts_loc}/{local_filename}\", \"wb\")\n",
    "    f.write(response.content)\n",
    "    \n",
    "    return local_filename\n",
    "\n",
    "def mp4_conversion(file_path):\n",
    "    infile = file_path\n",
    "    outfile = file_path.replace('.ts','.mp4')\n",
    "    \n",
    "    pre_name = os.path.basename(file_path)\n",
    "    pos_name = pre_name.replace('.ts','.mp4')\n",
    "    \n",
    "    clip = VideoFileClip(infile)\n",
    "    clip.write_videofile(outfile, fps=20)\n",
    "    clip.close()\n",
    "    \n",
    "    del clip\n",
    "    \n",
    "    print(f'######### {pre_name} converted into {pos_name} #########')\n",
    "    \n",
    "def getFrame(sec, count):\n",
    "    vidcap.set(cv2.CAP_PROP_POS_MSEC,sec*1000)\n",
    "    hasFrames,image = vidcap.read()\n",
    "    if hasFrames:\n",
    "        if 6 <= jam_kejadian < 10:\n",
    "            cv2.imwrite(f\"{folder_daerah_gambar}/1. Pagi/{daerah.lower()}_{waktu_now}_{count}.jpg\",image)\n",
    "        elif 11 <= jam_kejadian < 15:\n",
    "            cv2.imwrite(f\"{folder_daerah_gambar}/2. Siang/{daerah.lower()}_{waktu_now}_{count}.jpg\",image)\n",
    "        elif 15 <= jam_kejadian < 18:\n",
    "            cv2.imwrite(f\"{folder_daerah_gambar}/3. Sore/{daerah.lower()}_{waktu_now}_{count}.jpg\",image)\n",
    "        elif 18 <= jam_kejadian < 24:\n",
    "            cv2.imwrite(f\"{folder_daerah_gambar}/4. Malam/{daerah.lower()}_{waktu_now}_{count}.jpg\",image)\n",
    "        elif 0 <= jam_kejadian < 4:\n",
    "            cv2.imwrite(f\"{folder_daerah_gambar}/5. Dini Hari/{daerah.lower()}_{waktu_now}_{count}.jpg\",image)\n",
    "        else :\n",
    "            cv2.imwrite(f\"{folder_daerah_gambar}/6. Subuh/{daerah.lower()}_{waktu_now}_{count}.jpg\",image)\n",
    "            \n",
    "    return hasFrames"
   ]
  },
  {
   "cell_type": "code",
   "execution_count": 27,
   "id": "fae1b79f",
   "metadata": {},
   "outputs": [],
   "source": [
    "m3u8_urls = [\n",
    "    {'url': \"https://atcs-dishub.bandung.go.id:1990/Kopo/stream.m3u8\", 'ts_path': 'https://atcs-dishub.bandung.go.id:1990/Kopo/' ,'region' : \"SP Soekarno Hatta - Kopo\", 'name': 'Kopo'}\n",
    "    , {'url': \"https://atcs-dishub.bandung.go.id:1990/GedebageUtara/stream.m3u8\", 'ts_path': 'https://atcs-dishub.bandung.go.id:1990/GedebageUtara/' ,'region' : \"SP Soekarno Hatta - Gedebage\", 'name': 'Gedebage Arah Utara'}\n",
    "    , {'url': \"https://atcs-dishub.bandung.go.id:1990/GedebageSel/stream.m3u8\", 'ts_path': 'https://atcs-dishub.bandung.go.id:1990/GedebageSelatan/' ,'region' : \"SP Soekarno Hatta - Gedebage\", 'name': 'Gedebage Arah Selatan'}\n",
    "    , {'url': \"https://atcs-dishub.bandung.go.id:1990/Buahbatu/stream.m3u8\", 'ts_path': 'https://atcs-dishub.bandung.go.id:1990/Buahbatu/' ,'region' : \"SP Soekarno Hatta - Buahbatu\", 'name': 'Buahbatu'}\n",
    "    , {'url': \"https://atcs-dishub.bandung.go.id:1990/Batununggal/stream.m3u8\", 'ts_path': 'https://atcs-dishub.bandung.go.id:1990/Batununggal/' ,'region' : \"SP Soekarno Hatta - Batununggal\", 'name': 'Batununggal'}\n",
    "    , {'url': \"https://atcs-dishub.bandung.go.id:1990/MochToha/stream.m3u8\", 'ts_path': 'https://atcs-dishub.bandung.go.id:1990/MochToha/' ,'region' : \"SP Soekarno Hatta - Moch. Toha\", 'name': 'Moch. Toha'}\n",
    "    , {'url': \"https://atcs-dishub.bandung.go.id:1990/IstanaPlaza/stream.m3u8\", 'ts_path': 'https://atcs-dishub.bandung.go.id:1990/IstanaPlaza/' ,'region' : \"PTZ SP. Istana Plaza\", 'name': 'Istana Plaza'}\n",
    "    , {'url': \"https://atcs-dishub.bandung.go.id:1990/CihampelasUtara/stream.m3u8\", 'ts_path': 'https://atcs-dishub.bandung.go.id:1990/CihampelasUtara/' ,'region' : \"PTZ SP. Istana Plaza\", 'name': 'Cihampelas Utara'}\n",
    "    , {'url': \"https://atcs-dishub.bandung.go.id:1990/laswiut/stream.m3u8\", 'ts_path': 'https://atcs-dishub.bandung.go.id:1990/laswiut/' ,'region' : \"Laswi\", 'name': 'Jalan Laswi'}\n",
    "    , {'url': \"https://atcs-dishub.bandung.go.id:1990/OtistaLingkar/stream.m3u8\", 'ts_path': 'https://atcs-dishub.bandung.go.id:1990/OtistaLingkar/' ,'region' : \"Otista\", 'name': 'Otista Lingkar'}\n",
    "    , {'url': \"https://atcs-dishub.bandung.go.id:1990/PtInti/stream.m3u8\", 'ts_path': 'https://atcs-dishub.bandung.go.id:1990/PtInti/' ,'region' : \"PT Inti\", 'name': 'PT Inti'}\n",
    "    , {'url': \"https://atcs-dishub.bandung.go.id:1990/MRamdan/stream.m3u8\", 'ts_path': 'https://atcs-dishub.bandung.go.id:1990/MRamdan/' ,'region' : \"M Ramdan\", 'name': 'M Ramdan'}\n",
    "    , {'url': \"https://atcs-dishub.bandung.go.id:1990/RamdanBarat/stream.m3u8\", 'ts_path': 'https://atcs-dishub.bandung.go.id:1990/RamdanBarat/' ,'region' : \"M Ramdan\", 'name': 'M Ramdan Barat'}\n",
    "    , {'url': \"https://atcs-dishub.bandung.go.id:1990/Sriwijaya/stream.m3u8\", 'ts_path': 'https://atcs-dishub.bandung.go.id:1990/Sriwijaya/' ,'region' : \"Sriwijaya\", 'name': 'Sriwijaya'}\n",
    "    , {'url': \"https://atcs-dishub.bandung.go.id:1990/BuahBatuLingkar/stream.m3u8\", 'ts_path': 'https://atcs-dishub.bandung.go.id:1990/BuahBatuLingkar/' ,'region' : \"Buah Batu Lingkar\", 'name': 'Lingkar Buah Batu'}\n",
    "    , {'url': \"https://atcs-dishub.bandung.go.id:1990/Martanegara/stream.m3u8\", 'ts_path': 'https://atcs-dishub.bandung.go.id:1990/Martanegara/' ,'region' : \"Martanegara\", 'name': 'Martanegara'}\n",
    "    , {'url': \"https://atcs-dishub.bandung.go.id:1990/TalagaBodas/stream.m3u8\", 'ts_path': 'https://atcs-dishub.bandung.go.id:1990/TalagaBodas/' ,'region' : \"Talaga Bodas\", 'name': 'Talaga Bodas'}\n",
    "    , {'url': \"https://atcs-dishub.bandung.go.id:1990/GatsuLingkar/stream.m3u8\", 'ts_path': 'https://atcs-dishub.bandung.go.id:1990/GatsuLingkar/' ,'region' : \"Gatsu Lingkar\", 'name': 'Gatsu Lingkar'}\n",
    "]"
   ]
  },
  {
   "cell_type": "code",
   "execution_count": 5,
   "id": "398cb4c7",
   "metadata": {},
   "outputs": [],
   "source": [
    "# DEEP LEARNING DETAILS\n",
    "\n",
    "FAST_RUN = False\n",
    "IMAGE_WIDTH=128\n",
    "IMAGE_HEIGHT=128\n",
    "IMAGE_SIZE=(IMAGE_WIDTH, IMAGE_HEIGHT)\n",
    "IMAGE_CHANNELS=3\n",
    "batch_size=15\n",
    "\n",
    "# model = False\n",
    "model = keras.models.load_model('C:/Users/GE00000668/Documents/hooka_old/cctv-rain-dry-image-classification-main/model_hujan.h5')\n",
    "test_gen = ImageDataGenerator(rescale=1./255)"
   ]
  },
  {
   "cell_type": "code",
   "execution_count": 26,
   "id": "914265be",
   "metadata": {
    "scrolled": true
   },
   "outputs": [
    {
     "name": "stdout",
     "output_type": "stream",
     "text": [
      "########## Akan download cctv daerah : Martanegara\n",
      "sudah mau masuk iterasi\n",
      "downloading seg21348.ts\n",
      "link download ts file: https://atcs-dishub.bandung.go.id:1990/Martanegara/seg21348.ts\n",
      "Downloaded file size: 91180 bytes\n",
      "downloading seg21349.ts\n",
      "link download ts file: https://atcs-dishub.bandung.go.id:1990/Martanegara/seg21349.ts\n",
      "Downloaded file size: 116748 bytes\n",
      "downloading seg21350.ts\n",
      "link download ts file: https://atcs-dishub.bandung.go.id:1990/Martanegara/seg21350.ts\n",
      "Downloaded file size: 129720 bytes\n",
      "downloading seg21351.ts\n",
      "link download ts file: https://atcs-dishub.bandung.go.id:1990/Martanegara/seg21351.ts\n",
      "Downloaded file size: 119944 bytes\n",
      "downloading seg21352.ts\n",
      "link download ts file: https://atcs-dishub.bandung.go.id:1990/Martanegara/seg21352.ts\n",
      "Downloaded file size: 115432 bytes\n",
      "downloading seg21353.ts\n",
      "link download ts file: https://atcs-dishub.bandung.go.id:1990/Martanegara/seg21353.ts\n",
      "Downloaded file size: 115808 bytes\n",
      "downloading seg21354.ts\n",
      "link download ts file: https://atcs-dishub.bandung.go.id:1990/Martanegara/seg21354.ts\n",
      "Downloaded file size: 125208 bytes\n",
      "sudah mau masuk iterasi\n",
      "downloading seg21349.ts\n",
      "link download ts file: https://atcs-dishub.bandung.go.id:1990/Martanegara/seg21349.ts\n",
      "HTTP error occurred, retrying in 5 seconds...\n",
      "sudah mau masuk iterasi\n",
      "downloading seg21353.ts\n",
      "link download ts file: https://atcs-dishub.bandung.go.id:1990/Martanegara/seg21353.ts\n",
      "Downloaded file size: 115808 bytes\n",
      "downloading seg21354.ts\n",
      "link download ts file: https://atcs-dishub.bandung.go.id:1990/Martanegara/seg21354.ts\n",
      "Downloaded file size: 125208 bytes\n",
      "downloading seg21355.ts\n",
      "link download ts file: https://atcs-dishub.bandung.go.id:1990/Martanegara/seg21355.ts\n",
      "Downloaded file size: 117500 bytes\n",
      "downloading seg21356.ts\n",
      "link download ts file: https://atcs-dishub.bandung.go.id:1990/Martanegara/seg21356.ts\n",
      "Downloaded file size: 113364 bytes\n",
      "downloading seg21357.ts\n",
      "link download ts file: https://atcs-dishub.bandung.go.id:1990/Martanegara/seg21357.ts\n",
      "Downloaded file size: 123328 bytes\n",
      "downloading seg21358.ts\n",
      "link download ts file: https://atcs-dishub.bandung.go.id:1990/Martanegara/seg21358.ts\n",
      "Downloaded file size: 118440 bytes\n",
      "downloading seg21359.ts\n",
      "link download ts file: https://atcs-dishub.bandung.go.id:1990/Martanegara/seg21359.ts\n",
      "Downloaded file size: 106596 bytes\n",
      "Moviepy - Building video C:\\Users\\GE00000668\\Documents\\Scraping\\cctv-indonesia/ts_files\\seg21348.mp4.\n",
      "Moviepy - Writing video C:\\Users\\GE00000668\\Documents\\Scraping\\cctv-indonesia/ts_files\\seg21348.mp4\n",
      "\n"
     ]
    },
    {
     "name": "stderr",
     "output_type": "stream",
     "text": [
      "                                                                                                                       \r"
     ]
    },
    {
     "name": "stdout",
     "output_type": "stream",
     "text": [
      "Moviepy - Done !\n",
      "Moviepy - video ready C:\\Users\\GE00000668\\Documents\\Scraping\\cctv-indonesia/ts_files\\seg21348.mp4\n",
      "######### seg21348.ts converted into seg21348.mp4 #########\n",
      "berhasil konversi ke mp4\n",
      "Moviepy - Building video C:\\Users\\GE00000668\\Documents\\Scraping\\cctv-indonesia/ts_files\\seg21349.mp4.\n",
      "Moviepy - Writing video C:\\Users\\GE00000668\\Documents\\Scraping\\cctv-indonesia/ts_files\\seg21349.mp4\n",
      "\n"
     ]
    },
    {
     "name": "stderr",
     "output_type": "stream",
     "text": [
      "                                                                                                                       \r"
     ]
    },
    {
     "name": "stdout",
     "output_type": "stream",
     "text": [
      "Moviepy - Done !\n",
      "Moviepy - video ready C:\\Users\\GE00000668\\Documents\\Scraping\\cctv-indonesia/ts_files\\seg21349.mp4\n",
      "######### seg21349.ts converted into seg21349.mp4 #########\n",
      "berhasil konversi ke mp4\n",
      "Moviepy - Building video C:\\Users\\GE00000668\\Documents\\Scraping\\cctv-indonesia/ts_files\\seg21350.mp4.\n",
      "Moviepy - Writing video C:\\Users\\GE00000668\\Documents\\Scraping\\cctv-indonesia/ts_files\\seg21350.mp4\n",
      "\n"
     ]
    },
    {
     "name": "stderr",
     "output_type": "stream",
     "text": [
      "                                                                                                                       \r"
     ]
    },
    {
     "name": "stdout",
     "output_type": "stream",
     "text": [
      "Moviepy - Done !\n",
      "Moviepy - video ready C:\\Users\\GE00000668\\Documents\\Scraping\\cctv-indonesia/ts_files\\seg21350.mp4\n",
      "######### seg21350.ts converted into seg21350.mp4 #########\n",
      "berhasil konversi ke mp4\n",
      "Moviepy - Building video C:\\Users\\GE00000668\\Documents\\Scraping\\cctv-indonesia/ts_files\\seg21351.mp4.\n",
      "Moviepy - Writing video C:\\Users\\GE00000668\\Documents\\Scraping\\cctv-indonesia/ts_files\\seg21351.mp4\n",
      "\n"
     ]
    },
    {
     "name": "stderr",
     "output_type": "stream",
     "text": [
      "                                                                                                                       \r"
     ]
    },
    {
     "name": "stdout",
     "output_type": "stream",
     "text": [
      "Moviepy - Done !\n",
      "Moviepy - video ready C:\\Users\\GE00000668\\Documents\\Scraping\\cctv-indonesia/ts_files\\seg21351.mp4\n",
      "######### seg21351.ts converted into seg21351.mp4 #########\n",
      "berhasil konversi ke mp4\n",
      "Moviepy - Building video C:\\Users\\GE00000668\\Documents\\Scraping\\cctv-indonesia/ts_files\\seg21352.mp4.\n",
      "Moviepy - Writing video C:\\Users\\GE00000668\\Documents\\Scraping\\cctv-indonesia/ts_files\\seg21352.mp4\n",
      "\n"
     ]
    },
    {
     "name": "stderr",
     "output_type": "stream",
     "text": [
      "                                                                                                                       \r"
     ]
    },
    {
     "name": "stdout",
     "output_type": "stream",
     "text": [
      "Moviepy - Done !\n",
      "Moviepy - video ready C:\\Users\\GE00000668\\Documents\\Scraping\\cctv-indonesia/ts_files\\seg21352.mp4\n",
      "######### seg21352.ts converted into seg21352.mp4 #########\n",
      "berhasil konversi ke mp4\n",
      "Moviepy - Building video C:\\Users\\GE00000668\\Documents\\Scraping\\cctv-indonesia/ts_files\\seg21353.mp4.\n",
      "Moviepy - Writing video C:\\Users\\GE00000668\\Documents\\Scraping\\cctv-indonesia/ts_files\\seg21353.mp4\n",
      "\n"
     ]
    },
    {
     "name": "stderr",
     "output_type": "stream",
     "text": [
      "                                                                                                                       \r"
     ]
    },
    {
     "name": "stdout",
     "output_type": "stream",
     "text": [
      "Moviepy - Done !\n",
      "Moviepy - video ready C:\\Users\\GE00000668\\Documents\\Scraping\\cctv-indonesia/ts_files\\seg21353.mp4\n",
      "######### seg21353.ts converted into seg21353.mp4 #########\n",
      "berhasil konversi ke mp4\n",
      "Moviepy - Building video C:\\Users\\GE00000668\\Documents\\Scraping\\cctv-indonesia/ts_files\\seg21354.mp4.\n",
      "Moviepy - Writing video C:\\Users\\GE00000668\\Documents\\Scraping\\cctv-indonesia/ts_files\\seg21354.mp4\n",
      "\n"
     ]
    },
    {
     "name": "stderr",
     "output_type": "stream",
     "text": [
      "                                                                                                                       \r"
     ]
    },
    {
     "name": "stdout",
     "output_type": "stream",
     "text": [
      "Moviepy - Done !\n",
      "Moviepy - video ready C:\\Users\\GE00000668\\Documents\\Scraping\\cctv-indonesia/ts_files\\seg21354.mp4\n",
      "######### seg21354.ts converted into seg21354.mp4 #########\n",
      "berhasil konversi ke mp4\n",
      "Moviepy - Building video C:\\Users\\GE00000668\\Documents\\Scraping\\cctv-indonesia/ts_files\\seg21355.mp4.\n",
      "Moviepy - Writing video C:\\Users\\GE00000668\\Documents\\Scraping\\cctv-indonesia/ts_files\\seg21355.mp4\n",
      "\n"
     ]
    },
    {
     "name": "stderr",
     "output_type": "stream",
     "text": [
      "                                                                                                                       \r"
     ]
    },
    {
     "name": "stdout",
     "output_type": "stream",
     "text": [
      "Moviepy - Done !\n",
      "Moviepy - video ready C:\\Users\\GE00000668\\Documents\\Scraping\\cctv-indonesia/ts_files\\seg21355.mp4\n",
      "######### seg21355.ts converted into seg21355.mp4 #########\n",
      "berhasil konversi ke mp4\n",
      "Moviepy - Building video C:\\Users\\GE00000668\\Documents\\Scraping\\cctv-indonesia/ts_files\\seg21356.mp4.\n",
      "Moviepy - Writing video C:\\Users\\GE00000668\\Documents\\Scraping\\cctv-indonesia/ts_files\\seg21356.mp4\n",
      "\n"
     ]
    },
    {
     "name": "stderr",
     "output_type": "stream",
     "text": [
      "                                                                                                                       \r"
     ]
    },
    {
     "name": "stdout",
     "output_type": "stream",
     "text": [
      "Moviepy - Done !\n",
      "Moviepy - video ready C:\\Users\\GE00000668\\Documents\\Scraping\\cctv-indonesia/ts_files\\seg21356.mp4\n",
      "######### seg21356.ts converted into seg21356.mp4 #########\n",
      "berhasil konversi ke mp4\n",
      "Moviepy - Building video C:\\Users\\GE00000668\\Documents\\Scraping\\cctv-indonesia/ts_files\\seg21357.mp4.\n",
      "Moviepy - Writing video C:\\Users\\GE00000668\\Documents\\Scraping\\cctv-indonesia/ts_files\\seg21357.mp4\n",
      "\n"
     ]
    },
    {
     "name": "stderr",
     "output_type": "stream",
     "text": [
      "                                                                                                                       \r"
     ]
    },
    {
     "name": "stdout",
     "output_type": "stream",
     "text": [
      "Moviepy - Done !\n",
      "Moviepy - video ready C:\\Users\\GE00000668\\Documents\\Scraping\\cctv-indonesia/ts_files\\seg21357.mp4\n",
      "######### seg21357.ts converted into seg21357.mp4 #########\n",
      "berhasil konversi ke mp4\n",
      "Moviepy - Building video C:\\Users\\GE00000668\\Documents\\Scraping\\cctv-indonesia/ts_files\\seg21358.mp4.\n",
      "Moviepy - Writing video C:\\Users\\GE00000668\\Documents\\Scraping\\cctv-indonesia/ts_files\\seg21358.mp4\n",
      "\n"
     ]
    },
    {
     "name": "stderr",
     "output_type": "stream",
     "text": [
      "                                                                                                                       \r"
     ]
    },
    {
     "name": "stdout",
     "output_type": "stream",
     "text": [
      "Moviepy - Done !\n",
      "Moviepy - video ready C:\\Users\\GE00000668\\Documents\\Scraping\\cctv-indonesia/ts_files\\seg21358.mp4\n",
      "######### seg21358.ts converted into seg21358.mp4 #########\n",
      "berhasil konversi ke mp4\n",
      "Moviepy - Building video C:\\Users\\GE00000668\\Documents\\Scraping\\cctv-indonesia/ts_files\\seg21359.mp4.\n",
      "Moviepy - Writing video C:\\Users\\GE00000668\\Documents\\Scraping\\cctv-indonesia/ts_files\\seg21359.mp4\n",
      "\n"
     ]
    },
    {
     "name": "stderr",
     "output_type": "stream",
     "text": [
      "                                                                                                                       \r"
     ]
    },
    {
     "name": "stdout",
     "output_type": "stream",
     "text": [
      "Moviepy - Done !\n",
      "Moviepy - video ready C:\\Users\\GE00000668\\Documents\\Scraping\\cctv-indonesia/ts_files\\seg21359.mp4\n",
      "######### seg21359.ts converted into seg21359.mp4 #########\n",
      "berhasil konversi ke mp4\n",
      "membuat file : Martanegara_2023-05-18-16.mp4\n",
      "Moviepy - Building video C:\\Users\\GE00000668\\Documents\\Scraping\\cctv-indonesia/output_file/Martanegara/Martanegara_2023-05-18-16.mp4.\n",
      "Moviepy - Writing video C:\\Users\\GE00000668\\Documents\\Scraping\\cctv-indonesia/output_file/Martanegara/Martanegara_2023-05-18-16.mp4\n",
      "\n"
     ]
    },
    {
     "name": "stderr",
     "output_type": "stream",
     "text": [
      "                                                                                                                       \r"
     ]
    },
    {
     "name": "stdout",
     "output_type": "stream",
     "text": [
      "Moviepy - Done !\n",
      "Moviepy - video ready C:\\Users\\GE00000668\\Documents\\Scraping\\cctv-indonesia/output_file/Martanegara/Martanegara_2023-05-18-16.mp4\n",
      "------------ Video to Frame/Image Conversion ------------\n",
      "berhasil hapus video file\n",
      "------------ Prediction Phase ------------\n",
      "Found 24 validated image filenames.\n",
      "2/2 [==============================] - 1s 52ms/step\n",
      "########## Selesai prediksi daerah : Martanegara\n",
      "########## Akan download cctv daerah : Talaga Bodas\n",
      "sudah mau masuk iterasi\n",
      "downloading seg15094.ts\n",
      "link download ts file: https://atcs-dishub.bandung.go.id:1990/TalagaBodas/seg15094.ts\n",
      "Downloaded file size: 152280 bytes\n",
      "downloading seg15095.ts\n",
      "link download ts file: https://atcs-dishub.bandung.go.id:1990/TalagaBodas/seg15095.ts\n",
      "Downloaded file size: 141752 bytes\n",
      "downloading seg15096.ts\n",
      "link download ts file: https://atcs-dishub.bandung.go.id:1990/TalagaBodas/seg15096.ts\n",
      "Downloaded file size: 135360 bytes\n",
      "downloading seg15097.ts\n",
      "link download ts file: https://atcs-dishub.bandung.go.id:1990/TalagaBodas/seg15097.ts\n",
      "Downloaded file size: 151716 bytes\n",
      "downloading seg15098.ts\n",
      "link download ts file: https://atcs-dishub.bandung.go.id:1990/TalagaBodas/seg15098.ts\n",
      "Downloaded file size: 143068 bytes\n",
      "downloading seg15099.ts\n",
      "link download ts file: https://atcs-dishub.bandung.go.id:1990/TalagaBodas/seg15099.ts\n",
      "Downloaded file size: 110920 bytes\n",
      "downloading seg15100.ts\n",
      "link download ts file: https://atcs-dishub.bandung.go.id:1990/TalagaBodas/seg15100.ts\n",
      "Downloaded file size: 127088 bytes\n",
      "sudah mau masuk iterasi\n",
      "downloading seg15095.ts\n",
      "link download ts file: https://atcs-dishub.bandung.go.id:1990/TalagaBodas/seg15095.ts\n",
      "Downloaded file size: 141752 bytes\n",
      "downloading seg15096.ts\n",
      "link download ts file: https://atcs-dishub.bandung.go.id:1990/TalagaBodas/seg15096.ts\n",
      "Downloaded file size: 135360 bytes\n",
      "downloading seg15097.ts\n",
      "link download ts file: https://atcs-dishub.bandung.go.id:1990/TalagaBodas/seg15097.ts\n",
      "Downloaded file size: 151716 bytes\n",
      "downloading seg15098.ts\n",
      "link download ts file: https://atcs-dishub.bandung.go.id:1990/TalagaBodas/seg15098.ts\n",
      "Downloaded file size: 143068 bytes\n",
      "downloading seg15099.ts\n",
      "link download ts file: https://atcs-dishub.bandung.go.id:1990/TalagaBodas/seg15099.ts\n",
      "Downloaded file size: 110920 bytes\n",
      "downloading seg15100.ts\n",
      "link download ts file: https://atcs-dishub.bandung.go.id:1990/TalagaBodas/seg15100.ts\n",
      "Downloaded file size: 127088 bytes\n",
      "downloading seg15101.ts\n",
      "link download ts file: https://atcs-dishub.bandung.go.id:1990/TalagaBodas/seg15101.ts\n",
      "Downloaded file size: 235000 bytes\n",
      "sudah mau masuk iterasi\n",
      "downloading seg15095.ts\n",
      "link download ts file: https://atcs-dishub.bandung.go.id:1990/TalagaBodas/seg15095.ts\n",
      "Downloaded file size: 141752 bytes\n",
      "downloading seg15096.ts\n",
      "link download ts file: https://atcs-dishub.bandung.go.id:1990/TalagaBodas/seg15096.ts\n",
      "Downloaded file size: 135360 bytes\n",
      "downloading seg15097.ts\n",
      "link download ts file: https://atcs-dishub.bandung.go.id:1990/TalagaBodas/seg15097.ts\n",
      "Downloaded file size: 151716 bytes\n",
      "downloading seg15098.ts\n",
      "link download ts file: https://atcs-dishub.bandung.go.id:1990/TalagaBodas/seg15098.ts\n",
      "Downloaded file size: 143068 bytes\n",
      "downloading seg15099.ts\n",
      "link download ts file: https://atcs-dishub.bandung.go.id:1990/TalagaBodas/seg15099.ts\n",
      "Downloaded file size: 110920 bytes\n",
      "downloading seg15100.ts\n",
      "link download ts file: https://atcs-dishub.bandung.go.id:1990/TalagaBodas/seg15100.ts\n",
      "Downloaded file size: 127088 bytes\n",
      "downloading seg15101.ts\n",
      "link download ts file: https://atcs-dishub.bandung.go.id:1990/TalagaBodas/seg15101.ts\n",
      "Downloaded file size: 235000 bytes\n",
      "Moviepy - Building video C:\\Users\\GE00000668\\Documents\\Scraping\\cctv-indonesia/ts_files\\seg15094.mp4.\n",
      "Moviepy - Writing video C:\\Users\\GE00000668\\Documents\\Scraping\\cctv-indonesia/ts_files\\seg15094.mp4\n",
      "\n"
     ]
    },
    {
     "name": "stderr",
     "output_type": "stream",
     "text": [
      "                                                                                                                       \r"
     ]
    },
    {
     "name": "stdout",
     "output_type": "stream",
     "text": [
      "Moviepy - Done !\n",
      "Moviepy - video ready C:\\Users\\GE00000668\\Documents\\Scraping\\cctv-indonesia/ts_files\\seg15094.mp4\n",
      "######### seg15094.ts converted into seg15094.mp4 #########\n",
      "berhasil konversi ke mp4\n",
      "Moviepy - Building video C:\\Users\\GE00000668\\Documents\\Scraping\\cctv-indonesia/ts_files\\seg15095.mp4.\n",
      "Moviepy - Writing video C:\\Users\\GE00000668\\Documents\\Scraping\\cctv-indonesia/ts_files\\seg15095.mp4\n",
      "\n"
     ]
    },
    {
     "name": "stderr",
     "output_type": "stream",
     "text": [
      "                                                                                                                       \r"
     ]
    },
    {
     "name": "stdout",
     "output_type": "stream",
     "text": [
      "Moviepy - Done !\n",
      "Moviepy - video ready C:\\Users\\GE00000668\\Documents\\Scraping\\cctv-indonesia/ts_files\\seg15095.mp4\n",
      "######### seg15095.ts converted into seg15095.mp4 #########\n",
      "berhasil konversi ke mp4\n",
      "Moviepy - Building video C:\\Users\\GE00000668\\Documents\\Scraping\\cctv-indonesia/ts_files\\seg15096.mp4.\n",
      "Moviepy - Writing video C:\\Users\\GE00000668\\Documents\\Scraping\\cctv-indonesia/ts_files\\seg15096.mp4\n",
      "\n"
     ]
    },
    {
     "name": "stderr",
     "output_type": "stream",
     "text": [
      "                                                                                                                       \r"
     ]
    },
    {
     "name": "stdout",
     "output_type": "stream",
     "text": [
      "Moviepy - Done !\n",
      "Moviepy - video ready C:\\Users\\GE00000668\\Documents\\Scraping\\cctv-indonesia/ts_files\\seg15096.mp4\n",
      "######### seg15096.ts converted into seg15096.mp4 #########\n",
      "berhasil konversi ke mp4\n",
      "Moviepy - Building video C:\\Users\\GE00000668\\Documents\\Scraping\\cctv-indonesia/ts_files\\seg15097.mp4.\n",
      "Moviepy - Writing video C:\\Users\\GE00000668\\Documents\\Scraping\\cctv-indonesia/ts_files\\seg15097.mp4\n",
      "\n"
     ]
    },
    {
     "name": "stderr",
     "output_type": "stream",
     "text": [
      "                                                                                                                       \r"
     ]
    },
    {
     "name": "stdout",
     "output_type": "stream",
     "text": [
      "Moviepy - Done !\n",
      "Moviepy - video ready C:\\Users\\GE00000668\\Documents\\Scraping\\cctv-indonesia/ts_files\\seg15097.mp4\n",
      "######### seg15097.ts converted into seg15097.mp4 #########\n",
      "berhasil konversi ke mp4\n",
      "Moviepy - Building video C:\\Users\\GE00000668\\Documents\\Scraping\\cctv-indonesia/ts_files\\seg15098.mp4.\n",
      "Moviepy - Writing video C:\\Users\\GE00000668\\Documents\\Scraping\\cctv-indonesia/ts_files\\seg15098.mp4\n",
      "\n"
     ]
    },
    {
     "name": "stderr",
     "output_type": "stream",
     "text": [
      "                                                                                                                       \r"
     ]
    },
    {
     "name": "stdout",
     "output_type": "stream",
     "text": [
      "Moviepy - Done !\n",
      "Moviepy - video ready C:\\Users\\GE00000668\\Documents\\Scraping\\cctv-indonesia/ts_files\\seg15098.mp4\n",
      "######### seg15098.ts converted into seg15098.mp4 #########\n",
      "berhasil konversi ke mp4\n",
      "Moviepy - Building video C:\\Users\\GE00000668\\Documents\\Scraping\\cctv-indonesia/ts_files\\seg15099.mp4.\n",
      "Moviepy - Writing video C:\\Users\\GE00000668\\Documents\\Scraping\\cctv-indonesia/ts_files\\seg15099.mp4\n",
      "\n"
     ]
    },
    {
     "name": "stderr",
     "output_type": "stream",
     "text": [
      "                                                                                                                       \r"
     ]
    },
    {
     "name": "stdout",
     "output_type": "stream",
     "text": [
      "Moviepy - Done !\n",
      "Moviepy - video ready C:\\Users\\GE00000668\\Documents\\Scraping\\cctv-indonesia/ts_files\\seg15099.mp4\n",
      "######### seg15099.ts converted into seg15099.mp4 #########\n",
      "berhasil konversi ke mp4\n",
      "Moviepy - Building video C:\\Users\\GE00000668\\Documents\\Scraping\\cctv-indonesia/ts_files\\seg15100.mp4.\n",
      "Moviepy - Writing video C:\\Users\\GE00000668\\Documents\\Scraping\\cctv-indonesia/ts_files\\seg15100.mp4\n",
      "\n"
     ]
    },
    {
     "name": "stderr",
     "output_type": "stream",
     "text": [
      "                                                                                                                       \r"
     ]
    },
    {
     "name": "stdout",
     "output_type": "stream",
     "text": [
      "Moviepy - Done !\n",
      "Moviepy - video ready C:\\Users\\GE00000668\\Documents\\Scraping\\cctv-indonesia/ts_files\\seg15100.mp4\n",
      "######### seg15100.ts converted into seg15100.mp4 #########\n",
      "berhasil konversi ke mp4\n",
      "Moviepy - Building video C:\\Users\\GE00000668\\Documents\\Scraping\\cctv-indonesia/ts_files\\seg15101.mp4.\n",
      "Moviepy - Writing video C:\\Users\\GE00000668\\Documents\\Scraping\\cctv-indonesia/ts_files\\seg15101.mp4\n",
      "\n"
     ]
    },
    {
     "name": "stderr",
     "output_type": "stream",
     "text": [
      "                                                                                                                       \r"
     ]
    },
    {
     "name": "stdout",
     "output_type": "stream",
     "text": [
      "Moviepy - Done !\n",
      "Moviepy - video ready C:\\Users\\GE00000668\\Documents\\Scraping\\cctv-indonesia/ts_files\\seg15101.mp4\n",
      "######### seg15101.ts converted into seg15101.mp4 #########\n",
      "berhasil konversi ke mp4\n",
      "membuat file : Talaga Bodas_2023-05-18-16.mp4\n",
      "Moviepy - Building video C:\\Users\\GE00000668\\Documents\\Scraping\\cctv-indonesia/output_file/Talaga Bodas/Talaga Bodas_2023-05-18-16.mp4.\n",
      "Moviepy - Writing video C:\\Users\\GE00000668\\Documents\\Scraping\\cctv-indonesia/output_file/Talaga Bodas/Talaga Bodas_2023-05-18-16.mp4\n",
      "\n"
     ]
    },
    {
     "name": "stderr",
     "output_type": "stream",
     "text": [
      "                                                                                                                       \r"
     ]
    },
    {
     "name": "stdout",
     "output_type": "stream",
     "text": [
      "Moviepy - Done !\n",
      "Moviepy - video ready C:\\Users\\GE00000668\\Documents\\Scraping\\cctv-indonesia/output_file/Talaga Bodas/Talaga Bodas_2023-05-18-16.mp4\n",
      "------------ Video to Frame/Image Conversion ------------\n",
      "berhasil hapus video file\n",
      "------------ Prediction Phase ------------\n",
      "Found 27 validated image filenames.\n",
      "2/2 [==============================] - 0s 71ms/step\n",
      "########## Selesai prediksi daerah : Talaga Bodas\n",
      "########## Akan download cctv daerah : Gatsu Lingkar\n",
      "sudah mau masuk iterasi\n",
      "downloading seg0.ts\n",
      "link download ts file: https://atcs-dishub.bandung.go.id:1990/GatsuLingkar/seg0.ts\n",
      "Downloaded file size: 42864 bytes\n",
      "sudah mau masuk iterasi\n",
      "downloading seg0.ts\n",
      "link download ts file: https://atcs-dishub.bandung.go.id:1990/GatsuLingkar/seg0.ts\n",
      "Downloaded file size: 42864 bytes\n",
      "sudah mau masuk iterasi\n",
      "downloading seg0.ts\n",
      "link download ts file: https://atcs-dishub.bandung.go.id:1990/GatsuLingkar/seg0.ts\n",
      "Downloaded file size: 42864 bytes\n",
      "Moviepy - Building video C:\\Users\\GE00000668\\Documents\\Scraping\\cctv-indonesia/ts_files\\seg0.mp4.\n",
      "Moviepy - Writing video C:\\Users\\GE00000668\\Documents\\Scraping\\cctv-indonesia/ts_files\\seg0.mp4\n",
      "\n"
     ]
    },
    {
     "name": "stderr",
     "output_type": "stream",
     "text": [
      "                                                                                                                       \r"
     ]
    },
    {
     "name": "stdout",
     "output_type": "stream",
     "text": [
      "Moviepy - Done !\n",
      "Moviepy - video ready C:\\Users\\GE00000668\\Documents\\Scraping\\cctv-indonesia/ts_files\\seg0.mp4\n",
      "######### seg0.ts converted into seg0.mp4 #########\n",
      "berhasil konversi ke mp4\n",
      "membuat file : Gatsu Lingkar_2023-05-18-16.mp4\n",
      "Moviepy - Building video C:\\Users\\GE00000668\\Documents\\Scraping\\cctv-indonesia/output_file/Gatsu Lingkar/Gatsu Lingkar_2023-05-18-16.mp4.\n",
      "Moviepy - Writing video C:\\Users\\GE00000668\\Documents\\Scraping\\cctv-indonesia/output_file/Gatsu Lingkar/Gatsu Lingkar_2023-05-18-16.mp4\n",
      "\n"
     ]
    },
    {
     "name": "stderr",
     "output_type": "stream",
     "text": [
      "                                                                                                                       \r"
     ]
    },
    {
     "name": "stdout",
     "output_type": "stream",
     "text": [
      "Moviepy - Done !\n",
      "Moviepy - video ready C:\\Users\\GE00000668\\Documents\\Scraping\\cctv-indonesia/output_file/Gatsu Lingkar/Gatsu Lingkar_2023-05-18-16.mp4\n",
      "------------ Video to Frame/Image Conversion ------------\n",
      "berhasil hapus video file\n",
      "------------ Prediction Phase ------------\n",
      "Found 4 validated image filenames.\n",
      "1/1 [==============================] - 0s 100ms/step\n",
      "########## Selesai prediksi daerah : Gatsu Lingkar\n"
     ]
    }
   ],
   "source": [
    "waktu_now = datetime.today().strftime(\"%Y-%m-%d-%H\")\n",
    "jam_kejadian = int(waktu_now[-2:])\n",
    "\n",
    "wadah_df = pd.DataFrame({\n",
    "    \"waktu_prediksi\": []\n",
    "    , \"daerah\" : []\n",
    "    , \"prediksi\": []\n",
    "})\n",
    "\n",
    "# Set up Google Sheets API credentials\n",
    "sa = gspread.service_account(filename = f\"{os.getcwd()}/bandung-cctv-mining-8f0fb1f6ae05.json\")\n",
    "client = sa.open('cctv-data-mining')\n",
    "\n",
    "for link in m3u8_urls[-3:]:\n",
    "    print(f\"########## Akan download cctv daerah : {link['name']}\")\n",
    "    \n",
    "    url_link = link['url']\n",
    "    \n",
    "    max_retries = 3\n",
    "    retry_wait_time = 5\n",
    "    \n",
    "    for trial in range(max_retries):\n",
    "        try:\n",
    "            r = requests.get(url_link, verify=False)\n",
    "            if r.status_code == 404:\n",
    "                print(f\"########## WARNING Daerah : {link['name']} tidak bisa diakses\")\n",
    "                continue\n",
    "            m3u8_master = m3u8.loads(r.text)\n",
    "\n",
    "            # print statement can be deleted, they were placed prior to debugging purposes.\n",
    "            ts_path = link['ts_path']\n",
    "            print('sudah mau masuk iterasi')\n",
    "            for seg in m3u8_master.data['segments']:\n",
    "                url = ts_path + seg['uri']\n",
    "                print(f'downloading {seg[\"uri\"]}')\n",
    "                download_file(url)  #download_file is a self made function\n",
    "                \n",
    "        except :\n",
    "            print(f\"HTTP error occurred, retrying in {retry_wait_time} seconds...\")\n",
    "            time.sleep(retry_wait_time)\n",
    "    \n",
    "    cur_path = os.getcwd()\n",
    "    ts_loc = cur_path + '/ts_files'\n",
    "    \n",
    "    ts_files = glob.glob(f\"{ts_loc}/*.ts\")\n",
    "    ts_files.sort()\n",
    "    \n",
    "    for ts in ts_files:\n",
    "        try:\n",
    "            mp4_conversion(ts)\n",
    "            print('berhasil konversi ke mp4')\n",
    "        except:\n",
    "            print(f'cannot convert {os.path.basename(ts)}')\n",
    "    \n",
    "    mp4_files = glob.glob(f\"{ts_loc}/*.mp4\")\n",
    "    mp4_files.sort()\n",
    "    \n",
    "    wadah_video = []\n",
    "    for vid in mp4_files:\n",
    "        func_vid = VideoFileClip(vid)\n",
    "        wadah_video += [func_vid]\n",
    "\n",
    "    # Concat them\n",
    "    try:\n",
    "        final = concatenate_videoclips(wadah_video)\n",
    "        daerah = link['name']\n",
    "        final_name = f'{daerah}_{waktu_now}.mp4'\n",
    "    except:\n",
    "        print(f\"Gagal dapat CCTV {link['name']}\")\n",
    "        continue\n",
    "    \n",
    "    # Write output to the file\n",
    "    output_path = f\"{cur_path}/output_file\"\n",
    "    namadaerah = f\"{link['name']}\"\n",
    "    folder_daerah = f\"{output_path}/{namadaerah}\"\n",
    "    \n",
    "    if not os.path.exists(f'{folder_daerah}'):\n",
    "        os.makedirs(f'{folder_daerah}')\n",
    "    \n",
    "    print(f'membuat file : {final_name}')\n",
    "    final.write_videofile(f'{folder_daerah}/{final_name}')\n",
    "    \n",
    "    for vid in mp4_files:\n",
    "        try:\n",
    "            os.remove(f\"{vid}\")\n",
    "        except:\n",
    "            print(f'cannot delete yet')\n",
    "    \n",
    "    for ts in glob.glob(f\"{ts_loc}/*.ts\"):\n",
    "        try:\n",
    "            os.unlink(ts)\n",
    "            os.remove(f\"{ts}\")\n",
    "            print('berhasil hapus ts file')\n",
    "        except:\n",
    "            pass\n",
    "        \n",
    "        \n",
    "    print(\"------------ Video to Frame/Image Conversion ------------\")\n",
    "    \n",
    "    video_path = f'{folder_daerah}/{final_name}'\n",
    "    output_pic = f\"{cur_path}/output_pic\"\n",
    "    folder_daerah_gambar = f\"{output_pic}/{daerah}\"\n",
    "\n",
    "    if not os.path.exists(f'{folder_daerah_gambar}'):\n",
    "        os.makedirs(f'{folder_daerah_gambar}')\n",
    "        os.makedirs(f'{folder_daerah_gambar}/1. Pagi')\n",
    "        os.makedirs(f'{folder_daerah_gambar}/2. Siang')\n",
    "        os.makedirs(f'{folder_daerah_gambar}/3. Sore')\n",
    "        os.makedirs(f'{folder_daerah_gambar}/4. Malam')\n",
    "        os.makedirs(f'{folder_daerah_gambar}/5. Dini Hari')\n",
    "        os.makedirs(f'{folder_daerah_gambar}/6. Subuh')\n",
    "\n",
    "    vidcap = cv2.VideoCapture(video_path)\n",
    "    \n",
    "    sec = 0\n",
    "    frameRate = 1 #//it will capture image in each 1 second\n",
    "\n",
    "    count = 1\n",
    "\n",
    "    if 6 <= jam_kejadian < 10:\n",
    "        last_path_pic = f\"{folder_daerah_gambar}/1. Pagi\"\n",
    "        while os.path.exists(f\"{folder_daerah_gambar}/1. Pagi/{daerah.lower()}_{waktu_now}_{count}.jpg\"):\n",
    "            count += 1\n",
    "    elif 11 <= jam_kejadian < 15:\n",
    "        last_path_pic = f\"{folder_daerah_gambar}/2. Siang\"\n",
    "        while os.path.exists(f\"{folder_daerah_gambar}/2. Siang/{daerah.lower()}_{waktu_now}_{count}.jpg\"):\n",
    "            count += 1\n",
    "    elif 15 <= jam_kejadian < 18:\n",
    "        last_path_pic = f\"{folder_daerah_gambar}/3. Sore\"\n",
    "        while os.path.exists(f\"{folder_daerah_gambar}/3. Sore/{daerah.lower()}_{waktu_now}_{count}.jpg\"):\n",
    "            count += 1\n",
    "    elif 18 <= jam_kejadian < 24:\n",
    "        last_path_pic = f\"{folder_daerah_gambar}/4. Malam\"\n",
    "        while os.path.exists(f\"{folder_daerah_gambar}/4. Malam/{daerah.lower()}_{waktu_now}_{count}.jpg\"):\n",
    "            count += 1\n",
    "    elif 0 <= jam_kejadian < 4:\n",
    "        last_path_pic = f\"{folder_daerah_gambar}/5. Dini Hari\"\n",
    "        while os.path.exists(f\"{folder_daerah_gambar}/5. Dini Hari/{daerah.lower()}_{waktu_now}_{count}.jpg\"):\n",
    "            count += 1\n",
    "    else :\n",
    "        last_path_pic = f\"{folder_daerah_gambar}/6. Subuh\"\n",
    "        while os.path.exists(f\"{folder_daerah_gambar}/6. Subuh/{daerah.lower()}_{waktu_now}_{count}.jpg\"):\n",
    "            count += 1\n",
    "\n",
    "    success = getFrame(sec, count)\n",
    "    initial = count\n",
    "\n",
    "    while success:\n",
    "        count += 1\n",
    "        sec = sec + frameRate\n",
    "        sec = round(sec, 2)\n",
    "        success = getFrame(sec, count)\n",
    "\n",
    "    vidcap.release()\n",
    "\n",
    "    try:\n",
    "        os.remove(f\"{video_path}\")\n",
    "        print('berhasil hapus video file')\n",
    "    except:\n",
    "        pass\n",
    "\n",
    "    #     PREDIKSI\n",
    "    print(\"------------ Prediction Phase ------------\")\n",
    "    \n",
    "    test_filenames = os.listdir(f\"{last_path_pic}\")\n",
    "    test_df = pd.DataFrame({\n",
    "        'filename': test_filenames\n",
    "    })\n",
    "    nb_samples = test_df.shape[0]\n",
    "\n",
    "    test_generator = test_gen.flow_from_dataframe(\n",
    "        test_df, \n",
    "        last_path_pic, \n",
    "        x_col='filename',\n",
    "        y_col=None,\n",
    "        class_mode=None,\n",
    "        target_size=IMAGE_SIZE,\n",
    "        batch_size=batch_size,\n",
    "        shuffle=False\n",
    "    )\n",
    "        \n",
    "    predict = model.predict(test_generator, steps=np.ceil(nb_samples/batch_size))\n",
    "    test_df['category_pred'] = np.argmax(predict, axis=-1)\n",
    "\n",
    "    label_map = {0: 'dry', 1: 'rain'}\n",
    "    test_df['category_pred'] = test_df['category_pred'].replace(label_map)\n",
    "    test_df['category_pred'] = test_df['category_pred'].replace({ 'rain': 1, 'dry': 0 })\n",
    "\n",
    "    input_df = pd.DataFrame({\n",
    "        \"waktu_prediksi\": [waktu_now]\n",
    "        , \"daerah\" : [namadaerah]\n",
    "        , \"prediksi\": np.round(np.average(test_df[\"category_pred\"].values))\n",
    "    })\n",
    "\n",
    "    wadah_df = wadah_df.append(input_df)\n",
    "    print(f\"########## Selesai prediksi daerah : {namadaerah}\")\n",
    "\n",
    "# Open the Google Sheet\n",
    "sheet = client.sheet1\n",
    "\n",
    "# Get the existing data from the Google Sheet\n",
    "data = sheet.get_all_values()\n",
    "\n",
    "# Convert the data to a pandas DataFrame\n",
    "existing_df = pd.DataFrame(data[1:], columns=data[0])\n",
    "\n",
    "# Identify non-existing rows based on the key columns\n",
    "existing_keys = set(existing_df[['waktu_prediksi', 'daerah']].apply(tuple, axis=1))\n",
    "non_existing_rows = wadah_df[~wadah_df[['waktu_prediksi', 'daerah']].apply(tuple, axis=1).isin(existing_keys)]\n",
    "\n",
    "# Insert non-existing rows into the Google Sheet\n",
    "for i, row in non_existing_rows.iterrows():\n",
    "    sheet.append_row(row.values.tolist())"
   ]
  }
 ],
 "metadata": {
  "kernelspec": {
   "display_name": "Python 3 (ipykernel)",
   "language": "python",
   "name": "python3"
  },
  "language_info": {
   "codemirror_mode": {
    "name": "ipython",
    "version": 3
   },
   "file_extension": ".py",
   "mimetype": "text/x-python",
   "name": "python",
   "nbconvert_exporter": "python",
   "pygments_lexer": "ipython3",
   "version": "3.9.13"
  }
 },
 "nbformat": 4,
 "nbformat_minor": 5
}
